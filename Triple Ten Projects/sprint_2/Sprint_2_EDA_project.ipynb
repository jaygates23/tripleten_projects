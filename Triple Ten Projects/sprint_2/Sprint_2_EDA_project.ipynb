{
 "cells": [
  {
   "cell_type": "markdown",
   "id": "dafcfda4-03ec-40b7-9a59-6e21ad6a2447",
   "metadata": {
    "id": "dafcfda4-03ec-40b7-9a59-6e21ad6a2447"
   },
   "source": [
    "# Instacart Market Basket Analysis"
   ]
  },
  {
   "cell_type": "markdown",
   "id": "21c31dcd",
   "metadata": {},
   "source": [
    "# 🛒 Instacart EDA Project Introduction\n",
    "\n",
    "A project introduction is crucial to provide context and clarity to your work. Please ensure to include this element in your future projects.\n",
    "\n",
    "## 🔍 Overview\n",
    "\n",
    "With the rise of on-demand grocery delivery services, companies like Instacart have accumulated large volumes of customer and order data. Understanding customer shopping behaviors can drive smarter recommendations, efficient inventory management, and better customer experiences. This project focuses on exploring Instacart’s grocery order dataset to uncover insights about user behavior and purchasing patterns.\n",
    "\n",
    "## 🎯 Project Objective\n",
    "\n",
    "The primary objective of this project is to clean, process, and analyze Instacart's transactional data to answer key business questions about when and how customers shop. The project will involve exploratory data analysis (EDA) to surface trends and patterns, supported by visualizations and descriptive summaries.\n",
    "\n",
    "## 📁 Dataset Description\n",
    "\n",
    "The analysis draws on five CSV files, each contributing a specific aspect of the customer-order-product ecosystem:\n",
    "\n",
    "- **`instacart_orders.csv`** – Information on customer orders, including order sequence, day of week, and order time.\n",
    "- **`order_products.csv`** – Details of individual items purchased per order, including whether they were reordered.\n",
    "- **`products.csv`** – Metadata on each product such as name, aisle, and department.\n",
    "- **`aisles.csv`** – Maps aisle IDs to aisle names.\n",
    "- **`departments.csv`** – Maps department IDs to department names.\n",
    "\n",
    "These datasets have been intentionally modified to include missing and duplicate values, simulating realistic data challenges. The original structure and distributions were preserved.\n",
    "\n",
    "## 🗺️ Project Strategy\n",
    "\n",
    "The project will follow these steps:\n",
    "\n",
    "1. **Data Loading & Inspection** – Import all datasets and inspect formatting issues and data types.\n",
    "2. **Data Cleaning & Preprocessing** – Address missing values, duplicates, and incorrect data types.\n",
    "3. **Exploratory Data Analysis (EDA)** – \n",
    "   - Analyze ordering behaviors by time and frequency.\n",
    "   - Investigate product popularity and reorder trends.\n",
    "   - Explore customer-level ordering patterns.\n",
    "4. **Visualization & Interpretation** – Use plots with clear titles, labels, and legends to support insights.\n",
    "5. **Summary of Findings** – Conclude with key takeaways that could inform business decisions.\n",
    "\n",
    "---\n",
    "\n",
    "By the end of this project, we aim to deliver a clean dataset and a set of actionable insights into Instacart’s customer behavior, all communicated clearly through well-documented code and visualizations.\n",
    "\n"
   ]
  },
  {
   "cell_type": "markdown",
   "id": "7c513406-9b90-479c-ab2f-a02f79ade6fc",
   "metadata": {
    "id": "7c513406-9b90-479c-ab2f-a02f79ade6fc"
   },
   "source": [
    "## Importing the required libraries"
   ]
  },
  {
   "cell_type": "code",
   "execution_count": 1,
   "id": "fbf1adab",
   "metadata": {
    "id": "fbf1adab"
   },
   "outputs": [],
   "source": [
    "# Import the libraries you'll need for this analysis\n",
    "import pandas as pd\n",
    "import matplotlib.pyplot as plt\n",
    "import numpy as np"
   ]
  },
  {
   "cell_type": "code",
   "execution_count": 2,
   "id": "fe188ef3-27b2-4825-b955-232cdd326307",
   "metadata": {
    "id": "fe188ef3-27b2-4825-b955-232cdd326307"
   },
   "outputs": [],
   "source": [
    "# Load the datasets\n",
    "# Note: These files use semicolon (;) as the separator instead of comma\n",
    "orders         = pd.read_csv('/datasets/instacart_orders.csv', sep=';')\n",
    "products       = pd.read_csv('/datasets/products.csv', sep=';')\n",
    "departments    = pd.read_csv('/datasets/departments.csv', sep=';')\n",
    "aisles         = pd.read_csv('/datasets/aisles.csv', sep=';')\n",
    "order_products = pd.read_csv('/datasets/order_products.csv', sep=';')"
   ]
  },
  {
   "cell_type": "markdown",
   "id": "9a38987c-bf93-4219-b61a-d31781438c8e",
   "metadata": {
    "id": "9a38987c-bf93-4219-b61a-d31781438c8e"
   },
   "source": [
    "## Analyze your data"
   ]
  },
  {
   "cell_type": "markdown",
   "id": "04d4b1a9-a75f-4c89-a297-3a6002b0e53d",
   "metadata": {
    "id": "04d4b1a9-a75f-4c89-a297-3a6002b0e53d"
   },
   "source": [
    "In the cells below, display the datasets using `.info()` and `.head()` to gain insights into their structure and content.\n",
    "\n",
    "- `.info()`: Provides a concise summary of the dataset, including the data types, non-null counts, and memory usage.\n",
    "- `.head()`: Displays the first few rows of the dataset, offering a quick overview of the data values."
   ]
  },
  {
   "cell_type": "code",
   "execution_count": 3,
   "id": "10cc6096-d5ba-40b9-ba42-967e2fb7dec1",
   "metadata": {
    "id": "10cc6096-d5ba-40b9-ba42-967e2fb7dec1"
   },
   "outputs": [
    {
     "data": {
      "text/html": [
       "<div>\n",
       "<style scoped>\n",
       "    .dataframe tbody tr th:only-of-type {\n",
       "        vertical-align: middle;\n",
       "    }\n",
       "\n",
       "    .dataframe tbody tr th {\n",
       "        vertical-align: top;\n",
       "    }\n",
       "\n",
       "    .dataframe thead th {\n",
       "        text-align: right;\n",
       "    }\n",
       "</style>\n",
       "<table border=\"1\" class=\"dataframe\">\n",
       "  <thead>\n",
       "    <tr style=\"text-align: right;\">\n",
       "      <th></th>\n",
       "      <th>order_id</th>\n",
       "      <th>user_id</th>\n",
       "      <th>order_number</th>\n",
       "      <th>order_dow</th>\n",
       "      <th>order_hour_of_day</th>\n",
       "      <th>days_since_prior_order</th>\n",
       "    </tr>\n",
       "  </thead>\n",
       "  <tbody>\n",
       "    <tr>\n",
       "      <th>0</th>\n",
       "      <td>1515936</td>\n",
       "      <td>183418</td>\n",
       "      <td>11</td>\n",
       "      <td>6</td>\n",
       "      <td>13</td>\n",
       "      <td>30.0</td>\n",
       "    </tr>\n",
       "    <tr>\n",
       "      <th>1</th>\n",
       "      <td>1690866</td>\n",
       "      <td>163593</td>\n",
       "      <td>5</td>\n",
       "      <td>5</td>\n",
       "      <td>12</td>\n",
       "      <td>9.0</td>\n",
       "    </tr>\n",
       "    <tr>\n",
       "      <th>2</th>\n",
       "      <td>1454967</td>\n",
       "      <td>39980</td>\n",
       "      <td>4</td>\n",
       "      <td>5</td>\n",
       "      <td>19</td>\n",
       "      <td>2.0</td>\n",
       "    </tr>\n",
       "    <tr>\n",
       "      <th>3</th>\n",
       "      <td>1768857</td>\n",
       "      <td>82516</td>\n",
       "      <td>56</td>\n",
       "      <td>0</td>\n",
       "      <td>20</td>\n",
       "      <td>10.0</td>\n",
       "    </tr>\n",
       "    <tr>\n",
       "      <th>4</th>\n",
       "      <td>3007858</td>\n",
       "      <td>196724</td>\n",
       "      <td>2</td>\n",
       "      <td>4</td>\n",
       "      <td>12</td>\n",
       "      <td>17.0</td>\n",
       "    </tr>\n",
       "    <tr>\n",
       "      <th>...</th>\n",
       "      <td>...</td>\n",
       "      <td>...</td>\n",
       "      <td>...</td>\n",
       "      <td>...</td>\n",
       "      <td>...</td>\n",
       "      <td>...</td>\n",
       "    </tr>\n",
       "    <tr>\n",
       "      <th>478962</th>\n",
       "      <td>3210681</td>\n",
       "      <td>5617</td>\n",
       "      <td>5</td>\n",
       "      <td>1</td>\n",
       "      <td>14</td>\n",
       "      <td>7.0</td>\n",
       "    </tr>\n",
       "    <tr>\n",
       "      <th>478963</th>\n",
       "      <td>3270802</td>\n",
       "      <td>112087</td>\n",
       "      <td>2</td>\n",
       "      <td>3</td>\n",
       "      <td>13</td>\n",
       "      <td>6.0</td>\n",
       "    </tr>\n",
       "    <tr>\n",
       "      <th>478964</th>\n",
       "      <td>885349</td>\n",
       "      <td>82944</td>\n",
       "      <td>16</td>\n",
       "      <td>2</td>\n",
       "      <td>11</td>\n",
       "      <td>6.0</td>\n",
       "    </tr>\n",
       "    <tr>\n",
       "      <th>478965</th>\n",
       "      <td>216274</td>\n",
       "      <td>4391</td>\n",
       "      <td>3</td>\n",
       "      <td>3</td>\n",
       "      <td>8</td>\n",
       "      <td>8.0</td>\n",
       "    </tr>\n",
       "    <tr>\n",
       "      <th>478966</th>\n",
       "      <td>2071924</td>\n",
       "      <td>1730</td>\n",
       "      <td>18</td>\n",
       "      <td>1</td>\n",
       "      <td>14</td>\n",
       "      <td>15.0</td>\n",
       "    </tr>\n",
       "  </tbody>\n",
       "</table>\n",
       "<p>478967 rows × 6 columns</p>\n",
       "</div>"
      ],
      "text/plain": [
       "        order_id  user_id  order_number  order_dow  order_hour_of_day  \\\n",
       "0        1515936   183418            11          6                 13   \n",
       "1        1690866   163593             5          5                 12   \n",
       "2        1454967    39980             4          5                 19   \n",
       "3        1768857    82516            56          0                 20   \n",
       "4        3007858   196724             2          4                 12   \n",
       "...          ...      ...           ...        ...                ...   \n",
       "478962   3210681     5617             5          1                 14   \n",
       "478963   3270802   112087             2          3                 13   \n",
       "478964    885349    82944            16          2                 11   \n",
       "478965    216274     4391             3          3                  8   \n",
       "478966   2071924     1730            18          1                 14   \n",
       "\n",
       "        days_since_prior_order  \n",
       "0                         30.0  \n",
       "1                          9.0  \n",
       "2                          2.0  \n",
       "3                         10.0  \n",
       "4                         17.0  \n",
       "...                        ...  \n",
       "478962                     7.0  \n",
       "478963                     6.0  \n",
       "478964                     6.0  \n",
       "478965                     8.0  \n",
       "478966                    15.0  \n",
       "\n",
       "[478967 rows x 6 columns]"
      ]
     },
     "execution_count": 3,
     "metadata": {},
     "output_type": "execute_result"
    }
   ],
   "source": [
    "# In this cell, type \"orders\" below this line and execute the cell\n",
    "orders\n"
   ]
  },
  {
   "cell_type": "code",
   "execution_count": 4,
   "id": "5130e05e",
   "metadata": {
    "id": "5130e05e"
   },
   "outputs": [
    {
     "data": {
      "text/html": [
       "<div>\n",
       "<style scoped>\n",
       "    .dataframe tbody tr th:only-of-type {\n",
       "        vertical-align: middle;\n",
       "    }\n",
       "\n",
       "    .dataframe tbody tr th {\n",
       "        vertical-align: top;\n",
       "    }\n",
       "\n",
       "    .dataframe thead th {\n",
       "        text-align: right;\n",
       "    }\n",
       "</style>\n",
       "<table border=\"1\" class=\"dataframe\">\n",
       "  <thead>\n",
       "    <tr style=\"text-align: right;\">\n",
       "      <th></th>\n",
       "      <th>product_id</th>\n",
       "      <th>product_name</th>\n",
       "      <th>aisle_id</th>\n",
       "      <th>department_id</th>\n",
       "    </tr>\n",
       "  </thead>\n",
       "  <tbody>\n",
       "    <tr>\n",
       "      <th>0</th>\n",
       "      <td>1</td>\n",
       "      <td>Chocolate Sandwich Cookies</td>\n",
       "      <td>61</td>\n",
       "      <td>19</td>\n",
       "    </tr>\n",
       "    <tr>\n",
       "      <th>1</th>\n",
       "      <td>2</td>\n",
       "      <td>All-Seasons Salt</td>\n",
       "      <td>104</td>\n",
       "      <td>13</td>\n",
       "    </tr>\n",
       "    <tr>\n",
       "      <th>2</th>\n",
       "      <td>3</td>\n",
       "      <td>Robust Golden Unsweetened Oolong Tea</td>\n",
       "      <td>94</td>\n",
       "      <td>7</td>\n",
       "    </tr>\n",
       "    <tr>\n",
       "      <th>3</th>\n",
       "      <td>4</td>\n",
       "      <td>Smart Ones Classic Favorites Mini Rigatoni Wit...</td>\n",
       "      <td>38</td>\n",
       "      <td>1</td>\n",
       "    </tr>\n",
       "    <tr>\n",
       "      <th>4</th>\n",
       "      <td>5</td>\n",
       "      <td>Green Chile Anytime Sauce</td>\n",
       "      <td>5</td>\n",
       "      <td>13</td>\n",
       "    </tr>\n",
       "    <tr>\n",
       "      <th>...</th>\n",
       "      <td>...</td>\n",
       "      <td>...</td>\n",
       "      <td>...</td>\n",
       "      <td>...</td>\n",
       "    </tr>\n",
       "    <tr>\n",
       "      <th>49689</th>\n",
       "      <td>49690</td>\n",
       "      <td>HIGH PERFORMANCE ENERGY DRINK</td>\n",
       "      <td>64</td>\n",
       "      <td>7</td>\n",
       "    </tr>\n",
       "    <tr>\n",
       "      <th>49690</th>\n",
       "      <td>49691</td>\n",
       "      <td>ORIGINAL PANCAKE &amp; WAFFLE MIX</td>\n",
       "      <td>130</td>\n",
       "      <td>14</td>\n",
       "    </tr>\n",
       "    <tr>\n",
       "      <th>49691</th>\n",
       "      <td>49692</td>\n",
       "      <td>ORGANIC INSTANT OATMEAL LIGHT MAPLE BROWN SUGAR</td>\n",
       "      <td>130</td>\n",
       "      <td>14</td>\n",
       "    </tr>\n",
       "    <tr>\n",
       "      <th>49692</th>\n",
       "      <td>49693</td>\n",
       "      <td>SPRING WATER BODY WASH</td>\n",
       "      <td>127</td>\n",
       "      <td>11</td>\n",
       "    </tr>\n",
       "    <tr>\n",
       "      <th>49693</th>\n",
       "      <td>49694</td>\n",
       "      <td>BURRITO- STEAK &amp; CHEESE</td>\n",
       "      <td>38</td>\n",
       "      <td>1</td>\n",
       "    </tr>\n",
       "  </tbody>\n",
       "</table>\n",
       "<p>49694 rows × 4 columns</p>\n",
       "</div>"
      ],
      "text/plain": [
       "       product_id                                       product_name  \\\n",
       "0               1                         Chocolate Sandwich Cookies   \n",
       "1               2                                   All-Seasons Salt   \n",
       "2               3               Robust Golden Unsweetened Oolong Tea   \n",
       "3               4  Smart Ones Classic Favorites Mini Rigatoni Wit...   \n",
       "4               5                          Green Chile Anytime Sauce   \n",
       "...           ...                                                ...   \n",
       "49689       49690                      HIGH PERFORMANCE ENERGY DRINK   \n",
       "49690       49691                      ORIGINAL PANCAKE & WAFFLE MIX   \n",
       "49691       49692    ORGANIC INSTANT OATMEAL LIGHT MAPLE BROWN SUGAR   \n",
       "49692       49693                             SPRING WATER BODY WASH   \n",
       "49693       49694                            BURRITO- STEAK & CHEESE   \n",
       "\n",
       "       aisle_id  department_id  \n",
       "0            61             19  \n",
       "1           104             13  \n",
       "2            94              7  \n",
       "3            38              1  \n",
       "4             5             13  \n",
       "...         ...            ...  \n",
       "49689        64              7  \n",
       "49690       130             14  \n",
       "49691       130             14  \n",
       "49692       127             11  \n",
       "49693        38              1  \n",
       "\n",
       "[49694 rows x 4 columns]"
      ]
     },
     "execution_count": 4,
     "metadata": {},
     "output_type": "execute_result"
    }
   ],
   "source": [
    "# In this cell, type \"products\" below this line and execute the cell\n",
    "products"
   ]
  },
  {
   "cell_type": "markdown",
   "id": "5143e30d-f791-4596-b1f2-3c64cf8d2243",
   "metadata": {
    "id": "5143e30d-f791-4596-b1f2-3c64cf8d2243"
   },
   "source": [
    "Repeat this process for each dataset to understand the structure, including the types of columns and rows they contain. Add additional code cells as needed for your analysis."
   ]
  },
  {
   "cell_type": "code",
   "execution_count": 5,
   "id": "d8370c05",
   "metadata": {
    "id": "d8370c05"
   },
   "outputs": [
    {
     "name": "stdout",
     "output_type": "stream",
     "text": [
      "<class 'pandas.core.frame.DataFrame'>\n",
      "RangeIndex: 478967 entries, 0 to 478966\n",
      "Data columns (total 6 columns):\n",
      " #   Column                  Non-Null Count   Dtype  \n",
      "---  ------                  --------------   -----  \n",
      " 0   order_id                478967 non-null  int64  \n",
      " 1   user_id                 478967 non-null  int64  \n",
      " 2   order_number            478967 non-null  int64  \n",
      " 3   order_dow               478967 non-null  int64  \n",
      " 4   order_hour_of_day       478967 non-null  int64  \n",
      " 5   days_since_prior_order  450148 non-null  float64\n",
      "dtypes: float64(1), int64(5)\n",
      "memory usage: 21.9 MB\n"
     ]
    }
   ],
   "source": [
    "# In this cell, type \"orders.info() below this line and execute the cell\n",
    "orders.info()"
   ]
  },
  {
   "cell_type": "markdown",
   "id": "73bc6c88-e73f-4d53-b887-5ee6b5e6c570",
   "metadata": {
    "id": "73bc6c88-e73f-4d53-b887-5ee6b5e6c570"
   },
   "source": [
    "The \"Non-Null Count\" column provides information about any missing values in each column of the dataset. With a total of 478,967 entries, observe any columns where the non-null count is less than this number to identify missing values."
   ]
  },
  {
   "cell_type": "code",
   "execution_count": 6,
   "id": "59e2090f",
   "metadata": {
    "id": "59e2090f"
   },
   "outputs": [
    {
     "name": "stdout",
     "output_type": "stream",
     "text": [
      "<class 'pandas.core.frame.DataFrame'>\n",
      "RangeIndex: 4545007 entries, 0 to 4545006\n",
      "Data columns (total 4 columns):\n",
      " #   Column             Non-Null Count    Dtype  \n",
      "---  ------             --------------    -----  \n",
      " 0   order_id           4545007 non-null  int64  \n",
      " 1   product_id         4545007 non-null  int64  \n",
      " 2   add_to_cart_order  4544171 non-null  float64\n",
      " 3   reordered          4545007 non-null  int64  \n",
      "dtypes: float64(1), int64(3)\n",
      "memory usage: 138.7 MB\n"
     ]
    }
   ],
   "source": [
    "# In this cell, run orders_products.info() below, but include the argument show_counts=True since this is a large file.\n",
    "order_products.info(show_counts=True)"
   ]
  },
  {
   "cell_type": "markdown",
   "id": "3360e4ce-723c-45bd-8998-ca2f1db53349",
   "metadata": {
    "id": "3360e4ce-723c-45bd-8998-ca2f1db53349"
   },
   "source": [
    "Repeat the use of .info() on the remaining datasets to identify missing values and understand their structure. Check the \"Non-Null Count\" for each dataset to spot any columns with missing values."
   ]
  },
  {
   "cell_type": "code",
   "execution_count": 7,
   "id": "7e6776e4",
   "metadata": {},
   "outputs": [
    {
     "name": "stdout",
     "output_type": "stream",
     "text": [
      "<class 'pandas.core.frame.DataFrame'>\n",
      "RangeIndex: 49694 entries, 0 to 49693\n",
      "Data columns (total 4 columns):\n",
      " #   Column         Non-Null Count  Dtype \n",
      "---  ------         --------------  ----- \n",
      " 0   product_id     49694 non-null  int64 \n",
      " 1   product_name   48436 non-null  object\n",
      " 2   aisle_id       49694 non-null  int64 \n",
      " 3   department_id  49694 non-null  int64 \n",
      "dtypes: int64(3), object(1)\n",
      "memory usage: 1.5+ MB\n",
      "\n",
      "<class 'pandas.core.frame.DataFrame'>\n",
      "RangeIndex: 21 entries, 0 to 20\n",
      "Data columns (total 2 columns):\n",
      " #   Column         Non-Null Count  Dtype \n",
      "---  ------         --------------  ----- \n",
      " 0   department_id  21 non-null     int64 \n",
      " 1   department     21 non-null     object\n",
      "dtypes: int64(1), object(1)\n",
      "memory usage: 464.0+ bytes\n",
      "\n",
      "<class 'pandas.core.frame.DataFrame'>\n",
      "RangeIndex: 134 entries, 0 to 133\n",
      "Data columns (total 2 columns):\n",
      " #   Column    Non-Null Count  Dtype \n",
      "---  ------    --------------  ----- \n",
      " 0   aisle_id  134 non-null    int64 \n",
      " 1   aisle     134 non-null    object\n",
      "dtypes: int64(1), object(1)\n",
      "memory usage: 2.2+ KB\n"
     ]
    }
   ],
   "source": [
    "products.info()\n",
    "print()\n",
    "departments.info()\n",
    "print()\n",
    "aisles.info()"
   ]
  },
  {
   "cell_type": "markdown",
   "id": "1e46de76",
   "metadata": {
    "id": "1e46de76"
   },
   "source": [
    "## Find and Remove Missing Values\n",
    "\n",
    "We noticed that some columns contain missing values.\n",
    "\n",
    "Here are some useful code snippets:\n",
    "\n",
    "```python\n",
    "# Identify missing values in each column\n",
    "print(dataset.isnull().sum())\n",
    "\n",
    "# Display rows where a specific column has missing values\n",
    "print(dataset[dataset['column_name'].isna()])\n",
    "\n",
    "# Confirm no missing values remain\n",
    "print(dataset.isnull().sum())\n",
    "```"
   ]
  },
  {
   "cell_type": "markdown",
   "id": "c0aebd78",
   "metadata": {
    "id": "c0aebd78"
   },
   "source": [
    "### `products` Data Frame\n",
    "\n",
    "We will begin by addressing the missing values in the `products` data frame."
   ]
  },
  {
   "cell_type": "code",
   "execution_count": 8,
   "id": "fe4a8b0f",
   "metadata": {
    "id": "fe4a8b0f",
    "scrolled": true
   },
   "outputs": [
    {
     "name": "stdout",
     "output_type": "stream",
     "text": [
      "       product_id product_name  aisle_id  department_id\n",
      "37             38          NaN       100             21\n",
      "71             72          NaN       100             21\n",
      "109           110          NaN       100             21\n",
      "296           297          NaN       100             21\n",
      "416           417          NaN       100             21\n",
      "...           ...          ...       ...            ...\n",
      "49552       49553          NaN       100             21\n",
      "49574       49575          NaN       100             21\n",
      "49640       49641          NaN       100             21\n",
      "49663       49664          NaN       100             21\n",
      "49668       49669          NaN       100             21\n",
      "\n",
      "[1258 rows x 4 columns]\n"
     ]
    }
   ],
   "source": [
    "# Display rows where the product_name column has missing values\n",
    "view_missing_prod_name = products[products['product_name'].isna()]\n",
    "view_missing_prod_name"
   ]
  },
  {
   "cell_type": "markdown",
   "id": "b077fb59-f1f2-4390-a2bd-cdccadd5a747",
   "metadata": {
    "id": "b077fb59-f1f2-4390-a2bd-cdccadd5a747"
   },
   "source": [
    "It seems suspicious that all rows with missing `product_name` might be associated with `aisle_id` 100 and `department_id` 21. Let’s verify this by checking if any rows with missing `product_name` have an `aisle_id` different from 100 and 21. This will help us confirm if the issue is isolated to this aisle or spread across others."
   ]
  },
  {
   "cell_type": "code",
   "execution_count": 9,
   "id": "e96167bc",
   "metadata": {
    "id": "e96167bc"
   },
   "outputs": [
    {
     "name": "stdout",
     "output_type": "stream",
     "text": [
      "Empty DataFrame\n",
      "Columns: [product_id, product_name, aisle_id, department_id]\n",
      "Index: []\n"
     ]
    }
   ],
   "source": [
    "# Combine conditions to check for missing product names in aisles other than 100\n",
    "verify_condition_aisles = view_missing_prod_name[view_missing_prod_name['aisle_id']!=100]\n",
    "print(verify_condition_aisles)"
   ]
  },
  {
   "cell_type": "code",
   "execution_count": 10,
   "id": "8fd0a541",
   "metadata": {
    "id": "8fd0a541"
   },
   "outputs": [
    {
     "name": "stdout",
     "output_type": "stream",
     "text": [
      "Empty DataFrame\n",
      "Columns: [product_id, product_name, aisle_id, department_id]\n",
      "Index: []\n"
     ]
    }
   ],
   "source": [
    "# Combine conditions to check for missing product names in departments other than 21\n",
    "verify_condition_department = view_missing_prod_name[view_missing_prod_name['department_id']!=21]\n",
    "print(verify_condition_department)"
   ]
  },
  {
   "cell_type": "markdown",
   "id": "2c74c53f-a139-4d83-9be9-628fca74ce7c",
   "metadata": {
    "id": "2c74c53f-a139-4d83-9be9-628fca74ce7c"
   },
   "source": [
    "To better understand the missing product_name values, let’s determine what department_id 21 and aisle_id 100 represent by referencing the departments and aisles tables."
   ]
  },
  {
   "cell_type": "code",
   "execution_count": 11,
   "id": "325c3464",
   "metadata": {
    "id": "325c3464"
   },
   "outputs": [
    {
     "name": "stdout",
     "output_type": "stream",
     "text": [
      "    department_id department\n",
      "20             21    missing\n",
      "\n",
      "    aisle_id    aisle\n",
      "99       100  missing\n"
     ]
    }
   ],
   "source": [
    "# What is this aisle and department?\n",
    "research_department = departments[departments['department_id']==21]\n",
    "research_aisle = aisles[aisles['aisle_id']==100]\n",
    "print(research_department)\n",
    "print()\n",
    "print(research_aisle)"
   ]
  },
  {
   "cell_type": "code",
   "execution_count": 12,
   "id": "6b295120",
   "metadata": {
    "id": "6b295120"
   },
   "outputs": [
    {
     "name": "stdout",
     "output_type": "stream",
     "text": [
      "<class 'pandas.core.frame.DataFrame'>\n",
      "RangeIndex: 49694 entries, 0 to 49693\n",
      "Data columns (total 4 columns):\n",
      " #   Column         Non-Null Count  Dtype \n",
      "---  ------         --------------  ----- \n",
      " 0   product_id     49694 non-null  int64 \n",
      " 1   product_name   49694 non-null  object\n",
      " 2   aisle_id       49694 non-null  int64 \n",
      " 3   department_id  49694 non-null  int64 \n",
      "dtypes: int64(3), object(1)\n",
      "memory usage: 1.5+ MB\n"
     ]
    }
   ],
   "source": [
    "# Fill missing product names with 'Unknown'\n",
    "products['product_name'].fillna(value= 'Unknown', inplace=True)\n",
    "products.info()"
   ]
  },
  {
   "cell_type": "markdown",
   "id": "7eb45c86",
   "metadata": {
    "id": "7eb45c86"
   },
   "source": [
    "### `orders` data frame\n",
    "\n",
    "Now let's fill in missing values from the `orders` table."
   ]
  },
  {
   "cell_type": "code",
   "execution_count": 13,
   "id": "93e41d96",
   "metadata": {
    "id": "93e41d96"
   },
   "outputs": [
    {
     "name": "stdout",
     "output_type": "stream",
     "text": [
      "        order_id  user_id  order_number  order_dow  order_hour_of_day  \\\n",
      "28        133707   182261             1          3                 10   \n",
      "96        787445    25685             1          6                 18   \n",
      "100       294410   111449             1          0                 19   \n",
      "103      2869915   123958             1          4                 16   \n",
      "104      2521921    42286             1          3                 18   \n",
      "...          ...      ...           ...        ...                ...   \n",
      "478895   2589657   205028             1          0                 16   \n",
      "478896   2222353   141211             1          2                 13   \n",
      "478922   2272807   204154             1          1                 15   \n",
      "478926   2499542    68810             1          4                 19   \n",
      "478945   1387033    22496             1          5                 14   \n",
      "\n",
      "        days_since_prior_order  \n",
      "28                         NaN  \n",
      "96                         NaN  \n",
      "100                        NaN  \n",
      "103                        NaN  \n",
      "104                        NaN  \n",
      "...                        ...  \n",
      "478895                     NaN  \n",
      "478896                     NaN  \n",
      "478922                     NaN  \n",
      "478926                     NaN  \n",
      "478945                     NaN  \n",
      "\n",
      "[28819 rows x 6 columns]\n"
     ]
    }
   ],
   "source": [
    "# Display rows where the days_since_prior_order column has missing values\n",
    "view_missing_ds_pr_order = orders[orders['days_since_prior_order'].isna()]\n",
    "print(view_missing_ds_pr_order)"
   ]
  },
  {
   "cell_type": "code",
   "execution_count": 14,
   "id": "166e5a86",
   "metadata": {
    "id": "166e5a86"
   },
   "outputs": [
    {
     "name": "stdout",
     "output_type": "stream",
     "text": [
      "Empty DataFrame\n",
      "Columns: [order_id, user_id, order_number, order_dow, order_hour_of_day, days_since_prior_order]\n",
      "Index: []\n"
     ]
    }
   ],
   "source": [
    "# Are there any missing values where it's not a customer's first order?\n",
    "verify_first_order = view_missing_ds_pr_order[view_missing_ds_pr_order['order_number']>1]\n",
    "print(verify_first_order)"
   ]
  },
  {
   "cell_type": "markdown",
   "id": "4e23d089",
   "metadata": {
    "id": "4e23d089"
   },
   "source": [
    "All of the missing `'days_since_prior_order'` values correspond to a customer's first ever order. This makes sense because there is no prior order! We'll leave the values as `NaN` so the column can remain numeric. Also, the `NaN` values shouldn't interfere with any calculations we might do using this column."
   ]
  },
  {
   "cell_type": "markdown",
   "id": "69dc9ca4",
   "metadata": {
    "id": "69dc9ca4"
   },
   "source": [
    "### `order_products` data frame\n",
    "\n",
    "Now let's fill in missing values from the order_products table."
   ]
  },
  {
   "cell_type": "code",
   "execution_count": 15,
   "id": "b8240253",
   "metadata": {
    "id": "b8240253"
   },
   "outputs": [
    {
     "name": "stdout",
     "output_type": "stream",
     "text": [
      "         order_id  product_id  add_to_cart_order  reordered\n",
      "737       2449164        5068                NaN          0\n",
      "9926      1968313       43867                NaN          0\n",
      "14394     2926893       11688                NaN          0\n",
      "16418     1717990        4142                NaN          0\n",
      "30114     1959075       42828                NaN          1\n",
      "...           ...         ...                ...        ...\n",
      "4505662   1800005        7411                NaN          0\n",
      "4511400   1633337         260                NaN          0\n",
      "4517562    404157        9517                NaN          0\n",
      "4534112   1673227       17835                NaN          0\n",
      "4535739   1832957       17949                NaN          1\n",
      "\n",
      "[836 rows x 4 columns]\n"
     ]
    }
   ],
   "source": [
    "# Display rows where the add_to_cart_order column has missing values\n",
    "view_missing_at_cart = order_products[order_products['add_to_cart_order'].isna()]\n",
    "print(view_missing_at_cart)"
   ]
  },
  {
   "cell_type": "code",
   "execution_count": 16,
   "id": "9a78e5ee",
   "metadata": {
    "id": "9a78e5ee"
   },
   "outputs": [
    {
     "name": "stdout",
     "output_type": "stream",
     "text": [
      "The minimum and maximum values for this column are: 1.0 , 64.0 \n"
     ]
    }
   ],
   "source": [
    "# Use .min() and .max() to find the minimum and maximum values for this column.\n",
    "min_max = [order_products['add_to_cart_order'].min(), \n",
    "           order_products['add_to_cart_order'].max()]\n",
    "print(f\"The minimum and maximum values for this column are: {min_max[0]} , {min_max[1]} \")"
   ]
  },
  {
   "cell_type": "code",
   "execution_count": 17,
   "id": "ab9d0c2b",
   "metadata": {
    "id": "ab9d0c2b"
   },
   "outputs": [
    {
     "name": "stdout",
     "output_type": "stream",
     "text": [
      "[2449164 1968313 2926893 1717990 1959075  844733   61355  936852  264710\n",
      " 1564093  129627  293169 2849370 1386261 3308010  903110 2136777 3347453\n",
      " 1888628  165801 2094761 1038146 2997021  813364 2256933  171934 2409109\n",
      " 1730767 1169835  733526  404157 3125735  747668 1800005 1961723  871281\n",
      "  388234 1648217 1477139  102236 1021563 1832957 2721963  678116 1220886\n",
      " 1673227 2999801 1633337 2470674 2625444 1677118 2479011 3383594 1183255\n",
      " 1713430 2652650 1598369 1916118  854647 1302315  888470  180546 2621907\n",
      " 1308785 2729254    9310 2170451 2979697 1625713 1529171]\n"
     ]
    }
   ],
   "source": [
    "# Save all order IDs with at least one missing value in 'add_to_cart_order'\n",
    "verify_ids = view_missing_at_cart['order_id'].unique()\n",
    "print(verify_ids)"
   ]
  },
  {
   "cell_type": "code",
   "execution_count": 18,
   "id": "54c31695",
   "metadata": {
    "id": "54c31695"
   },
   "outputs": [
    {
     "name": "stdout",
     "output_type": "stream",
     "text": [
      "9310        65\n",
      "2652650     65\n",
      "1677118     65\n",
      "2621907     65\n",
      "1598369     65\n",
      "          ... \n",
      "1959075     98\n",
      "171934     104\n",
      "2136777    108\n",
      "3308010    115\n",
      "61355      127\n",
      "Name: order_id, Length: 70, dtype: int64\n",
      "\n",
      "         order_id  product_id  add_to_cart_order  reordered\n",
      "76044     1386261       31847               64.0          0\n",
      "154176     854647       22922               64.0          0\n",
      "177733    3383594        7970               64.0          0\n",
      "213282    2470674       30257               64.0          0\n",
      "233518    1968313         495               64.0          1\n",
      "...           ...         ...                ...        ...\n",
      "4148751   2999801       24722               64.0          1\n",
      "4235552   3308010        3888               64.0          1\n",
      "4409436    747668       31268               64.0          0\n",
      "4419785   1633337          34               64.0          0\n",
      "4432234      9310       21332               64.0          0\n",
      "\n",
      "[70 rows x 4 columns]\n",
      "\n",
      "All orders have a max numeric value of 64 products in cart and minimum of 65 occurences.\n",
      "All orders have more than 64 products.\n"
     ]
    }
   ],
   "source": [
    "# Do all orders with missing values have more than 64 products?\n",
    "df_filtered = order_products.query(\"order_id in @verify_ids\")\n",
    "print(df_filtered['order_id'].value_counts(ascending= True))\n",
    "df_filtered2 = order_products.query(\"order_id in @verify_ids and add_to_cart_order >= 64 \")\n",
    "print()\n",
    "print(df_filtered2) \n",
    "print()\n",
    "print(\"All orders have a max numeric value of 64 products in cart and minimum of 65 occurences.\")\n",
    "print(\"All orders have more than 64 products.\")"
   ]
  },
  {
   "cell_type": "code",
   "execution_count": 19,
   "id": "7a987d08",
   "metadata": {
    "id": "7a987d08"
   },
   "outputs": [
    {
     "name": "stdout",
     "output_type": "stream",
     "text": [
      "<class 'pandas.core.frame.DataFrame'>\n",
      "RangeIndex: 4545007 entries, 0 to 4545006\n",
      "Data columns (total 4 columns):\n",
      " #   Column             Non-Null Count    Dtype\n",
      "---  ------             --------------    -----\n",
      " 0   order_id           4545007 non-null  int64\n",
      " 1   product_id         4545007 non-null  int64\n",
      " 2   add_to_cart_order  4545007 non-null  int64\n",
      " 3   reordered          4545007 non-null  int64\n",
      "dtypes: int64(4)\n",
      "memory usage: 138.7 MB\n"
     ]
    }
   ],
   "source": [
    "# Replace missing values with 999 and convert column to integer type\n",
    "order_products['add_to_cart_order'] = order_products['add_to_cart_order'].fillna(999)\n",
    "order_products['add_to_cart_order'] = order_products['add_to_cart_order'].astype('int')\n",
    "\n",
    "\n",
    "\n",
    "order_products.info(show_counts=True)"
   ]
  },
  {
   "cell_type": "markdown",
   "id": "fea4bcc7",
   "metadata": {
    "id": "fea4bcc7"
   },
   "source": [
    "For some reason, any item placed in the cart 65th or later has a missing value in the `'add_to_cart_order'` column. Maybe the data type of that column in the database could only hold integer values from 1 to 64. We've decided to replace the missing values with a code value, 999, that represents an unknown placed in cart order above 64. We also converted the column to integer data type. We just need to be careful to remember this if we perform calculations using this column during our analysis.\n",
    "\n",
    "Other sensible code values we could've used are 0 or -1 because they don't show up elsewhere in the dataset and they don't have any real physical meaning for this variable.\n",
    "\n",
    "Also note that, for orders with exactly 65 items, we could replace the missing value with 65. But we're going to neglect that for now since we can't determine the 65th item for all orders with 66 items or more."
   ]
  },
  {
   "cell_type": "markdown",
   "id": "07357848-dc64-4156-9cc3-01ff4365226d",
   "metadata": {
    "id": "07357848-dc64-4156-9cc3-01ff4365226d"
   },
   "source": [
    "## Find and Remove Duplicate Values from All the Datasets\n",
    "\n",
    "Each dataset may contain duplicate rows, which can lead to redundancy and affect the accuracy of our analysis. To handle this:\n",
    "\n",
    "1. Use the `.duplicated()` method to identify duplicate rows. This method returns a Boolean series where `True` indicates a duplicate row.\n",
    "2. Apply the `.drop_duplicates()` method to remove these duplicate rows, ensuring a cleaner dataset.\n",
    "3. Optionally, you can set the `keep` parameter in `.drop_duplicates()` to specify which duplicate to retain (`'first'` or `'last'`).\n",
    "\n",
    "Here is some example code for reference:\n",
    "```python\n",
    "# Check for duplicates\n",
    "print(dataset.duplicated().sum())  # Number of duplicate rows\n",
    "\n",
    "# View duplicate rows\n",
    "print(dataset[dataset.duplicated()]\n",
    "\n",
    "# Remove duplicates\n",
    "dataset = dataset.drop_duplicates().reset_index(drop=True)\n",
    "\n",
    "# Confirm removal\n",
    "print(dataset.duplicated().sum())  # Should return 0\n",
    "```\n",
    "\n",
    "Repeat this process for all datasets to ensure they are free of duplicate rows."
   ]
  },
  {
   "cell_type": "markdown",
   "id": "f179f0a9",
   "metadata": {
    "id": "f179f0a9"
   },
   "source": [
    "### `orders` data frame"
   ]
  },
  {
   "cell_type": "code",
   "execution_count": 20,
   "id": "bb1a8c31-0a95-487a-98fc-c040228245f6",
   "metadata": {
    "id": "bb1a8c31-0a95-487a-98fc-c040228245f6"
   },
   "outputs": [
    {
     "name": "stdout",
     "output_type": "stream",
     "text": [
      "15\n"
     ]
    }
   ],
   "source": [
    "# Find the number of duplicate rows in the orders dataframe\n",
    "print(orders.duplicated().sum())"
   ]
  },
  {
   "cell_type": "code",
   "execution_count": 21,
   "id": "b99297a5-405a-463d-8535-9adc3da4ad74",
   "metadata": {
    "id": "b99297a5-405a-463d-8535-9adc3da4ad74"
   },
   "outputs": [
    {
     "name": "stdout",
     "output_type": "stream",
     "text": [
      "        order_id  user_id  order_number  order_dow  order_hour_of_day  \\\n",
      "145574    794638    50898            24          3                  2   \n",
      "223105   2160484   107525            16          3                  2   \n",
      "230807   1918001   188546            14          3                  2   \n",
      "266232   1782114   106752             1          3                  2   \n",
      "273805   1112182   202304            84          3                  2   \n",
      "284038   2845099    31189            11          3                  2   \n",
      "311713   1021560    53767             3          3                  2   \n",
      "321100    408114    68324             4          3                  2   \n",
      "323900   1919531   191501            32          3                  2   \n",
      "345917   2232988    82565             1          3                  2   \n",
      "371905    391768    57671            19          3                  2   \n",
      "394347    467134    63189            21          3                  2   \n",
      "411408   1286742   183220            48          3                  2   \n",
      "415163   2282673    86751            49          3                  2   \n",
      "441599   2125197    14050            48          3                  2   \n",
      "\n",
      "        days_since_prior_order  \n",
      "145574                     2.0  \n",
      "223105                    30.0  \n",
      "230807                    16.0  \n",
      "266232                     NaN  \n",
      "273805                     6.0  \n",
      "284038                     7.0  \n",
      "311713                     9.0  \n",
      "321100                    18.0  \n",
      "323900                     7.0  \n",
      "345917                     NaN  \n",
      "371905                    10.0  \n",
      "394347                     2.0  \n",
      "411408                     4.0  \n",
      "415163                     2.0  \n",
      "441599                     3.0  \n"
     ]
    }
   ],
   "source": [
    "# View the duplicate rows\n",
    "print(orders[orders.duplicated()])"
   ]
  },
  {
   "cell_type": "code",
   "execution_count": 22,
   "id": "480563c7",
   "metadata": {
    "id": "480563c7"
   },
   "outputs": [],
   "source": [
    "# Remove duplicate orders\n",
    "orders = orders.drop_duplicates().reset_index(drop=True)"
   ]
  },
  {
   "cell_type": "code",
   "execution_count": 23,
   "id": "0b2396a2",
   "metadata": {
    "id": "0b2396a2"
   },
   "outputs": [
    {
     "name": "stdout",
     "output_type": "stream",
     "text": [
      "0\n"
     ]
    }
   ],
   "source": [
    "# Double check for duplicate rows\n",
    "print(orders.duplicated().sum())"
   ]
  },
  {
   "cell_type": "markdown",
   "id": "45e6bc46",
   "metadata": {
    "id": "45e6bc46"
   },
   "source": [
    "### `products` data frame"
   ]
  },
  {
   "cell_type": "code",
   "execution_count": 24,
   "id": "5f526b5b-8175-46fa-a0fd-441767d50e64",
   "metadata": {
    "id": "5f526b5b-8175-46fa-a0fd-441767d50e64"
   },
   "outputs": [
    {
     "name": "stdout",
     "output_type": "stream",
     "text": [
      "Empty DataFrame\n",
      "Columns: [product_id, product_name, aisle_id, department_id]\n",
      "Index: []\n"
     ]
    }
   ],
   "source": [
    "# Check for fully duplicate rows\n",
    "\n",
    "print(products[products.duplicated()])"
   ]
  },
  {
   "cell_type": "code",
   "execution_count": 25,
   "id": "88daa4f4",
   "metadata": {
    "id": "88daa4f4"
   },
   "outputs": [
    {
     "name": "stdout",
     "output_type": "stream",
     "text": [
      "0\n"
     ]
    }
   ],
   "source": [
    "# Check for just duplicate product IDs using subset='product_id' in duplicated()\n",
    "print(products.duplicated(subset='product_id').sum())"
   ]
  },
  {
   "cell_type": "markdown",
   "id": "03c82be5-3463-4adb-a5eb-1755f011faa0",
   "metadata": {
    "id": "03c82be5-3463-4adb-a5eb-1755f011faa0"
   },
   "source": [
    "Hint: To identify duplicate product names more effectively, convert the names to lowercase for consistent comparison. Use the .str.lower() method on the product_name column to standardize the text before checking for duplicates."
   ]
  },
  {
   "cell_type": "code",
   "execution_count": 26,
   "id": "c773f0bf",
   "metadata": {
    "id": "c773f0bf"
   },
   "outputs": [
    {
     "name": "stdout",
     "output_type": "stream",
     "text": [
      "       product_id                                     product_name  aisle_id  \\\n",
      "71             72                                          unknown       100   \n",
      "109           110                                          unknown       100   \n",
      "296           297                                          unknown       100   \n",
      "416           417                                          unknown       100   \n",
      "436           437                                          unknown       100   \n",
      "...           ...                                              ...       ...   \n",
      "49689       49690                    high performance energy drink        64   \n",
      "49690       49691                    original pancake & waffle mix       130   \n",
      "49691       49692  organic instant oatmeal light maple brown sugar       130   \n",
      "49692       49693                           spring water body wash       127   \n",
      "49693       49694                          burrito- steak & cheese        38   \n",
      "\n",
      "       department_id  \n",
      "71                21  \n",
      "109               21  \n",
      "296               21  \n",
      "416               21  \n",
      "436               21  \n",
      "...              ...  \n",
      "49689              7  \n",
      "49690             14  \n",
      "49691             14  \n",
      "49692             11  \n",
      "49693              1  \n",
      "\n",
      "[1361 rows x 4 columns]\n"
     ]
    }
   ],
   "source": [
    "# Check for just duplicate product names (convert names to lowercase to compare better)\n",
    "products['product_name'] = products['product_name'].str.lower() \n",
    "print(products[products.duplicated(subset='product_name')])"
   ]
  },
  {
   "cell_type": "markdown",
   "id": "c502f00b-979b-4f6a-9457-569f412e1183",
   "metadata": {
    "id": "c502f00b-979b-4f6a-9457-569f412e1183"
   },
   "source": [
    "Let's see what that looks like in our dataset :"
   ]
  },
  {
   "cell_type": "code",
   "execution_count": 27,
   "id": "515b21b1-f458-4428-ba10-2820fef6158d",
   "metadata": {
    "id": "515b21b1-f458-4428-ba10-2820fef6158d"
   },
   "outputs": [
    {
     "data": {
      "text/html": [
       "<div>\n",
       "<style scoped>\n",
       "    .dataframe tbody tr th:only-of-type {\n",
       "        vertical-align: middle;\n",
       "    }\n",
       "\n",
       "    .dataframe tbody tr th {\n",
       "        vertical-align: top;\n",
       "    }\n",
       "\n",
       "    .dataframe thead th {\n",
       "        text-align: right;\n",
       "    }\n",
       "</style>\n",
       "<table border=\"1\" class=\"dataframe\">\n",
       "  <thead>\n",
       "    <tr style=\"text-align: right;\">\n",
       "      <th></th>\n",
       "      <th>product_id</th>\n",
       "      <th>product_name</th>\n",
       "      <th>aisle_id</th>\n",
       "      <th>department_id</th>\n",
       "    </tr>\n",
       "  </thead>\n",
       "  <tbody>\n",
       "    <tr>\n",
       "      <th>22540</th>\n",
       "      <td>22541</td>\n",
       "      <td>high performance energy drink</td>\n",
       "      <td>64</td>\n",
       "      <td>7</td>\n",
       "    </tr>\n",
       "    <tr>\n",
       "      <th>49689</th>\n",
       "      <td>49690</td>\n",
       "      <td>high performance energy drink</td>\n",
       "      <td>64</td>\n",
       "      <td>7</td>\n",
       "    </tr>\n",
       "  </tbody>\n",
       "</table>\n",
       "</div>"
      ],
      "text/plain": [
       "       product_id                   product_name  aisle_id  department_id\n",
       "22540       22541  high performance energy drink        64              7\n",
       "49689       49690  high performance energy drink        64              7"
      ]
     },
     "execution_count": 27,
     "metadata": {},
     "output_type": "execute_result"
    }
   ],
   "source": [
    "products[products['product_name'].str.lower() == 'high performance energy drink']"
   ]
  },
  {
   "cell_type": "markdown",
   "id": "60f30db1",
   "metadata": {
    "id": "60f30db1"
   },
   "source": [
    "### `departments` data frame"
   ]
  },
  {
   "cell_type": "code",
   "execution_count": 29,
   "id": "fb410ad4-0fbf-4b80-bb09-23fdea79afe3",
   "metadata": {
    "id": "fb410ad4-0fbf-4b80-bb09-23fdea79afe3"
   },
   "outputs": [
    {
     "data": {
      "text/html": [
       "<div>\n",
       "<style scoped>\n",
       "    .dataframe tbody tr th:only-of-type {\n",
       "        vertical-align: middle;\n",
       "    }\n",
       "\n",
       "    .dataframe tbody tr th {\n",
       "        vertical-align: top;\n",
       "    }\n",
       "\n",
       "    .dataframe thead th {\n",
       "        text-align: right;\n",
       "    }\n",
       "</style>\n",
       "<table border=\"1\" class=\"dataframe\">\n",
       "  <thead>\n",
       "    <tr style=\"text-align: right;\">\n",
       "      <th></th>\n",
       "      <th>department_id</th>\n",
       "      <th>department</th>\n",
       "    </tr>\n",
       "  </thead>\n",
       "  <tbody>\n",
       "  </tbody>\n",
       "</table>\n",
       "</div>"
      ],
      "text/plain": [
       "Empty DataFrame\n",
       "Columns: [department_id, department]\n",
       "Index: []"
      ]
     },
     "execution_count": 29,
     "metadata": {},
     "output_type": "execute_result"
    }
   ],
   "source": [
    "# Check for duplicate entries in the departments dataframe\n",
    "departments[departments.duplicated()]"
   ]
  },
  {
   "cell_type": "markdown",
   "id": "889349c1",
   "metadata": {
    "id": "889349c1"
   },
   "source": [
    "### `aisles` data frame"
   ]
  },
  {
   "cell_type": "code",
   "execution_count": 30,
   "id": "9da89fb9-4679-40f5-ad0d-c34df753a3f8",
   "metadata": {
    "id": "9da89fb9-4679-40f5-ad0d-c34df753a3f8"
   },
   "outputs": [
    {
     "data": {
      "text/html": [
       "<div>\n",
       "<style scoped>\n",
       "    .dataframe tbody tr th:only-of-type {\n",
       "        vertical-align: middle;\n",
       "    }\n",
       "\n",
       "    .dataframe tbody tr th {\n",
       "        vertical-align: top;\n",
       "    }\n",
       "\n",
       "    .dataframe thead th {\n",
       "        text-align: right;\n",
       "    }\n",
       "</style>\n",
       "<table border=\"1\" class=\"dataframe\">\n",
       "  <thead>\n",
       "    <tr style=\"text-align: right;\">\n",
       "      <th></th>\n",
       "      <th>aisle_id</th>\n",
       "      <th>aisle</th>\n",
       "    </tr>\n",
       "  </thead>\n",
       "  <tbody>\n",
       "  </tbody>\n",
       "</table>\n",
       "</div>"
      ],
      "text/plain": [
       "Empty DataFrame\n",
       "Columns: [aisle_id, aisle]\n",
       "Index: []"
      ]
     },
     "execution_count": 30,
     "metadata": {},
     "output_type": "execute_result"
    }
   ],
   "source": [
    "# Check for aisles entries in the departments dataframe\n",
    "aisles[aisles.duplicated()]"
   ]
  },
  {
   "cell_type": "markdown",
   "id": "274cd06a",
   "metadata": {
    "id": "274cd06a"
   },
   "source": [
    "### `order_products` data frame"
   ]
  },
  {
   "cell_type": "code",
   "execution_count": 31,
   "id": "52326689-84a8-4b8f-a881-7c68780f62c9",
   "metadata": {
    "id": "52326689-84a8-4b8f-a881-7c68780f62c9"
   },
   "outputs": [
    {
     "data": {
      "text/html": [
       "<div>\n",
       "<style scoped>\n",
       "    .dataframe tbody tr th:only-of-type {\n",
       "        vertical-align: middle;\n",
       "    }\n",
       "\n",
       "    .dataframe tbody tr th {\n",
       "        vertical-align: top;\n",
       "    }\n",
       "\n",
       "    .dataframe thead th {\n",
       "        text-align: right;\n",
       "    }\n",
       "</style>\n",
       "<table border=\"1\" class=\"dataframe\">\n",
       "  <thead>\n",
       "    <tr style=\"text-align: right;\">\n",
       "      <th></th>\n",
       "      <th>order_id</th>\n",
       "      <th>product_id</th>\n",
       "      <th>add_to_cart_order</th>\n",
       "      <th>reordered</th>\n",
       "    </tr>\n",
       "  </thead>\n",
       "  <tbody>\n",
       "  </tbody>\n",
       "</table>\n",
       "</div>"
      ],
      "text/plain": [
       "Empty DataFrame\n",
       "Columns: [order_id, product_id, add_to_cart_order, reordered]\n",
       "Index: []"
      ]
     },
     "execution_count": 31,
     "metadata": {},
     "output_type": "execute_result"
    }
   ],
   "source": [
    "# Check for duplicate entries in the order_products dataframe\n",
    "order_products[order_products.duplicated()]"
   ]
  },
  {
   "cell_type": "markdown",
   "id": "e5952f1b-3a4a-4144-a58e-77d72e1ed599",
   "metadata": {
    "id": "e5952f1b-3a4a-4144-a58e-77d72e1ed599"
   },
   "source": [
    "We have now successfully cleaned our data. Let's begin our exploratory data analysis."
   ]
  },
  {
   "cell_type": "markdown",
   "id": "short-capability",
   "metadata": {
    "id": "short-capability"
   },
   "source": [
    "### [A1] Verify that the `'order_hour_of_day'` and `'order_dow'` values in the `orders` tables are sensible (i.e. `'order_hour_of_day'` ranges from 0 to 23 and `'order_dow'` ranges from 0 to 6)\n",
    "\n",
    "To verify that the values in the `order_hour_of_day` and `order_dow` columns are sensible:\n",
    "\n",
    "1. **Check unique values**: Use `.unique()` on each column to extract all distinct values present.\n",
    "2. **Sort the results**: Use `sorted()` to arrange the unique values in ascending order for easier verification.\n",
    "3. **Validate ranges**:\n",
    "   - Ensure `order_hour_of_day` values range from 0 to 23 (representing hours of the day).\n",
    "   - Ensure `order_dow` values range from 0 to 6 (representing days of the week).\n",
    "\n",
    "This process confirms that the data aligns with expected ranges and there are no out-of-bound or invalid entries."
   ]
  },
  {
   "cell_type": "code",
   "execution_count": 32,
   "id": "growing-fruit",
   "metadata": {
    "id": "growing-fruit"
   },
   "outputs": [
    {
     "name": "stdout",
     "output_type": "stream",
     "text": [
      "[0, 1, 2, 3, 4, 5, 6, 7, 8, 9, 10, 11, 12, 13, 14, 15, 16, 17, 18, 19, 20, 21, 22, 23]\n"
     ]
    }
   ],
   "source": [
    "unique_order_hod= sorted(orders['order_hour_of_day'].unique())\n",
    "print(unique_order_hod)"
   ]
  },
  {
   "cell_type": "code",
   "execution_count": 33,
   "id": "accessory-malaysia",
   "metadata": {
    "id": "accessory-malaysia"
   },
   "outputs": [
    {
     "name": "stdout",
     "output_type": "stream",
     "text": [
      "[0, 1, 2, 3, 4, 5, 6]\n"
     ]
    }
   ],
   "source": [
    "unique_order_dow= sorted(orders['order_dow'].unique())\n",
    "print(unique_order_dow)"
   ]
  },
  {
   "cell_type": "code",
   "execution_count": null,
   "id": "598abdd2-c3c5-4739-bcef-66bb12bc48a1",
   "metadata": {},
   "outputs": [],
   "source": []
  },
  {
   "cell_type": "markdown",
   "id": "a6743a70",
   "metadata": {
    "id": "a6743a70"
   },
   "source": [
    "### [A2] What time of day do people shop for groceries?\n",
    "\n",
    "To determine the time of day people shop for groceries, analyze the order_hour_of_day column in the orders dataset. Use .value_counts() to count the number of orders placed at each hour, and then sort the results by the hour for a clear chronological order.\n",
    "\n",
    "Finally, visualize the data with a bar plot to easily observe the shopping trends across different times of the day."
   ]
  },
  {
   "cell_type": "code",
   "execution_count": null,
   "id": "4acebd74-17c4-4ba8-bbac-6eb56e781be4",
   "metadata": {},
   "outputs": [],
   "source": []
  },
  {
   "cell_type": "code",
   "execution_count": null,
   "id": "c304e3c4-60fe-405e-97e3-d402270ca772",
   "metadata": {},
   "outputs": [],
   "source": []
  },
  {
   "cell_type": "code",
   "execution_count": 34,
   "id": "a36cca27",
   "metadata": {
    "id": "a36cca27"
   },
   "outputs": [
    {
     "name": "stdout",
     "output_type": "stream",
     "text": [
      "        hour  orders_placed\n",
      "0   12:00 AM           3180\n",
      "1   01:00 AM           1763\n",
      "2   02:00 AM            989\n",
      "3   03:00 AM            770\n",
      "4   04:00 AM            765\n",
      "5   05:00 AM           1371\n",
      "6   06:00 AM           4215\n",
      "7   07:00 AM          13043\n",
      "8   08:00 AM          25024\n",
      "9   09:00 AM          35896\n",
      "10  10:00 AM          40578\n",
      "11  11:00 AM          40032\n",
      "12  12:00 PM          38034\n",
      "13  01:00 PM          39007\n",
      "14  02:00 PM          39631\n",
      "15  03:00 PM          39789\n",
      "16  04:00 PM          38112\n",
      "17  05:00 PM          31930\n",
      "18  06:00 PM          25510\n",
      "19  07:00 PM          19547\n",
      "20  08:00 PM          14624\n",
      "21  09:00 PM          11019\n",
      "22  10:00 PM           8512\n",
      "23  11:00 PM           5611\n"
     ]
    },
    {
     "data": {
      "image/png": "[encoded data removed]",
      "text/plain": [
       "<Figure size 640x480 with 1 Axes>"
      ]
     },
     "metadata": {},
     "output_type": "display_data"
    }
   ],
   "source": [
    "shop_groceries = orders['order_hour_of_day'].value_counts(sort=False).to_frame('count').reset_index().rename(columns={'hour': 'value'})\n",
    "shop_groceries.columns = ['hour','orders_placed']\n",
    "shop_groceries['hour'] = pd.to_datetime(shop_groceries['hour'], unit='h')\n",
    "shop_groceries['hour'] = shop_groceries['hour'].dt.strftime('%I:%M %p')\n",
    "\n",
    "shop_groceries.plot(x='hour',\n",
    "        kind='bar',\n",
    "        title='Shopping trends across different times of the day',\n",
    "        xlabel='Hour of Day',\n",
    "        ylabel='Orders',\n",
    "        legend = False)\n",
    "\n",
    "\n",
    "print(shop_groceries)\n",
    "plt.show()"
   ]
  },
  {
   "cell_type": "markdown",
   "id": "11270eed",
   "metadata": {
    "id": "11270eed"
   },
   "source": [
    "Most orders occur between 9:00 AM and 5:00 PM, with peaks at 10:00 AM and 3:00 PM"
   ]
  },
  {
   "cell_type": "markdown",
   "id": "documented-command",
   "metadata": {
    "id": "documented-command"
   },
   "source": [
    "### [A3] What day of the week do people shop for groceries?\n",
    "\n",
    "To figure out what day of the week people shop for groceries, analyze the order_dow column in the orders dataset. Use .value_counts() to count the number of orders for each day of the week, and then sort the results by the day index to maintain the correct order.\n",
    "\n",
    "Visualize the data with a bar plot to clearly observe shopping patterns across the days of the week."
   ]
  },
  {
   "cell_type": "code",
   "execution_count": 35,
   "id": "chief-digit",
   "metadata": {
    "id": "chief-digit"
   },
   "outputs": [
    {
     "name": "stdout",
     "output_type": "stream",
     "text": [
      "         day  orders_placed\n",
      "0     Sunday          84090\n",
      "1     Monday          82185\n",
      "2    Tuesday          65833\n",
      "3  Wednesday          60897\n",
      "4   Thursday          59810\n",
      "5     Friday          63488\n",
      "6   Saturday          62649\n"
     ]
    },
    {
     "data": {
      "image/png": "[encoded data removed]",
      "text/plain": [
       "<Figure size 640x480 with 1 Axes>"
      ]
     },
     "metadata": {},
     "output_type": "display_data"
    }
   ],
   "source": [
    "shop_groceries_day = orders['order_dow'].value_counts(sort=False).to_frame('count').reset_index().rename(columns={'day': 'value'})\n",
    "shop_groceries_day.columns = ['day','orders_placed']\n",
    "day_map = {0: 'Sunday', 1: 'Monday', 2: 'Tuesday', 3: 'Wednesday', 4: 'Thursday', 5: 'Friday', 6:'Saturday' }\n",
    "shop_groceries_day['day'] = shop_groceries_day['day'].map(day_map)\n",
    "\n",
    "\n",
    "shop_groceries_day.plot(x='day',\n",
    "        kind='bar',\n",
    "        title='Shopping trends across different days of the week',\n",
    "        xlabel='Day of the Week',\n",
    "        ylabel='Orders',\n",
    "        legend = False)\n",
    "\n",
    "\n",
    "print(shop_groceries_day)\n",
    "plt.show()"
   ]
  },
  {
   "cell_type": "markdown",
   "id": "dominant-lightning",
   "metadata": {
    "id": "dominant-lightning"
   },
   "source": [
    "The data dictionary does not state which integer corresponds to which day of the week. Assuming Sunday = 0, then people place more orders at the beginning of the week (Sunday and Monday)."
   ]
  },
  {
   "cell_type": "markdown",
   "id": "cutting-concert",
   "metadata": {
    "id": "cutting-concert"
   },
   "source": [
    "### [A4] How long do people wait until placing another order?\n",
    "\n",
    "To understand how long people wait before placing another order, analyze the days_since_prior_order column in the orders dataset. Use .value_counts() to count how many orders were placed for each interval of days, then sort the results by the number of days for clarity.\n",
    "\n",
    "Visualize the data using a bar plot to observe patterns in ordering frequency over time."
   ]
  },
  {
   "cell_type": "code",
   "execution_count": 36,
   "id": "c231f523",
   "metadata": {
    "id": "c231f523"
   },
   "outputs": [
    {
     "data": {
      "image/png": "[encoded data removed]",
      "text/plain": [
       "<Figure size 640x480 with 1 Axes>"
      ]
     },
     "metadata": {},
     "output_type": "display_data"
    }
   ],
   "source": [
    "days_between = orders['days_since_prior_order'].value_counts().sort_index().to_frame('count').reset_index()\n",
    "days_between.columns = ['days','orders_placed']\n",
    "days_between['days']= days_between['days'].astype('int')\n",
    "\n",
    "days_between.plot(x='days',\n",
    "        kind='bar',\n",
    "        title='Shopping trends across different days of the week',\n",
    "        xlabel='Days between Orders',\n",
    "        ylabel='Orders',\n",
    "        legend = False)\n",
    "        \n",
    "\n",
    "\n",
    "plt.show()"
   ]
  },
  {
   "cell_type": "markdown",
   "id": "discrete-vertex",
   "metadata": {
    "id": "discrete-vertex"
   },
   "source": [
    "The 0 values probably correspond to customers who placed more than one order on the same day.\n",
    "\n",
    "The max value of 30 days and the high spike at that value is puzzling though. The spike might be explained by people who set up recurring subscriptions to automatically order once a month. But that doesn't explain why there are no values above 30 days. I would expect many customers to place orders less often than once a month. Maybe those customers were intentionally excluded from the dataset."
   ]
  },
  {
   "cell_type": "markdown",
   "id": "8d926614",
   "metadata": {
    "id": "8d926614"
   },
   "source": [
    "Disregarding the spike at 30 days, most people wait between 2 to 10 days in between orders. The most common wait time is 7 days. In other words, it's common for people to place weekly grocery orders. Interestingly, in the tail of the distribution we also see small spikes at 14, 21, and 28 days. These would correspond to orders every 2, 3, or 4 weeks."
   ]
  },
  {
   "cell_type": "markdown",
   "id": "tight-staff",
   "metadata": {
    "id": "tight-staff"
   },
   "source": [
    "# [B] Medium "
   ]
  },
  {
   "cell_type": "markdown",
   "id": "packed-classic",
   "metadata": {
    "id": "packed-classic"
   },
   "source": [
    "### [B1] Is there a difference in `'order_hour_of_day'` distributions on Wednesdays and Saturdays? Plot the histograms for both days and describe the differences that you see.\n",
    "\n",
    "To determine if there’s a difference in the `order_hour_of_day` distributions on Wednesdays and Saturdays, follow these steps:\n",
    "\n",
    "1. **Create masks** for Wednesday (`order_dow == 3`) and Saturday (`order_dow == 6`) to filter the orders data.\n",
    "2. **Count the order hours** for each day using `.value_counts()` and sort them by hour with `.sort_index()` for clarity.\n",
    "3. **Combine the counts** for both days into a single DataFrame using `pd.concat()`, and label the columns for easier interpretation.\n",
    "\n",
    "After preparing the data, plot histograms for both days to visually compare the distribution of order times. Look for patterns such as peaks or differences in the busiest times."
   ]
  },
  {
   "cell_type": "code",
   "execution_count": 37,
   "id": "d89b8403",
   "metadata": {
    "id": "d89b8403"
   },
   "outputs": [],
   "source": [
    "mask_weds = orders[orders['order_dow'] == 3]\n",
    "mask_sat = orders[orders['order_dow'] == 6]"
   ]
  },
  {
   "cell_type": "code",
   "execution_count": 38,
   "id": "94e54e8a",
   "metadata": {
    "id": "94e54e8a"
   },
   "outputs": [],
   "source": [
    "orders_weds = mask_weds['order_hour_of_day'].value_counts().sort_index().to_frame('wednesday_orders_by_hour')\n",
    "orders_sat = mask_sat['order_hour_of_day'].value_counts().sort_index().to_frame('saturday_orders_by_hour')\n"
   ]
  },
  {
   "cell_type": "code",
   "execution_count": 39,
   "id": "797c90a8",
   "metadata": {
    "id": "797c90a8"
   },
   "outputs": [],
   "source": [
    "both_days = pd.concat([orders_weds, orders_sat], axis='columns')\n",
    "both_days.columns = ['wednesday','saturday']"
   ]
  },
  {
   "cell_type": "code",
   "execution_count": 40,
   "id": "35bcea30",
   "metadata": {
    "id": "35bcea30"
   },
   "outputs": [
    {
     "data": {
      "image/png": "[encoded data removed]",
      "text/plain": [
       "<Figure size 640x480 with 1 Axes>"
      ]
     },
     "metadata": {},
     "output_type": "display_data"
    }
   ],
   "source": [
    "both_days['wednesday'].plot(kind='hist',title ='Distribution of Order Times: Wednesday vs Saturday',  bins=24)\n",
    "both_days['saturday'].plot(kind='hist',  bins=24, alpha=0.8)\n",
    "plt.legend(['Wednesday', 'Saturday'])\n",
    "plt.show()#Using Hist... Don't think it is useful to those reading the graph "
   ]
  },
  {
   "cell_type": "markdown",
   "id": "b28b1158",
   "metadata": {},
   "source": [
    "This Visual is difficult to read!\n",
    "Let's make a bar graph Histogram instead!"
   ]
  },
  {
   "cell_type": "code",
   "execution_count": 41,
   "id": "24d2e545",
   "metadata": {},
   "outputs": [
    {
     "data": {
      "image/png": "[encoded data removed]",
      "text/plain": [
       "<Figure size 640x480 with 1 Axes>"
      ]
     },
     "metadata": {},
     "output_type": "display_data"
    }
   ],
   "source": [
    "both_days.plot(\n",
    "        kind='bar',\n",
    "        title='Distribution of Order Times: Wednesday vs Saturday',\n",
    "        alpha = 0.8,\n",
    "        xlabel='Hour of the Day',\n",
    "        ylabel='Frequency',\n",
    "        legend = ['Wednesday', 'Saturday'])\n",
    "plt.show()"
   ]
  },
  {
   "cell_type": "markdown",
   "id": "charitable-congo",
   "metadata": {
    "id": "charitable-congo"
   },
   "source": [
    "There's a small dip from 11h to 13h on Wednesdays. This dip is absent on Saturdays. Maybe this dip can be attributed to people who don't use Instacart because they have lunch somewhere between 11h and 13h."
   ]
  },
  {
   "cell_type": "markdown",
   "id": "e3891143",
   "metadata": {
    "id": "e3891143"
   },
   "source": [
    "### [B2] What's the distribution for the number of orders per customer?\n",
    "\n",
    "To explore the distribution of the number of orders per customer:\n",
    "\n",
    "1. **Group the data** by `user_id` to calculate the total number of orders for each customer. Use `.groupby('user_id')` and count the `order_id` for each group.\n",
    "2. **Sort the results** using `.sort_values()` for better readability.\n",
    "3. **Visualize the distribution** using a histogram to observe how many orders most customers typically place.\n",
    "\n",
    "Adjust the number of bins in the histogram to refine the visualization and better capture the pattern."
   ]
  },
  {
   "cell_type": "code",
   "execution_count": 42,
   "id": "d8c26c23",
   "metadata": {
    "id": "d8c26c23"
   },
   "outputs": [],
   "source": [
    "order_x_customer = orders.groupby('user_id')['order_id'].count().sort_values().reset_index()\n",
    "order_x_customer.columns = ['customer', 'count']\n",
    "order_x_customer['customer'] = order_x_customer['customer'].astype('category')"
   ]
  },
  {
   "cell_type": "code",
   "execution_count": 43,
   "id": "00e69a66",
   "metadata": {
    "id": "00e69a66"
   },
   "outputs": [
    {
     "data": {
      "image/png": "[encoded data removed]",
      "text/plain": [
       "<Figure size 640x480 with 1 Axes>"
      ]
     },
     "metadata": {},
     "output_type": "display_data"
    }
   ],
   "source": [
    "order_x_customer.plot(kind='hist',title ='Distribution of Orders per Customer',  bins=20, xlabel = \"Orders per Customer\" )\n",
    "\n",
    "plt.show()"
   ]
  },
  {
   "cell_type": "markdown",
   "id": "d2eff7d5",
   "metadata": {
    "id": "d2eff7d5"
   },
   "source": [
    "Most customers in the dataset have placed between 1 and 10 orders, with number of orders per customer sharply decreasing after just 1 order."
   ]
  },
  {
   "cell_type": "markdown",
   "id": "54a0319c",
   "metadata": {
    "id": "54a0319c"
   },
   "source": [
    "### [B3] What are the top 20 popular products (display their id and name)?\n",
    "\n",
    "To identify the top 20 most popular products:\n",
    "\n",
    "1. **Merge the datasets**: Combine `order_products` and `products` on `product_id` to access both the product IDs and names in a single DataFrame.\n",
    "2. **Group the data**: Group by both `product_id` and `product_name` to aggregate the order counts for each product using `.size()`.\n",
    "3. **Sort the results**: Use `.sort_values(ascending=False)` to rank products by their popularity.\n",
    "4. **Display the top 20**: Use `.head(20)` to focus on the most frequently ordered products.\n",
    "5. **Visualize the results**: Create a bar chart to highlight the top products and their order counts.\n",
    "\n",
    "This will give you a clear view of the most popular products and their ranking.\n"
   ]
  },
  {
   "cell_type": "code",
   "execution_count": 44,
   "id": "exterior-arizona",
   "metadata": {
    "id": "exterior-arizona",
    "scrolled": true
   },
   "outputs": [],
   "source": [
    "df_top_prod = order_products.merge(products,on = 'product_id' ) \n"
   ]
  },
  {
   "cell_type": "code",
   "execution_count": 45,
   "id": "universal-facial",
   "metadata": {
    "id": "universal-facial"
   },
   "outputs": [
    {
     "name": "stdout",
     "output_type": "stream",
     "text": [
      "product_id  product_name            \n",
      "24852       banana                      66050\n",
      "13176       bag of organic bananas      53297\n",
      "21137       organic strawberries        37039\n",
      "21903       organic baby spinach        33971\n",
      "47209       organic hass avocado        29773\n",
      "47766       organic avocado             24689\n",
      "47626       large lemon                 21495\n",
      "16797       strawberries                20018\n",
      "26209       limes                       19690\n",
      "27845       organic whole milk          19600\n",
      "27966       organic raspberries         19197\n",
      "22935       organic yellow onion        15898\n",
      "24964       organic garlic              15292\n",
      "45007       organic zucchini            14584\n",
      "39275       organic blueberries         13879\n",
      "49683       cucumber kirby              13675\n",
      "28204       organic fuji apple          12544\n",
      "5876        organic lemon               12232\n",
      "8277        apple honeycrisp organic    11993\n",
      "40706       organic grape tomatoes      11781\n",
      "dtype: int64\n"
     ]
    }
   ],
   "source": [
    "top_prod = df_top_prod.groupby(['product_id', 'product_name']).size().sort_values(ascending=False)\n",
    "top_prod_results = top_prod.head(20)\n",
    "print(top_prod_results)"
   ]
  },
  {
   "cell_type": "code",
   "execution_count": 46,
   "id": "bbcdd20b",
   "metadata": {
    "id": "bbcdd20b"
   },
   "outputs": [
    {
     "data": {
      "image/png": "[encoded data removed]",
      "text/plain": [
       "<Figure size 640x480 with 1 Axes>"
      ]
     },
     "metadata": {},
     "output_type": "display_data"
    }
   ],
   "source": [
    "\n",
    "top_prod_results.plot(kind = 'bar',\n",
    "                     title='Top 20 Most Popular Products',\n",
    "                     xlabel='Products ID and Products Name',\n",
    "                     ylabel='Orders'\n",
    "                     )\n",
    "plt.xticks(rotation=45, ha='right')\n",
    "plt.show()"
   ]
  },
  {
   "cell_type": "markdown",
   "id": "7df00f47",
   "metadata": {
    "id": "7df00f47"
   },
   "source": [
    "The top 20 items are all produce, except for the milk. Looks like people want delicious and nutritious!"
   ]
  },
  {
   "cell_type": "markdown",
   "id": "gross-theme",
   "metadata": {
    "id": "gross-theme"
   },
   "source": [
    "# [C] Hard "
   ]
  },
  {
   "cell_type": "markdown",
   "id": "romantic-deposit",
   "metadata": {
    "id": "romantic-deposit"
   },
   "source": [
    "### [C1] How many items do people typically buy in one order? What does the distribution look like?\n",
    "To analyze how many items people typically buy in one order:\n",
    "\n",
    "1. **Group the data** by `order_id` and count the number of products (`product_id`) in each order using `.count()`. This gives the number of items in each order.\n",
    "2. **Aggregate the counts**: Use `.value_counts()` to determine how frequently different order sizes occur, and then sort the results with `.sort_index()` to organize by the number of items.\n",
    "3. **Visualize the distribution**: Use a bar plot to show the frequency of orders for each size, with the x-axis representing the number of items and the y-axis representing the number of orders.\n",
    "\n",
    "This will help you understand the typical size of a grocery order and identify any trends in purchasing behavior."
   ]
  },
  {
   "cell_type": "code",
   "execution_count": 47,
   "id": "virtual-punch",
   "metadata": {
    "id": "virtual-punch"
   },
   "outputs": [],
   "source": [
    "orders_in_one =  order_products.groupby('order_id')['product_id'].count().value_counts().sort_index()\n",
    "\n"
   ]
  },
  {
   "cell_type": "code",
   "execution_count": 48,
   "id": "sensitive-breathing",
   "metadata": {
    "id": "sensitive-breathing"
   },
   "outputs": [
    {
     "data": {
      "image/png": "[encoded data removed]",
      "text/plain": [
       "<Figure size 640x480 with 1 Axes>"
      ]
     },
     "metadata": {},
     "output_type": "display_data"
    }
   ],
   "source": [
    "orders_in_one.plot(kind = 'bar',\n",
    "                     title='Items in One Order',\n",
    "                     xlabel='Items',\n",
    "                     ylabel='Orders',\n",
    "                     figsize=(18, 8)\n",
    "                    \n",
    "                     )\n",
    "plt.show()"
   ]
  },
  {
   "cell_type": "markdown",
   "id": "bd4ed530",
   "metadata": {
    "id": "bd4ed530"
   },
   "source": [
    "Most of the order numbers are in the tail of the distribution. To get a better look at the non-tail part, let's choose a value in the tail as a cutoff and just plot order with fewer than that many items. An order size of 35 items is far enough into the tail for this."
   ]
  },
  {
   "cell_type": "code",
   "execution_count": 49,
   "id": "completed-frank",
   "metadata": {
    "id": "completed-frank"
   },
   "outputs": [
    {
     "data": {
      "image/png": "[encoded data removed]",
      "text/plain": [
       "<Figure size 640x480 with 1 Axes>"
      ]
     },
     "metadata": {},
     "output_type": "display_data"
    }
   ],
   "source": [
    "orders_in_one = orders_in_one.head(35)\n",
    "orders_in_one.plot(kind = 'bar',\n",
    "                     title='Items in One Order',\n",
    "                     xlabel='Items',\n",
    "                     ylabel='Orders'\n",
    "                     )\n",
    "                     \n",
    "\n",
    "plt.show()"
   ]
  },
  {
   "cell_type": "markdown",
   "id": "designed-mortality",
   "metadata": {
    "id": "designed-mortality"
   },
   "source": [
    "The typical order contains 5 or 6 items, with most orders having between 1 and 20 items."
   ]
  },
  {
   "cell_type": "markdown",
   "id": "5e6b5537",
   "metadata": {
    "id": "5e6b5537"
   },
   "source": [
    "### [C2] What are the top 20 items that are reordered most frequently (display their names and product IDs)?\n",
    "\n",
    "To find the top 20 most frequently reordered items:\n",
    "\n",
    "1. **Filter the data**: Use `order_products['reordered'] == 1` to isolate only the products that have been reordered.\n",
    "2. **Merge the datasets**: Combine the filtered `order_products` with the `products` dataset on `product_id` to get both the product names and IDs.\n",
    "3. **Group the data**: Group by both `product_id` and `product_name` to calculate how many times each product was reordered, using `.size()`.\n",
    "4. **Sort the results**: Use `.sort_values(ascending=False)` to rank the products by reorder frequency.\n",
    "5. **Display the top 20**: Use `.head(20)` to focus on the most frequently reordered products.\n",
    "6. **Visualize the data**: Create a bar chart to showcase the top reordered items and their frequencies.\n",
    "\n",
    "This process highlights the products that customers consistently return to and reorder."
   ]
  },
  {
   "cell_type": "code",
   "execution_count": 50,
   "id": "9374e55a",
   "metadata": {
    "id": "9374e55a"
   },
   "outputs": [],
   "source": [
    "reordered_prod = order_products[order_products['reordered'] == 1]\n",
    "reordered_prod = reordered_prod.merge(products, on = 'product_id' )\n"
   ]
  },
  {
   "cell_type": "code",
   "execution_count": 51,
   "id": "possible-change",
   "metadata": {
    "id": "possible-change",
    "scrolled": true
   },
   "outputs": [],
   "source": [
    "top_reordered_prod = reordered_prod.groupby(['product_id', 'product_name']).size().sort_values(ascending=False)\n"
   ]
  },
  {
   "cell_type": "code",
   "execution_count": 52,
   "id": "professional-surfing",
   "metadata": {
    "id": "professional-surfing"
   },
   "outputs": [
    {
     "name": "stdout",
     "output_type": "stream",
     "text": [
      "product_id  product_name            \n",
      "24852       banana                      55763\n",
      "13176       bag of organic bananas      44450\n",
      "21137       organic strawberries        28639\n",
      "21903       organic baby spinach        26233\n",
      "47209       organic hass avocado        23629\n",
      "47766       organic avocado             18743\n",
      "27845       organic whole milk          16251\n",
      "47626       large lemon                 15044\n",
      "27966       organic raspberries         14748\n",
      "16797       strawberries                13945\n",
      "26209       limes                       13327\n",
      "22935       organic yellow onion        11145\n",
      "24964       organic garlic              10411\n",
      "45007       organic zucchini            10076\n",
      "49683       cucumber kirby               9538\n",
      "28204       organic fuji apple           8989\n",
      "8277        apple honeycrisp organic     8836\n",
      "39275       organic blueberries          8799\n",
      "5876        organic lemon                8412\n",
      "49235       organic half & half          8389\n",
      "dtype: int64\n"
     ]
    }
   ],
   "source": [
    "top_20_reordered_prod = top_reordered_prod.head(20)\n",
    "print(top_20_reordered_prod)"
   ]
  },
  {
   "cell_type": "code",
   "execution_count": 53,
   "id": "48dd3658",
   "metadata": {
    "id": "48dd3658"
   },
   "outputs": [
    {
     "data": {
      "image/png": "[encoded data removed]",
      "text/plain": [
       "<Figure size 640x480 with 1 Axes>"
      ]
     },
     "metadata": {},
     "output_type": "display_data"
    }
   ],
   "source": [
    "\n",
    "top_20_reordered_prod.plot(kind = 'bar',\n",
    "                     title='Top 20 Reordered Products',\n",
    "                     xlabel='Products ID and Products Name',\n",
    "                     ylabel='Orders'\n",
    "                     )\n",
    "plt.xticks(rotation=45, ha='right')\n",
    "plt.show()"
   ]
  },
  {
   "cell_type": "markdown",
   "id": "80e70c74",
   "metadata": {
    "id": "80e70c74"
   },
   "source": [
    "It looks like produce and dairy comprise the most reordered products as well. It makes sense that perishables would be the most reordered items."
   ]
  },
  {
   "cell_type": "markdown",
   "id": "9d312b14",
   "metadata": {
    "id": "9d312b14"
   },
   "source": [
    "### [C3] For each product, what proportion of its orders are reorders?\n",
    "\n",
    "To calculate the proportion of orders for each product that are reorders:\n",
    "\n",
    "1. **Merge the datasets**: Combine `order_products` with the `products` dataset to access product names and IDs in the same DataFrame.\n",
    "2. **Group the data**: Group by `product_id` and `product_name` to isolate each product's order history.\n",
    "3. **Calculate the mean of `reordered`**: Use `.mean()` on the `reordered` column to compute the proportion of orders for each product that were reorders. The value represents the reorder rate.\n",
    "4. **Sort the results**: Use `.sort_values(ascending=False)` to rank products by their reorder rates.\n",
    "5. **Convert to a DataFrame**: Use `.reset_index()` to organize the grouped data into a readable DataFrame.\n",
    "6. **Optional Sorting**: Sort the results by `product_id` or another column for better clarity.\n",
    "\n",
    "This approach provides insights into how frequently each product is reordered, helping identify customer favorites or staples.\n"
   ]
  },
  {
   "cell_type": "code",
   "execution_count": 54,
   "id": "8ae9f4b1",
   "metadata": {
    "id": "8ae9f4b1"
   },
   "outputs": [],
   "source": [
    "reorder_data = order_products.merge(products, on = 'product_id' )"
   ]
  },
  {
   "cell_type": "code",
   "execution_count": 55,
   "id": "103e7fe1",
   "metadata": {
    "id": "103e7fe1"
   },
   "outputs": [
    {
     "name": "stdout",
     "output_type": "stream",
     "text": [
      "product_id  product_name                                                           \n",
      "18121       jalapenos with sea salt                                                    1.0\n",
      "27387       banana greek nonfat yogurt                                                 1.0\n",
      "17773       quinoa- with olive oil                                                     1.0\n",
      "49063       rosemary & sea salt crackers                                               1.0\n",
      "14935       kombucha blueberry basil                                                   1.0\n",
      "49062       superior preference fade-defying color + shine system - 5 medium  brown    1.0\n",
      "5924        pearls elite extra strength probiotics dietary supplement                  1.0\n",
      "42050       ultragrain tortillas 8 taco size                                           1.0\n",
      "42038       scalp intensive treatment                                                  1.0\n",
      "14802       black pepper chicken                                                       1.0\n",
      "Name: reordered, dtype: float64\n"
     ]
    }
   ],
   "source": [
    "reordered_mean = reorder_data.groupby(['product_id', 'product_name'])['reordered'].mean().sort_values(ascending=False)\n",
    "\n",
    "print(reordered_mean.head(10))"
   ]
  },
  {
   "cell_type": "code",
   "execution_count": 56,
   "id": "social-individual",
   "metadata": {
    "id": "social-individual"
   },
   "outputs": [
    {
     "name": "stdout",
     "output_type": "stream",
     "text": [
      "       product_id                                product_name  reordered\n",
      "34870       49688                      fresh foaming cleanser   0.111111\n",
      "38360       49687  smartblend healthy metabolism dry cat food   0.000000\n",
      "8600        49686                            artisan baguette   0.625000\n",
      "17853       49685          en croute roast hazelnut cranberry   0.500000\n",
      "38357       49684   vodka- triple distilled- twist of vanilla   0.000000\n",
      "4893        49683                              cucumber kirby   0.697477\n",
      "19654       49682                          california limeade   0.461538\n",
      "3505        49681     spaghetti with meatballs and sauce meal   0.750000\n",
      "28949       49680          all natural creamy caesar dressing   0.285714\n",
      "31974       49679                     famous chocolate wafers   0.214286\n",
      "19426       49678             large chicken & cheese taquitos   0.466667\n",
      "20063       49677             thick & chunky sloppy joe sauce   0.454545\n",
      "21559       49676                      ultra red energy drink   0.428571\n",
      "19697       49675         cinnamon dolce keurig brewed k cups   0.461538\n",
      "9642        49674     frozen greek yogurt bars chocolate chip   0.600000\n",
      "30514       49673       stone baked multi grain artisan rolls   0.250000\n",
      "38361       49672                      cafe mocha k-cup packs   0.000000\n",
      "8934        49671                        milk chocolate drops   0.615385\n",
      "23812       49670                         beef summer sausage   0.387097\n",
      "7205        49668              apple cinnamon scented candles   0.654545\n"
     ]
    }
   ],
   "source": [
    "reordered_mean = reordered_mean.reset_index().sort_values(by='product_id', ascending=False)\n",
    "\n",
    "print(reordered_mean.head(20))"
   ]
  },
  {
   "cell_type": "markdown",
   "id": "subject-boxing",
   "metadata": {
    "id": "subject-boxing"
   },
   "source": [
    "### [C4] For each customer, what proportion of their products ordered are reorders?\n",
    "\n",
    "To calculate the proportion of products reordered by each customer:\n",
    "\n",
    "1. **Merge the datasets**: Combine `order_products` with `orders` to link order and customer information.\n",
    "2. **Group the data**: Group by `user_id` to focus on each customer's ordering behavior.\n",
    "3. **Calculate the mean of `reordered`**: Use `.mean()` on the `reordered` column to determine the proportion of products reordered by each customer.\n",
    "4. **Sort the results**: Use `.sort_values(ascending=False)` to identify customers with the highest reorder rates.\n",
    "5. **Convert to a DataFrame**: Use `.reset_index()` to format the grouped data into a structured DataFrame for further analysis.\n",
    "\n",
    "This analysis reveals the extent to which individual customers reorder products, providing insights into customer loyalty and preferences.\n"
   ]
  },
  {
   "cell_type": "code",
   "execution_count": 57,
   "id": "medical-couple",
   "metadata": {
    "id": "medical-couple",
    "scrolled": true
   },
   "outputs": [],
   "source": [
    "cust_reorder_data = order_products.merge(orders, on = 'order_id' )\n",
    "cust_reorder_data = cust_reorder_data.groupby('user_id')['reordered'].mean().sort_values(ascending=False)\n"
   ]
  },
  {
   "cell_type": "code",
   "execution_count": 58,
   "id": "8892e4b4",
   "metadata": {
    "id": "8892e4b4"
   },
   "outputs": [
    {
     "name": "stdout",
     "output_type": "stream",
     "text": [
      "    user_id  reordered\n",
      "0    137587        1.0\n",
      "1    173474        1.0\n",
      "2     13918        1.0\n",
      "3     62300        1.0\n",
      "4     62307        1.0\n",
      "5     96301        1.0\n",
      "6     62312        1.0\n",
      "7     48616        1.0\n",
      "8     62316        1.0\n",
      "9    191162        1.0\n",
      "10    96310        1.0\n",
      "11   135349        1.0\n",
      "12    96321        1.0\n",
      "13    42811        1.0\n",
      "14    74363        1.0\n",
      "15   135307        1.0\n",
      "16    32600        1.0\n",
      "17    32597        1.0\n",
      "18    96349        1.0\n",
      "19    62327        1.0\n",
      "20    13962        1.0\n",
      "21    96300        1.0\n",
      "22    32614        1.0\n",
      "23    13911        1.0\n",
      "24    32633        1.0\n",
      "25   198284        1.0\n",
      "26    62213        1.0\n",
      "27    13844        1.0\n",
      "28   135533        1.0\n",
      "29    74382        1.0\n"
     ]
    }
   ],
   "source": [
    "cust_reorder_data = cust_reorder_data.reset_index()\n",
    "print(cust_reorder_data.head(30))"
   ]
  },
  {
   "cell_type": "markdown",
   "id": "92d35137",
   "metadata": {
    "id": "92d35137"
   },
   "source": [
    "### [C5] What are the top 20 items that people put in their carts first?\n",
    "\n",
    "To identify the top 20 items that people most frequently add to their carts first:\n",
    "\n",
    "1. **Merge the datasets**: Combine `order_products` with `products` to link product names and IDs.\n",
    "2. **Filter the data**: Focus on rows where `add_to_cart_order` equals 1, indicating the first item added to the cart.\n",
    "3. **Group the data**: Group by `product_id` and `product_name` to aggregate the count of how often each product was the first in a cart.\n",
    "4. **Count occurrences**: Use `.count()` to calculate the total number of times each product was the first added.\n",
    "5. **Sort the results**: Use `.sort_values(ascending=False)` to rank products by their first-in-cart frequency.\n",
    "6. **Display the top 20**: Use `.head(20)` to extract the most popular first-in-cart items.\n",
    "\n",
    "This provides insights into which products customers prioritize in their shopping process.\n"
   ]
  },
  {
   "cell_type": "code",
   "execution_count": 59,
   "id": "0ae57274",
   "metadata": {
    "id": "0ae57274",
    "scrolled": true
   },
   "outputs": [],
   "source": [
    "first_in_cart = order_products.merge(products, on = 'product_id' )\n",
    "\n",
    "first_in_cart = first_in_cart[first_in_cart['add_to_cart_order']==1]\n",
    "\n"
   ]
  },
  {
   "cell_type": "code",
   "execution_count": 60,
   "id": "forty-netherlands",
   "metadata": {
    "id": "forty-netherlands",
    "scrolled": true
   },
   "outputs": [],
   "source": [
    "first_in_cart = first_in_cart.groupby(['product_id', 'product_name'])['add_to_cart_order'].size().sort_values(ascending=False)\n"
   ]
  },
  {
   "cell_type": "code",
   "execution_count": 61,
   "id": "8e8b7742",
   "metadata": {},
   "outputs": [
    {
     "name": "stdout",
     "output_type": "stream",
     "text": [
      "product_id  product_name               \n",
      "24852       banana                         15562\n",
      "13176       bag of organic bananas         11026\n",
      "27845       organic whole milk              4363\n",
      "21137       organic strawberries            3946\n",
      "47209       organic hass avocado            3390\n",
      "21903       organic baby spinach            3336\n",
      "47766       organic avocado                 3044\n",
      "19660       spring water                    2336\n",
      "16797       strawberries                    2308\n",
      "27966       organic raspberries             2024\n",
      "44632       sparkling water grapefruit      1914\n",
      "49235       organic half & half             1797\n",
      "47626       large lemon                     1737\n",
      "196         soda                            1733\n",
      "38689       organic reduced fat milk        1397\n",
      "26209       limes                           1370\n",
      "12341       hass avocados                   1340\n",
      "5785        organic reduced fat 2% milk     1310\n",
      "27086       half & half                     1309\n",
      "43352       raspberries                     1246\n",
      "Name: add_to_cart_order, dtype: int64\n"
     ]
    }
   ],
   "source": [
    "top_20_first_in_cart =first_in_cart.head(20)\n",
    "print(top_20_first_in_cart)"
   ]
  },
  {
   "cell_type": "markdown",
   "id": "28ce9872",
   "metadata": {
    "id": "28ce9872"
   },
   "source": [
    "The products that are most often placed into the cart first are produce, dairy, and beverages such as soda or water. I couldn't really say why that is without experience using Instacart because this could have more to do with app design than properties of the products. I do notice that there is considerable overlap between this result and the previous result for most popular and most reordered item types. It could simply be that the app prioritizes popular items as the first suggested purchases, so it happens to be more convenient for customers to place these items in their cart first."
   ]
  },
  {
   "cell_type": "code",
   "execution_count": 62,
   "id": "f4a2af09",
   "metadata": {
    "id": "f4a2af09"
   },
   "outputs": [
    {
     "data": {
      "image/png": "[encoded data removed]",
      "text/plain": [
       "<Figure size 640x480 with 1 Axes>"
      ]
     },
     "metadata": {},
     "output_type": "display_data"
    }
   ],
   "source": [
    "top_20_first_in_cart.plot(kind = 'bar',\n",
    "                     title='Top 20 First on Cart Products',\n",
    "                     xlabel='Products ID and Products Name',\n",
    "                     ylabel='Orders'\n",
    "                     )\n",
    "plt.xticks(rotation=45, ha='right')\n",
    "plt.show()"
   ]
  },
  {
   "cell_type": "markdown",
   "id": "05f649be-b5a5-489a-ab60-4216d806f9eb",
   "metadata": {},
   "source": [
    "## 🛒 Conclusion: Grocery Shopping Behavior Insights\n",
    "\n",
    "Based on the analysis of the Instacart dataset, several clear trends emerge about customer shopping behavior:\n",
    "\n",
    "### ⏰ Shopping Time Preferences\n",
    "- Most grocery shopping occurs **between 9:00 AM and 5:00 PM**, with noticeable **peaks at 10:00 AM and 3:00 PM**.\n",
    "- Early morning hours (before 7:00 AM) and late-night hours (after 9:00 PM) see significantly fewer orders.\n",
    "\n",
    "### 📅 Shopping Days\n",
    "- The most popular shopping days are **Sunday and Monday**, suggesting that customers prefer to restock at the **start of the week**.\n",
    "- **Midweek days** (Tuesday–Thursday) see lower activity, possibly indicating customers have already stocked up.\n",
    "\n",
    "### 🔁 Reorder Timing\n",
    "- Most customers reorder **within a week**, with a noticeable spike at **30 days**, possibly due to **monthly subscriptions**.\n",
    "- No data is available for intervals longer than 30 days, which may indicate **truncation or dataset filtering**.\n",
    "\n",
    "### 🧍‍♂️ Per-Customer Behavior\n",
    "- The majority of customers place **1 to 10 orders**, with a steep drop-off after the first few orders.\n",
    "- Most orders contain **5 to 6 items**, and nearly all orders include **1 to 20 items**.\n",
    "- Customers tend to **reorder the same items**, with many users showing **high reorder rates** (even 100%).\n",
    "\n",
    "### 🥑 Popular & Reordered Products\n",
    "- **Fresh produce** (bananas, strawberries, spinach) dominates the list of **most popular** and **most reordered** items.\n",
    "- Perishable staples like **organic milk** and **avocados** are frequently reordered, indicating routine shopping habits.\n",
    "\n",
    "### 🛒 First Cart Items\n",
    "- The same fresh produce items (bananas, organic bananas) are also the **most common first items added to carts**, reflecting their priority in shopping trips.\n",
    "\n",
    "### 📊 Day-Specific Patterns\n",
    "- On **Wednesdays**, there's a dip in orders between **11 AM to 1 PM**, possibly due to lunch breaks.\n",
    "- **Saturdays** do not show this dip, indicating **more consistent shopping behavior** throughout the day.\n",
    "\n",
    "---\n",
    "\n",
    "These insights can help businesses optimize inventory, delivery scheduling, and marketing strategies around customer routines and preferences.\n"
   ]
  },
  {
   "cell_type": "code",
   "execution_count": null,
   "id": "fb53f32d-88be-4335-bd0e-a75fc39fc2ce",
   "metadata": {},
   "outputs": [],
   "source": []
  }
 ],
 "metadata": {
  "ExecuteTimeLog": [
   {
    "duration": 2158,
    "start_time": "2025-04-14T23:25:36.353Z"
   },
   {
    "duration": 1043,
    "start_time": "2025-04-14T23:25:42.573Z"
   },
   {
    "duration": 2161,
    "start_time": "2025-04-15T01:27:12.545Z"
   },
   {
    "duration": 1244,
    "start_time": "2025-04-15T01:27:14.708Z"
   },
   {
    "duration": 15,
    "start_time": "2025-04-15T01:29:18.720Z"
   },
   {
    "duration": 11,
    "start_time": "2025-04-15T01:45:27.599Z"
   },
   {
    "duration": 12,
    "start_time": "2025-04-15T01:45:45.202Z"
   },
   {
    "duration": 11,
    "start_time": "2025-04-15T01:46:03.528Z"
   },
   {
    "duration": 33,
    "start_time": "2025-04-15T01:47:20.667Z"
   },
   {
    "duration": 22,
    "start_time": "2025-04-15T01:51:30.184Z"
   },
   {
    "duration": 5,
    "start_time": "2025-04-15T01:58:52.479Z"
   },
   {
    "duration": 10,
    "start_time": "2025-04-15T01:59:24.336Z"
   },
   {
    "duration": 12,
    "start_time": "2025-04-15T02:04:43.507Z"
   },
   {
    "duration": 4,
    "start_time": "2025-04-15T02:05:05.287Z"
   },
   {
    "duration": 11,
    "start_time": "2025-04-15T02:07:25.109Z"
   },
   {
    "duration": 4,
    "start_time": "2025-04-15T02:07:41.546Z"
   },
   {
    "duration": 6,
    "start_time": "2025-04-15T02:17:55.435Z"
   },
   {
    "duration": 6,
    "start_time": "2025-04-15T02:18:32.768Z"
   },
   {
    "duration": 4,
    "start_time": "2025-04-15T02:22:07.223Z"
   },
   {
    "duration": 10,
    "start_time": "2025-04-15T02:22:21.003Z"
   },
   {
    "duration": 14,
    "start_time": "2025-04-15T02:22:41.923Z"
   },
   {
    "duration": 11,
    "start_time": "2025-04-15T02:25:06.708Z"
   },
   {
    "duration": 5,
    "start_time": "2025-04-15T02:28:33.287Z"
   },
   {
    "duration": 15,
    "start_time": "2025-04-15T02:30:28.383Z"
   },
   {
    "duration": 29,
    "start_time": "2025-04-15T02:35:32.096Z"
   },
   {
    "duration": 32,
    "start_time": "2025-04-15T02:35:41.611Z"
   },
   {
    "duration": 31,
    "start_time": "2025-04-15T02:36:07.903Z"
   },
   {
    "duration": 4,
    "start_time": "2025-04-15T02:42:39.399Z"
   },
   {
    "duration": 37,
    "start_time": "2025-04-15T02:51:42.752Z"
   },
   {
    "duration": 37,
    "start_time": "2025-04-15T02:52:08.006Z"
   },
   {
    "duration": 36,
    "start_time": "2025-04-15T02:53:06.684Z"
   },
   {
    "duration": 3,
    "start_time": "2025-04-15T02:53:26.908Z"
   },
   {
    "duration": 5,
    "start_time": "2025-04-15T02:53:32.459Z"
   },
   {
    "duration": 36,
    "start_time": "2025-04-15T02:53:44.111Z"
   },
   {
    "duration": 3,
    "start_time": "2025-04-15T02:54:29.274Z"
   },
   {
    "duration": 3,
    "start_time": "2025-04-15T02:54:49.100Z"
   },
   {
    "duration": 78,
    "start_time": "2025-04-15T02:54:58.321Z"
   },
   {
    "duration": 78,
    "start_time": "2025-04-15T02:57:55.824Z"
   },
   {
    "duration": 74,
    "start_time": "2025-04-15T02:58:06.660Z"
   },
   {
    "duration": 465,
    "start_time": "2025-04-15T03:04:19.069Z"
   },
   {
    "duration": 203,
    "start_time": "2025-04-15T03:05:28.509Z"
   },
   {
    "duration": 5,
    "start_time": "2025-04-15T03:06:01.285Z"
   },
   {
    "duration": 14,
    "start_time": "2025-04-15T03:07:28.894Z"
   },
   {
    "duration": 3,
    "start_time": "2025-04-15T03:07:45.867Z"
   },
   {
    "duration": 4,
    "start_time": "2025-04-15T03:07:56.900Z"
   },
   {
    "duration": 14,
    "start_time": "2025-04-15T03:13:33.839Z"
   },
   {
    "duration": 338,
    "start_time": "2025-04-15T03:13:47.309Z"
   },
   {
    "duration": 75,
    "start_time": "2025-04-15T03:13:56.295Z"
   },
   {
    "duration": 74,
    "start_time": "2025-04-15T03:16:07.886Z"
   },
   {
    "duration": 80,
    "start_time": "2025-04-15T03:16:42.723Z"
   },
   {
    "duration": 74,
    "start_time": "2025-04-15T03:17:56.970Z"
   },
   {
    "duration": 83,
    "start_time": "2025-04-15T03:18:26.665Z"
   },
   {
    "duration": 73,
    "start_time": "2025-04-15T03:18:30.428Z"
   },
   {
    "duration": 86,
    "start_time": "2025-04-15T03:18:56.488Z"
   },
   {
    "duration": 74,
    "start_time": "2025-04-15T03:19:03.098Z"
   },
   {
    "duration": 78,
    "start_time": "2025-04-15T03:20:39.150Z"
   },
   {
    "duration": 73,
    "start_time": "2025-04-15T03:23:58.638Z"
   },
   {
    "duration": 3,
    "start_time": "2025-04-15T03:24:04.935Z"
   },
   {
    "duration": 75,
    "start_time": "2025-04-15T03:27:30.064Z"
   },
   {
    "duration": 4,
    "start_time": "2025-04-15T03:31:45.235Z"
   },
   {
    "duration": 4,
    "start_time": "2025-04-15T03:31:58.075Z"
   },
   {
    "duration": 5,
    "start_time": "2025-04-15T03:32:13.729Z"
   },
   {
    "duration": 77,
    "start_time": "2025-04-15T03:32:19.081Z"
   },
   {
    "duration": 161,
    "start_time": "2025-04-15T04:56:42.003Z"
   },
   {
    "duration": 2128,
    "start_time": "2025-04-15T04:56:46.795Z"
   },
   {
    "duration": 1267,
    "start_time": "2025-04-15T04:56:50.520Z"
   },
   {
    "duration": 15,
    "start_time": "2025-04-15T04:56:54.504Z"
   },
   {
    "duration": 9,
    "start_time": "2025-04-15T04:56:55.092Z"
   },
   {
    "duration": 12,
    "start_time": "2025-04-15T04:56:56.694Z"
   },
   {
    "duration": 23,
    "start_time": "2025-04-15T04:56:57.890Z"
   },
   {
    "duration": 18,
    "start_time": "2025-04-15T04:56:59.116Z"
   },
   {
    "duration": 9,
    "start_time": "2025-04-15T04:57:01.127Z"
   },
   {
    "duration": 5,
    "start_time": "2025-04-15T04:57:03.266Z"
   },
   {
    "duration": 5,
    "start_time": "2025-04-15T04:57:03.941Z"
   },
   {
    "duration": 6,
    "start_time": "2025-04-15T04:57:10.489Z"
   },
   {
    "duration": 13,
    "start_time": "2025-04-15T04:57:16.632Z"
   },
   {
    "duration": 10,
    "start_time": "2025-04-15T04:57:21.519Z"
   },
   {
    "duration": 4,
    "start_time": "2025-04-15T04:57:31.572Z"
   },
   {
    "duration": 15,
    "start_time": "2025-04-15T04:57:35.787Z"
   },
   {
    "duration": 32,
    "start_time": "2025-04-15T04:57:40.002Z"
   },
   {
    "duration": 4,
    "start_time": "2025-04-15T04:57:44.079Z"
   },
   {
    "duration": 74,
    "start_time": "2025-04-15T04:57:52.955Z"
   },
   {
    "duration": 76,
    "start_time": "2025-04-15T04:58:23.992Z"
   },
   {
    "duration": 712,
    "start_time": "2025-04-15T04:59:08.725Z"
   },
   {
    "duration": 113,
    "start_time": "2025-04-15T04:59:17.784Z"
   },
   {
    "duration": 75,
    "start_time": "2025-04-15T04:59:37.024Z"
   },
   {
    "duration": 74,
    "start_time": "2025-04-15T05:04:49.835Z"
   },
   {
    "duration": 74,
    "start_time": "2025-04-15T05:06:01.935Z"
   },
   {
    "duration": 74,
    "start_time": "2025-04-15T05:06:06.635Z"
   },
   {
    "duration": 147,
    "start_time": "2025-04-15T05:14:46.048Z"
   },
   {
    "duration": 154,
    "start_time": "2025-04-15T05:15:04.660Z"
   },
   {
    "duration": 387,
    "start_time": "2025-04-15T05:18:08.201Z"
   },
   {
    "duration": 312,
    "start_time": "2025-04-15T05:18:21.625Z"
   },
   {
    "duration": 289,
    "start_time": "2025-04-15T05:18:31.104Z"
   },
   {
    "duration": 267,
    "start_time": "2025-04-15T05:18:55.684Z"
   },
   {
    "duration": 291,
    "start_time": "2025-04-15T05:19:03.244Z"
   },
   {
    "duration": 3,
    "start_time": "2025-04-15T05:19:44.277Z"
   },
   {
    "duration": 879,
    "start_time": "2025-04-15T05:19:59.999Z"
   },
   {
    "duration": 290,
    "start_time": "2025-04-15T05:20:23.028Z"
   },
   {
    "duration": 150,
    "start_time": "2025-04-15T05:20:43.452Z"
   },
   {
    "duration": 149,
    "start_time": "2025-04-15T05:21:49.716Z"
   },
   {
    "duration": 150,
    "start_time": "2025-04-15T05:22:45.965Z"
   },
   {
    "duration": 149,
    "start_time": "2025-04-15T05:23:32.835Z"
   },
   {
    "duration": 269,
    "start_time": "2025-04-15T05:24:18.796Z"
   },
   {
    "duration": 269,
    "start_time": "2025-04-15T05:25:48.865Z"
   },
   {
    "duration": 265,
    "start_time": "2025-04-15T05:25:59.618Z"
   },
   {
    "duration": 152,
    "start_time": "2025-04-15T05:28:13.156Z"
   },
   {
    "duration": 102,
    "start_time": "2025-04-15T05:29:06.110Z"
   },
   {
    "duration": 150,
    "start_time": "2025-04-15T05:29:25.175Z"
   },
   {
    "duration": 156,
    "start_time": "2025-04-15T05:29:34.230Z"
   },
   {
    "duration": 154,
    "start_time": "2025-04-15T05:29:43.425Z"
   },
   {
    "duration": 152,
    "start_time": "2025-04-15T05:32:20.448Z"
   },
   {
    "duration": 153,
    "start_time": "2025-04-15T05:32:43.684Z"
   },
   {
    "duration": 372,
    "start_time": "2025-04-15T05:33:16.011Z"
   },
   {
    "duration": 149,
    "start_time": "2025-04-15T05:33:47.331Z"
   },
   {
    "duration": 147,
    "start_time": "2025-04-15T05:34:06.434Z"
   },
   {
    "duration": 152,
    "start_time": "2025-04-15T05:34:54.460Z"
   },
   {
    "duration": 142,
    "start_time": "2025-04-15T05:35:15.502Z"
   },
   {
    "duration": 146,
    "start_time": "2025-04-15T05:35:31.368Z"
   },
   {
    "duration": 144,
    "start_time": "2025-04-15T05:48:27.510Z"
   },
   {
    "duration": 144,
    "start_time": "2025-04-15T05:50:34.590Z"
   },
   {
    "duration": 12,
    "start_time": "2025-04-15T05:57:13.459Z"
   },
   {
    "duration": 21,
    "start_time": "2025-04-15T05:59:11.288Z"
   },
   {
    "duration": 25,
    "start_time": "2025-04-15T05:59:34.540Z"
   },
   {
    "duration": 40,
    "start_time": "2025-04-15T06:00:12.412Z"
   },
   {
    "duration": 646,
    "start_time": "2025-04-15T06:03:03.809Z"
   },
   {
    "duration": 41,
    "start_time": "2025-04-15T06:04:38.558Z"
   },
   {
    "duration": 79,
    "start_time": "2025-04-15T06:05:34.321Z"
   },
   {
    "duration": 394,
    "start_time": "2025-04-15T06:05:59.715Z"
   },
   {
    "duration": 370,
    "start_time": "2025-04-15T06:07:40.074Z"
   },
   {
    "duration": 363,
    "start_time": "2025-04-15T06:08:42.364Z"
   },
   {
    "duration": 342,
    "start_time": "2025-04-15T06:09:39.130Z"
   },
   {
    "duration": 28,
    "start_time": "2025-04-15T06:10:47.711Z"
   },
   {
    "duration": 3,
    "start_time": "2025-04-15T06:10:52.844Z"
   },
   {
    "duration": 892,
    "start_time": "2025-04-15T06:10:53.300Z"
   },
   {
    "duration": 10,
    "start_time": "2025-04-15T06:10:59.707Z"
   },
   {
    "duration": 9,
    "start_time": "2025-04-15T06:11:00.135Z"
   },
   {
    "duration": 10,
    "start_time": "2025-04-15T06:11:01.011Z"
   },
   {
    "duration": 25,
    "start_time": "2025-04-15T06:11:01.945Z"
   },
   {
    "duration": 19,
    "start_time": "2025-04-15T06:11:02.961Z"
   },
   {
    "duration": 8,
    "start_time": "2025-04-15T06:11:04.455Z"
   },
   {
    "duration": 4,
    "start_time": "2025-04-15T06:11:05.498Z"
   },
   {
    "duration": 5,
    "start_time": "2025-04-15T06:11:06.021Z"
   },
   {
    "duration": 7,
    "start_time": "2025-04-15T06:11:07.086Z"
   },
   {
    "duration": 12,
    "start_time": "2025-04-15T06:11:07.676Z"
   },
   {
    "duration": 9,
    "start_time": "2025-04-15T06:11:09.362Z"
   },
   {
    "duration": 4,
    "start_time": "2025-04-15T06:11:09.980Z"
   },
   {
    "duration": 14,
    "start_time": "2025-04-15T06:11:12.288Z"
   },
   {
    "duration": 32,
    "start_time": "2025-04-15T06:11:12.861Z"
   },
   {
    "duration": 4,
    "start_time": "2025-04-15T06:11:13.664Z"
   },
   {
    "duration": 156,
    "start_time": "2025-04-15T06:11:16.148Z"
   },
   {
    "duration": 598,
    "start_time": "2025-04-15T06:11:20.932Z"
   },
   {
    "duration": 56,
    "start_time": "2025-04-15T06:12:43.476Z"
   },
   {
    "duration": 51,
    "start_time": "2025-04-15T06:13:00.696Z"
   },
   {
    "duration": 92,
    "start_time": "2025-04-15T06:17:22.987Z"
   },
   {
    "duration": 5,
    "start_time": "2025-04-15T06:17:53.801Z"
   },
   {
    "duration": 90,
    "start_time": "2025-04-15T06:18:01.085Z"
   },
   {
    "duration": 96,
    "start_time": "2025-04-15T06:18:40.291Z"
   },
   {
    "duration": 92,
    "start_time": "2025-04-15T06:18:56.176Z"
   },
   {
    "duration": 2,
    "start_time": "2025-04-15T06:21:42.579Z"
   },
   {
    "duration": 3,
    "start_time": "2025-04-15T06:22:37.094Z"
   },
   {
    "duration": 855,
    "start_time": "2025-04-15T06:22:38.228Z"
   },
   {
    "duration": 9,
    "start_time": "2025-04-15T06:22:40.524Z"
   },
   {
    "duration": 8,
    "start_time": "2025-04-15T06:22:40.859Z"
   },
   {
    "duration": 11,
    "start_time": "2025-04-15T06:22:41.691Z"
   },
   {
    "duration": 23,
    "start_time": "2025-04-15T06:22:42.511Z"
   },
   {
    "duration": 18,
    "start_time": "2025-04-15T06:22:43.334Z"
   },
   {
    "duration": 8,
    "start_time": "2025-04-15T06:22:44.531Z"
   },
   {
    "duration": 4,
    "start_time": "2025-04-15T06:22:45.282Z"
   },
   {
    "duration": 4,
    "start_time": "2025-04-15T06:22:45.650Z"
   },
   {
    "duration": 7,
    "start_time": "2025-04-15T06:22:46.574Z"
   },
   {
    "duration": 12,
    "start_time": "2025-04-15T06:22:47.059Z"
   },
   {
    "duration": 9,
    "start_time": "2025-04-15T06:22:49.138Z"
   },
   {
    "duration": 4,
    "start_time": "2025-04-15T06:22:49.531Z"
   },
   {
    "duration": 14,
    "start_time": "2025-04-15T06:22:50.875Z"
   },
   {
    "duration": 32,
    "start_time": "2025-04-15T06:22:51.272Z"
   },
   {
    "duration": 3,
    "start_time": "2025-04-15T06:22:51.725Z"
   },
   {
    "duration": 147,
    "start_time": "2025-04-15T06:22:52.093Z"
   },
   {
    "duration": 51,
    "start_time": "2025-04-15T06:22:52.428Z"
   },
   {
    "duration": 76,
    "start_time": "2025-04-15T06:22:55.020Z"
   },
   {
    "duration": 75,
    "start_time": "2025-04-15T06:22:55.939Z"
   },
   {
    "duration": 83,
    "start_time": "2025-04-15T06:22:59.587Z"
   },
   {
    "duration": 73,
    "start_time": "2025-04-15T06:23:01.723Z"
   },
   {
    "duration": 13,
    "start_time": "2025-04-15T06:23:16.535Z"
   },
   {
    "duration": 3,
    "start_time": "2025-04-15T06:25:28.916Z"
   },
   {
    "duration": 109,
    "start_time": "2025-04-15T06:27:50.415Z"
   },
   {
    "duration": 66,
    "start_time": "2025-04-15T06:30:16.746Z"
   },
   {
    "duration": 14,
    "start_time": "2025-04-15T06:30:20.913Z"
   },
   {
    "duration": 3,
    "start_time": "2025-04-15T06:31:09.666Z"
   },
   {
    "duration": 829,
    "start_time": "2025-04-15T06:31:09.995Z"
   },
   {
    "duration": 10,
    "start_time": "2025-04-15T06:31:10.926Z"
   },
   {
    "duration": 8,
    "start_time": "2025-04-15T06:31:11.260Z"
   },
   {
    "duration": 10,
    "start_time": "2025-04-15T06:31:11.851Z"
   },
   {
    "duration": 20,
    "start_time": "2025-04-15T06:31:12.427Z"
   },
   {
    "duration": 18,
    "start_time": "2025-04-15T06:31:13.011Z"
   },
   {
    "duration": 9,
    "start_time": "2025-04-15T06:31:13.935Z"
   },
   {
    "duration": 4,
    "start_time": "2025-04-15T06:31:14.559Z"
   },
   {
    "duration": 4,
    "start_time": "2025-04-15T06:31:14.878Z"
   },
   {
    "duration": 6,
    "start_time": "2025-04-15T06:31:15.491Z"
   },
   {
    "duration": 12,
    "start_time": "2025-04-15T06:31:15.783Z"
   },
   {
    "duration": 9,
    "start_time": "2025-04-15T06:31:16.527Z"
   },
   {
    "duration": 4,
    "start_time": "2025-04-15T06:31:16.943Z"
   },
   {
    "duration": 14,
    "start_time": "2025-04-15T06:31:18.473Z"
   },
   {
    "duration": 30,
    "start_time": "2025-04-15T06:31:19.007Z"
   },
   {
    "duration": 3,
    "start_time": "2025-04-15T06:31:19.979Z"
   },
   {
    "duration": 150,
    "start_time": "2025-04-15T06:31:20.722Z"
   },
   {
    "duration": 51,
    "start_time": "2025-04-15T06:31:22.486Z"
   },
   {
    "duration": 72,
    "start_time": "2025-04-15T06:31:26.071Z"
   },
   {
    "duration": 71,
    "start_time": "2025-04-15T06:31:26.591Z"
   },
   {
    "duration": 77,
    "start_time": "2025-04-15T06:31:27.208Z"
   },
   {
    "duration": 71,
    "start_time": "2025-04-15T06:31:29.294Z"
   },
   {
    "duration": 13,
    "start_time": "2025-04-15T06:31:32.483Z"
   },
   {
    "duration": 4,
    "start_time": "2025-04-15T06:31:36.782Z"
   },
   {
    "duration": 14,
    "start_time": "2025-04-15T06:31:48.019Z"
   },
   {
    "duration": 19,
    "start_time": "2025-04-15T06:32:18.849Z"
   },
   {
    "duration": 29,
    "start_time": "2025-04-15T06:32:24.131Z"
   },
   {
    "duration": 8,
    "start_time": "2025-04-15T06:35:04.818Z"
   },
   {
    "duration": 5,
    "start_time": "2025-04-15T06:36:21.747Z"
   },
   {
    "duration": 23,
    "start_time": "2025-04-15T06:36:52.987Z"
   },
   {
    "duration": 13,
    "start_time": "2025-04-15T06:37:28.693Z"
   },
   {
    "duration": 2,
    "start_time": "2025-04-15T06:37:48.365Z"
   },
   {
    "duration": 822,
    "start_time": "2025-04-15T06:37:48.370Z"
   },
   {
    "duration": 12,
    "start_time": "2025-04-15T06:37:49.194Z"
   },
   {
    "duration": 8,
    "start_time": "2025-04-15T06:37:49.208Z"
   },
   {
    "duration": 9,
    "start_time": "2025-04-15T06:37:49.219Z"
   },
   {
    "duration": 19,
    "start_time": "2025-04-15T06:37:49.231Z"
   },
   {
    "duration": 19,
    "start_time": "2025-04-15T06:37:49.252Z"
   },
   {
    "duration": 36,
    "start_time": "2025-04-15T06:37:49.273Z"
   },
   {
    "duration": 4,
    "start_time": "2025-04-15T06:37:49.311Z"
   },
   {
    "duration": 5,
    "start_time": "2025-04-15T06:37:49.317Z"
   },
   {
    "duration": 7,
    "start_time": "2025-04-15T06:37:49.324Z"
   },
   {
    "duration": 12,
    "start_time": "2025-04-15T06:37:49.333Z"
   },
   {
    "duration": 8,
    "start_time": "2025-04-15T06:37:49.347Z"
   },
   {
    "duration": 3,
    "start_time": "2025-04-15T06:37:49.358Z"
   },
   {
    "duration": 14,
    "start_time": "2025-04-15T06:37:49.406Z"
   },
   {
    "duration": 31,
    "start_time": "2025-04-15T06:37:49.422Z"
   },
   {
    "duration": 4,
    "start_time": "2025-04-15T06:37:49.455Z"
   },
   {
    "duration": 179,
    "start_time": "2025-04-15T06:37:49.461Z"
   },
   {
    "duration": 63,
    "start_time": "2025-04-15T06:37:49.642Z"
   },
   {
    "duration": 67,
    "start_time": "2025-04-15T06:37:49.707Z"
   },
   {
    "duration": 75,
    "start_time": "2025-04-15T06:37:49.776Z"
   },
   {
    "duration": 88,
    "start_time": "2025-04-15T06:37:49.853Z"
   },
   {
    "duration": 80,
    "start_time": "2025-04-15T06:37:49.943Z"
   },
   {
    "duration": 12,
    "start_time": "2025-04-15T06:37:50.025Z"
   },
   {
    "duration": 4,
    "start_time": "2025-04-15T06:37:50.039Z"
   },
   {
    "duration": 21,
    "start_time": "2025-04-15T06:37:50.046Z"
   },
   {
    "duration": 41,
    "start_time": "2025-04-15T06:37:50.069Z"
   },
   {
    "duration": 18,
    "start_time": "2025-04-15T06:38:05.831Z"
   },
   {
    "duration": 14,
    "start_time": "2025-04-15T06:39:30.284Z"
   },
   {
    "duration": 6,
    "start_time": "2025-04-15T06:39:36.283Z"
   },
   {
    "duration": 15,
    "start_time": "2025-04-15T06:41:03.747Z"
   },
   {
    "duration": 22,
    "start_time": "2025-04-15T06:42:03.008Z"
   },
   {
    "duration": 2,
    "start_time": "2025-04-15T06:42:14.410Z"
   },
   {
    "duration": 851,
    "start_time": "2025-04-15T06:42:14.415Z"
   },
   {
    "duration": 9,
    "start_time": "2025-04-15T06:42:15.268Z"
   },
   {
    "duration": 9,
    "start_time": "2025-04-15T06:42:15.279Z"
   },
   {
    "duration": 9,
    "start_time": "2025-04-15T06:42:15.306Z"
   },
   {
    "duration": 20,
    "start_time": "2025-04-15T06:42:15.317Z"
   },
   {
    "duration": 17,
    "start_time": "2025-04-15T06:42:15.339Z"
   },
   {
    "duration": 7,
    "start_time": "2025-04-15T06:42:15.358Z"
   },
   {
    "duration": 4,
    "start_time": "2025-04-15T06:42:15.367Z"
   },
   {
    "duration": 4,
    "start_time": "2025-04-15T06:42:15.372Z"
   },
   {
    "duration": 8,
    "start_time": "2025-04-15T06:42:15.405Z"
   },
   {
    "duration": 13,
    "start_time": "2025-04-15T06:42:15.414Z"
   },
   {
    "duration": 9,
    "start_time": "2025-04-15T06:42:15.429Z"
   },
   {
    "duration": 3,
    "start_time": "2025-04-15T06:42:15.441Z"
   },
   {
    "duration": 14,
    "start_time": "2025-04-15T06:42:15.446Z"
   },
   {
    "duration": 66,
    "start_time": "2025-04-15T06:42:15.462Z"
   },
   {
    "duration": 3,
    "start_time": "2025-04-15T06:42:15.530Z"
   },
   {
    "duration": 170,
    "start_time": "2025-04-15T06:42:15.535Z"
   },
   {
    "duration": 54,
    "start_time": "2025-04-15T06:42:15.707Z"
   },
   {
    "duration": 84,
    "start_time": "2025-04-15T06:42:15.763Z"
   },
   {
    "duration": 76,
    "start_time": "2025-04-15T06:42:15.849Z"
   },
   {
    "duration": 85,
    "start_time": "2025-04-15T06:42:15.927Z"
   },
   {
    "duration": 69,
    "start_time": "2025-04-15T06:42:16.014Z"
   },
   {
    "duration": 29,
    "start_time": "2025-04-15T06:42:16.085Z"
   },
   {
    "duration": 4,
    "start_time": "2025-04-15T06:42:16.116Z"
   },
   {
    "duration": 28,
    "start_time": "2025-04-15T06:42:20.484Z"
   },
   {
    "duration": 20,
    "start_time": "2025-04-15T06:42:29.831Z"
   },
   {
    "duration": 13,
    "start_time": "2025-04-15T06:42:35.258Z"
   },
   {
    "duration": 6,
    "start_time": "2025-04-15T06:42:42.692Z"
   },
   {
    "duration": 6,
    "start_time": "2025-04-15T06:44:13.167Z"
   },
   {
    "duration": 724,
    "start_time": "2025-04-15T06:45:19.987Z"
   },
   {
    "duration": 16,
    "start_time": "2025-04-15T06:53:34.204Z"
   },
   {
    "duration": 5,
    "start_time": "2025-04-15T06:54:14.295Z"
   },
   {
    "duration": 15,
    "start_time": "2025-04-15T06:54:27.855Z"
   },
   {
    "duration": 5,
    "start_time": "2025-04-15T06:55:16.163Z"
   },
   {
    "duration": 2122,
    "start_time": "2025-04-15T08:48:06.347Z"
   },
   {
    "duration": 1004,
    "start_time": "2025-04-15T08:48:08.471Z"
   },
   {
    "duration": 11,
    "start_time": "2025-04-15T08:48:09.477Z"
   },
   {
    "duration": 9,
    "start_time": "2025-04-15T08:48:09.490Z"
   },
   {
    "duration": 11,
    "start_time": "2025-04-15T08:48:09.500Z"
   },
   {
    "duration": 46,
    "start_time": "2025-04-15T08:48:09.512Z"
   },
   {
    "duration": 18,
    "start_time": "2025-04-15T08:48:09.560Z"
   },
   {
    "duration": 8,
    "start_time": "2025-04-15T08:48:09.580Z"
   },
   {
    "duration": 5,
    "start_time": "2025-04-15T08:48:09.590Z"
   },
   {
    "duration": 3,
    "start_time": "2025-04-15T08:48:09.599Z"
   },
   {
    "duration": 6,
    "start_time": "2025-04-15T08:48:09.604Z"
   },
   {
    "duration": 12,
    "start_time": "2025-04-15T08:48:09.643Z"
   },
   {
    "duration": 8,
    "start_time": "2025-04-15T08:48:09.657Z"
   },
   {
    "duration": 4,
    "start_time": "2025-04-15T08:48:09.667Z"
   },
   {
    "duration": 15,
    "start_time": "2025-04-15T08:48:09.673Z"
   },
   {
    "duration": 63,
    "start_time": "2025-04-15T08:48:09.690Z"
   },
   {
    "duration": 3,
    "start_time": "2025-04-15T08:48:09.755Z"
   },
   {
    "duration": 168,
    "start_time": "2025-04-15T08:48:09.760Z"
   },
   {
    "duration": 65,
    "start_time": "2025-04-15T08:48:09.932Z"
   },
   {
    "duration": 104,
    "start_time": "2025-04-15T08:48:09.998Z"
   },
   {
    "duration": 91,
    "start_time": "2025-04-15T08:48:10.104Z"
   },
   {
    "duration": 106,
    "start_time": "2025-04-15T08:48:10.197Z"
   },
   {
    "duration": 96,
    "start_time": "2025-04-15T08:48:10.304Z"
   },
   {
    "duration": 13,
    "start_time": "2025-04-15T08:48:10.402Z"
   },
   {
    "duration": 5,
    "start_time": "2025-04-15T08:48:10.416Z"
   },
   {
    "duration": 44,
    "start_time": "2025-04-15T08:48:10.422Z"
   },
   {
    "duration": 18,
    "start_time": "2025-04-15T08:48:10.468Z"
   },
   {
    "duration": 10,
    "start_time": "2025-04-15T08:48:10.490Z"
   },
   {
    "duration": 5,
    "start_time": "2025-04-15T08:48:10.502Z"
   },
   {
    "duration": 5,
    "start_time": "2025-04-15T08:48:10.509Z"
   },
   {
    "duration": 811,
    "start_time": "2025-04-15T08:48:10.516Z"
   },
   {
    "duration": 14,
    "start_time": "2025-04-15T08:48:11.329Z"
   },
   {
    "duration": 4,
    "start_time": "2025-04-15T08:48:45.776Z"
   },
   {
    "duration": 5,
    "start_time": "2025-04-15T08:54:57.870Z"
   },
   {
    "duration": 6,
    "start_time": "2025-04-15T08:55:10.138Z"
   },
   {
    "duration": 95,
    "start_time": "2025-04-15T08:56:19.631Z"
   },
   {
    "duration": 12,
    "start_time": "2025-04-15T08:56:34.826Z"
   },
   {
    "duration": 6,
    "start_time": "2025-04-15T08:58:43.038Z"
   },
   {
    "duration": 7,
    "start_time": "2025-04-15T08:58:55.749Z"
   },
   {
    "duration": 136,
    "start_time": "2025-04-15T09:04:06.126Z"
   },
   {
    "duration": 16,
    "start_time": "2025-04-15T09:06:26.967Z"
   },
   {
    "duration": 9,
    "start_time": "2025-04-15T09:06:43.992Z"
   },
   {
    "duration": 17,
    "start_time": "2025-04-15T09:07:19.943Z"
   },
   {
    "duration": 8,
    "start_time": "2025-04-15T09:07:56.007Z"
   },
   {
    "duration": 9,
    "start_time": "2025-04-15T09:08:28.883Z"
   },
   {
    "duration": 8,
    "start_time": "2025-04-15T09:09:35.136Z"
   },
   {
    "duration": 7,
    "start_time": "2025-04-15T09:10:28.363Z"
   },
   {
    "duration": 7,
    "start_time": "2025-04-15T09:11:02.583Z"
   },
   {
    "duration": 2,
    "start_time": "2025-04-15T09:11:28.312Z"
   },
   {
    "duration": 878,
    "start_time": "2025-04-15T09:11:28.316Z"
   },
   {
    "duration": 10,
    "start_time": "2025-04-15T09:11:29.195Z"
   },
   {
    "duration": 8,
    "start_time": "2025-04-15T09:11:29.207Z"
   },
   {
    "duration": 29,
    "start_time": "2025-04-15T09:11:29.218Z"
   },
   {
    "duration": 21,
    "start_time": "2025-04-15T09:11:29.249Z"
   },
   {
    "duration": 18,
    "start_time": "2025-04-15T09:11:29.272Z"
   },
   {
    "duration": 8,
    "start_time": "2025-04-15T09:11:29.292Z"
   },
   {
    "duration": 4,
    "start_time": "2025-04-15T09:11:29.301Z"
   },
   {
    "duration": 36,
    "start_time": "2025-04-15T09:11:29.307Z"
   },
   {
    "duration": 6,
    "start_time": "2025-04-15T09:11:29.345Z"
   },
   {
    "duration": 12,
    "start_time": "2025-04-15T09:11:29.353Z"
   },
   {
    "duration": 8,
    "start_time": "2025-04-15T09:11:29.368Z"
   },
   {
    "duration": 4,
    "start_time": "2025-04-15T09:11:29.377Z"
   },
   {
    "duration": 15,
    "start_time": "2025-04-15T09:11:29.383Z"
   },
   {
    "duration": 64,
    "start_time": "2025-04-15T09:11:29.399Z"
   },
   {
    "duration": 3,
    "start_time": "2025-04-15T09:11:29.466Z"
   },
   {
    "duration": 165,
    "start_time": "2025-04-15T09:11:29.471Z"
   },
   {
    "duration": 54,
    "start_time": "2025-04-15T09:11:29.637Z"
   },
   {
    "duration": 84,
    "start_time": "2025-04-15T09:11:29.693Z"
   },
   {
    "duration": 78,
    "start_time": "2025-04-15T09:11:29.779Z"
   },
   {
    "duration": 93,
    "start_time": "2025-04-15T09:11:29.858Z"
   },
   {
    "duration": 73,
    "start_time": "2025-04-15T09:11:29.953Z"
   },
   {
    "duration": 21,
    "start_time": "2025-04-15T09:11:30.028Z"
   },
   {
    "duration": 5,
    "start_time": "2025-04-15T09:11:30.051Z"
   },
   {
    "duration": 24,
    "start_time": "2025-04-15T09:11:30.058Z"
   },
   {
    "duration": 18,
    "start_time": "2025-04-15T09:11:30.084Z"
   },
   {
    "duration": 41,
    "start_time": "2025-04-15T09:11:30.104Z"
   },
   {
    "duration": 6,
    "start_time": "2025-04-15T09:11:30.147Z"
   },
   {
    "duration": 7,
    "start_time": "2025-04-15T09:11:30.155Z"
   },
   {
    "duration": 802,
    "start_time": "2025-04-15T09:11:30.163Z"
   },
   {
    "duration": 5,
    "start_time": "2025-04-15T09:11:30.967Z"
   },
   {
    "duration": 6,
    "start_time": "2025-04-15T09:11:30.974Z"
   },
   {
    "duration": 8,
    "start_time": "2025-04-15T09:11:33.139Z"
   },
   {
    "duration": 3,
    "start_time": "2025-04-15T09:11:58.238Z"
   },
   {
    "duration": 834,
    "start_time": "2025-04-15T09:11:58.243Z"
   },
   {
    "duration": 9,
    "start_time": "2025-04-15T09:11:59.079Z"
   },
   {
    "duration": 8,
    "start_time": "2025-04-15T09:11:59.090Z"
   },
   {
    "duration": 10,
    "start_time": "2025-04-15T09:11:59.100Z"
   },
   {
    "duration": 41,
    "start_time": "2025-04-15T09:11:59.111Z"
   },
   {
    "duration": 18,
    "start_time": "2025-04-15T09:11:59.154Z"
   },
   {
    "duration": 8,
    "start_time": "2025-04-15T09:11:59.173Z"
   },
   {
    "duration": 4,
    "start_time": "2025-04-15T09:11:59.183Z"
   },
   {
    "duration": 5,
    "start_time": "2025-04-15T09:11:59.188Z"
   },
   {
    "duration": 7,
    "start_time": "2025-04-15T09:11:59.195Z"
   },
   {
    "duration": 48,
    "start_time": "2025-04-15T09:11:59.203Z"
   },
   {
    "duration": 8,
    "start_time": "2025-04-15T09:11:59.254Z"
   },
   {
    "duration": 4,
    "start_time": "2025-04-15T09:11:59.263Z"
   },
   {
    "duration": 14,
    "start_time": "2025-04-15T09:11:59.269Z"
   },
   {
    "duration": 59,
    "start_time": "2025-04-15T09:11:59.285Z"
   },
   {
    "duration": 4,
    "start_time": "2025-04-15T09:11:59.346Z"
   },
   {
    "duration": 160,
    "start_time": "2025-04-15T09:11:59.352Z"
   },
   {
    "duration": 59,
    "start_time": "2025-04-15T09:11:59.513Z"
   },
   {
    "duration": 75,
    "start_time": "2025-04-15T09:11:59.574Z"
   },
   {
    "duration": 72,
    "start_time": "2025-04-15T09:11:59.651Z"
   },
   {
    "duration": 91,
    "start_time": "2025-04-15T09:11:59.725Z"
   },
   {
    "duration": 83,
    "start_time": "2025-04-15T09:11:59.817Z"
   },
   {
    "duration": 13,
    "start_time": "2025-04-15T09:11:59.901Z"
   },
   {
    "duration": 10,
    "start_time": "2025-04-15T09:11:59.916Z"
   },
   {
    "duration": 34,
    "start_time": "2025-04-15T09:11:59.930Z"
   },
   {
    "duration": 19,
    "start_time": "2025-04-15T09:11:59.966Z"
   },
   {
    "duration": 11,
    "start_time": "2025-04-15T09:11:59.987Z"
   },
   {
    "duration": 5,
    "start_time": "2025-04-15T09:12:00.000Z"
   },
   {
    "duration": 36,
    "start_time": "2025-04-15T09:12:00.007Z"
   },
   {
    "duration": 812,
    "start_time": "2025-04-15T09:12:00.044Z"
   },
   {
    "duration": 4,
    "start_time": "2025-04-15T09:12:00.858Z"
   },
   {
    "duration": 5,
    "start_time": "2025-04-15T09:12:00.864Z"
   },
   {
    "duration": 8,
    "start_time": "2025-04-15T09:12:05.398Z"
   },
   {
    "duration": 8,
    "start_time": "2025-04-15T09:12:42.811Z"
   },
   {
    "duration": 8,
    "start_time": "2025-04-15T09:13:29.971Z"
   },
   {
    "duration": 7,
    "start_time": "2025-04-15T09:13:47.348Z"
   },
   {
    "duration": 8,
    "start_time": "2025-04-15T09:13:53.147Z"
   },
   {
    "duration": 8,
    "start_time": "2025-04-15T09:14:33.319Z"
   },
   {
    "duration": 7,
    "start_time": "2025-04-15T09:14:45.511Z"
   },
   {
    "duration": 18,
    "start_time": "2025-04-15T09:15:55.019Z"
   },
   {
    "duration": 8,
    "start_time": "2025-04-15T09:16:03.048Z"
   },
   {
    "duration": 2,
    "start_time": "2025-04-15T09:16:14.613Z"
   },
   {
    "duration": 821,
    "start_time": "2025-04-15T09:16:14.618Z"
   },
   {
    "duration": 10,
    "start_time": "2025-04-15T09:16:15.441Z"
   },
   {
    "duration": 9,
    "start_time": "2025-04-15T09:16:15.454Z"
   },
   {
    "duration": 9,
    "start_time": "2025-04-15T09:16:15.465Z"
   },
   {
    "duration": 20,
    "start_time": "2025-04-15T09:16:15.475Z"
   },
   {
    "duration": 18,
    "start_time": "2025-04-15T09:16:15.497Z"
   },
   {
    "duration": 9,
    "start_time": "2025-04-15T09:16:15.543Z"
   },
   {
    "duration": 4,
    "start_time": "2025-04-15T09:16:15.553Z"
   },
   {
    "duration": 3,
    "start_time": "2025-04-15T09:16:15.559Z"
   },
   {
    "duration": 5,
    "start_time": "2025-04-15T09:16:15.566Z"
   },
   {
    "duration": 11,
    "start_time": "2025-04-15T09:16:15.573Z"
   },
   {
    "duration": 8,
    "start_time": "2025-04-15T09:16:15.585Z"
   },
   {
    "duration": 4,
    "start_time": "2025-04-15T09:16:15.595Z"
   },
   {
    "duration": 51,
    "start_time": "2025-04-15T09:16:15.600Z"
   },
   {
    "duration": 32,
    "start_time": "2025-04-15T09:16:15.653Z"
   },
   {
    "duration": 3,
    "start_time": "2025-04-15T09:16:15.687Z"
   },
   {
    "duration": 179,
    "start_time": "2025-04-15T09:16:15.691Z"
   },
   {
    "duration": 51,
    "start_time": "2025-04-15T09:16:15.871Z"
   },
   {
    "duration": 78,
    "start_time": "2025-04-15T09:16:15.924Z"
   },
   {
    "duration": 83,
    "start_time": "2025-04-15T09:16:16.004Z"
   },
   {
    "duration": 81,
    "start_time": "2025-04-15T09:16:16.089Z"
   },
   {
    "duration": 77,
    "start_time": "2025-04-15T09:16:16.172Z"
   },
   {
    "duration": 12,
    "start_time": "2025-04-15T09:16:16.251Z"
   },
   {
    "duration": 5,
    "start_time": "2025-04-15T09:16:16.265Z"
   },
   {
    "duration": 24,
    "start_time": "2025-04-15T09:16:16.271Z"
   },
   {
    "duration": 17,
    "start_time": "2025-04-15T09:16:16.297Z"
   },
   {
    "duration": 35,
    "start_time": "2025-04-15T09:16:16.316Z"
   },
   {
    "duration": 6,
    "start_time": "2025-04-15T09:16:16.354Z"
   },
   {
    "duration": 6,
    "start_time": "2025-04-15T09:16:16.362Z"
   },
   {
    "duration": 712,
    "start_time": "2025-04-15T09:16:16.369Z"
   },
   {
    "duration": 4,
    "start_time": "2025-04-15T09:16:17.083Z"
   },
   {
    "duration": 4,
    "start_time": "2025-04-15T09:16:17.090Z"
   },
   {
    "duration": 8,
    "start_time": "2025-04-15T09:16:20.149Z"
   },
   {
    "duration": 8,
    "start_time": "2025-04-15T09:18:30.996Z"
   },
   {
    "duration": 27,
    "start_time": "2025-04-15T09:25:08.492Z"
   },
   {
    "duration": 226,
    "start_time": "2025-04-15T09:25:23.427Z"
   },
   {
    "duration": 8,
    "start_time": "2025-04-15T09:28:00.295Z"
   },
   {
    "duration": 2,
    "start_time": "2025-04-15T09:28:38.870Z"
   },
   {
    "duration": 822,
    "start_time": "2025-04-15T09:28:38.874Z"
   },
   {
    "duration": 11,
    "start_time": "2025-04-15T09:28:39.697Z"
   },
   {
    "duration": 9,
    "start_time": "2025-04-15T09:28:39.709Z"
   },
   {
    "duration": 23,
    "start_time": "2025-04-15T09:28:39.720Z"
   },
   {
    "duration": 20,
    "start_time": "2025-04-15T09:28:39.745Z"
   },
   {
    "duration": 17,
    "start_time": "2025-04-15T09:28:39.768Z"
   },
   {
    "duration": 8,
    "start_time": "2025-04-15T09:28:39.786Z"
   },
   {
    "duration": 3,
    "start_time": "2025-04-15T09:28:39.796Z"
   },
   {
    "duration": 4,
    "start_time": "2025-04-15T09:28:39.801Z"
   },
   {
    "duration": 38,
    "start_time": "2025-04-15T09:28:39.806Z"
   },
   {
    "duration": 11,
    "start_time": "2025-04-15T09:28:39.846Z"
   },
   {
    "duration": 10,
    "start_time": "2025-04-15T09:28:39.858Z"
   },
   {
    "duration": 4,
    "start_time": "2025-04-15T09:28:39.871Z"
   },
   {
    "duration": 15,
    "start_time": "2025-04-15T09:28:39.876Z"
   },
   {
    "duration": 56,
    "start_time": "2025-04-15T09:28:39.894Z"
   },
   {
    "duration": 4,
    "start_time": "2025-04-15T09:28:39.952Z"
   },
   {
    "duration": 162,
    "start_time": "2025-04-15T09:28:39.958Z"
   },
   {
    "duration": 59,
    "start_time": "2025-04-15T09:28:40.122Z"
   },
   {
    "duration": 74,
    "start_time": "2025-04-15T09:28:40.183Z"
   },
   {
    "duration": 65,
    "start_time": "2025-04-15T09:28:40.259Z"
   },
   {
    "duration": 84,
    "start_time": "2025-04-15T09:28:40.326Z"
   },
   {
    "duration": 78,
    "start_time": "2025-04-15T09:28:40.412Z"
   },
   {
    "duration": 14,
    "start_time": "2025-04-15T09:28:40.491Z"
   },
   {
    "duration": 5,
    "start_time": "2025-04-15T09:28:40.506Z"
   },
   {
    "duration": 46,
    "start_time": "2025-04-15T09:28:40.513Z"
   },
   {
    "duration": 20,
    "start_time": "2025-04-15T09:28:40.562Z"
   },
   {
    "duration": 11,
    "start_time": "2025-04-15T09:28:40.583Z"
   },
   {
    "duration": 5,
    "start_time": "2025-04-15T09:28:40.596Z"
   },
   {
    "duration": 6,
    "start_time": "2025-04-15T09:28:40.603Z"
   },
   {
    "duration": 753,
    "start_time": "2025-04-15T09:28:40.611Z"
   },
   {
    "duration": 5,
    "start_time": "2025-04-15T09:28:41.365Z"
   },
   {
    "duration": 3,
    "start_time": "2025-04-15T09:28:41.372Z"
   },
   {
    "duration": 8,
    "start_time": "2025-04-15T09:28:42.696Z"
   },
   {
    "duration": 66,
    "start_time": "2025-04-15T09:29:57.963Z"
   },
   {
    "duration": 10,
    "start_time": "2025-04-15T09:31:36.411Z"
   },
   {
    "duration": 129,
    "start_time": "2025-04-15T09:34:55.344Z"
   },
   {
    "duration": 79,
    "start_time": "2025-04-15T09:35:12.911Z"
   },
   {
    "duration": 71,
    "start_time": "2025-04-15T09:36:03.792Z"
   },
   {
    "duration": 27,
    "start_time": "2025-04-15T09:39:43.501Z"
   },
   {
    "duration": 14,
    "start_time": "2025-04-15T09:40:09.040Z"
   },
   {
    "duration": 12,
    "start_time": "2025-04-15T09:40:26.132Z"
   },
   {
    "duration": 12,
    "start_time": "2025-04-15T09:42:37.616Z"
   },
   {
    "duration": 9,
    "start_time": "2025-04-15T09:42:50.972Z"
   },
   {
    "duration": 9,
    "start_time": "2025-04-15T09:42:56.483Z"
   },
   {
    "duration": 18,
    "start_time": "2025-04-15T09:44:47.540Z"
   },
   {
    "duration": 10,
    "start_time": "2025-04-15T09:45:07.222Z"
   },
   {
    "duration": 213,
    "start_time": "2025-04-15T09:47:48.172Z"
   },
   {
    "duration": 190,
    "start_time": "2025-04-15T09:49:58.240Z"
   },
   {
    "duration": 123,
    "start_time": "2025-04-15T10:00:09.517Z"
   },
   {
    "duration": 10,
    "start_time": "2025-04-15T19:49:15.414Z"
   },
   {
    "duration": 8,
    "start_time": "2025-04-15T19:49:28.296Z"
   },
   {
    "duration": 12,
    "start_time": "2025-04-15T19:50:09.264Z"
   },
   {
    "duration": 16,
    "start_time": "2025-04-15T19:51:09.042Z"
   },
   {
    "duration": 19,
    "start_time": "2025-04-15T19:52:50.561Z"
   },
   {
    "duration": 11,
    "start_time": "2025-04-15T19:53:26.639Z"
   },
   {
    "duration": 12,
    "start_time": "2025-04-15T19:53:39.357Z"
   },
   {
    "duration": 10,
    "start_time": "2025-04-15T19:54:45.897Z"
   },
   {
    "duration": 7,
    "start_time": "2025-04-15T19:58:06.270Z"
   },
   {
    "duration": 5,
    "start_time": "2025-04-15T19:58:28.302Z"
   },
   {
    "duration": 6,
    "start_time": "2025-04-15T19:59:02.390Z"
   },
   {
    "duration": 5,
    "start_time": "2025-04-15T19:59:06.821Z"
   },
   {
    "duration": 3,
    "start_time": "2025-04-15T20:00:26.612Z"
   },
   {
    "duration": 154,
    "start_time": "2025-04-15T20:00:29.190Z"
   },
   {
    "duration": 164,
    "start_time": "2025-04-15T20:01:05.460Z"
   },
   {
    "duration": 108,
    "start_time": "2025-04-15T20:04:01.571Z"
   },
   {
    "duration": 131,
    "start_time": "2025-04-15T20:05:35.612Z"
   },
   {
    "duration": 132,
    "start_time": "2025-04-15T20:05:59.315Z"
   },
   {
    "duration": 131,
    "start_time": "2025-04-15T20:06:16.096Z"
   },
   {
    "duration": 158,
    "start_time": "2025-04-15T20:06:51.832Z"
   },
   {
    "duration": 164,
    "start_time": "2025-04-15T20:08:47.492Z"
   },
   {
    "duration": 239,
    "start_time": "2025-04-15T20:10:01.944Z"
   },
   {
    "duration": 168,
    "start_time": "2025-04-15T20:10:48.710Z"
   },
   {
    "duration": 178,
    "start_time": "2025-04-15T20:10:54.637Z"
   },
   {
    "duration": 181,
    "start_time": "2025-04-15T20:14:57.964Z"
   },
   {
    "duration": 648,
    "start_time": "2025-04-15T20:15:17.541Z"
   },
   {
    "duration": 198,
    "start_time": "2025-04-15T20:16:06.498Z"
   },
   {
    "duration": 285,
    "start_time": "2025-04-15T20:16:27.209Z"
   },
   {
    "duration": 166,
    "start_time": "2025-04-15T20:17:50.808Z"
   },
   {
    "duration": 164,
    "start_time": "2025-04-15T20:18:20.117Z"
   },
   {
    "duration": 138,
    "start_time": "2025-04-15T20:19:04.831Z"
   },
   {
    "duration": 137,
    "start_time": "2025-04-15T20:21:20.681Z"
   },
   {
    "duration": 168,
    "start_time": "2025-04-15T20:22:02.378Z"
   },
   {
    "duration": 146,
    "start_time": "2025-04-15T20:22:18.285Z"
   },
   {
    "duration": 5,
    "start_time": "2025-04-15T20:22:41.521Z"
   },
   {
    "duration": 110,
    "start_time": "2025-04-15T20:22:44.965Z"
   },
   {
    "duration": 169,
    "start_time": "2025-04-15T20:23:00.923Z"
   },
   {
    "duration": 6,
    "start_time": "2025-04-15T20:24:37.397Z"
   },
   {
    "duration": 5,
    "start_time": "2025-04-15T20:24:49.114Z"
   },
   {
    "duration": 6,
    "start_time": "2025-04-15T20:25:59.326Z"
   },
   {
    "duration": 5,
    "start_time": "2025-04-15T20:26:03.302Z"
   },
   {
    "duration": 3,
    "start_time": "2025-04-15T20:26:14.299Z"
   },
   {
    "duration": 191,
    "start_time": "2025-04-15T20:26:46.560Z"
   },
   {
    "duration": 125,
    "start_time": "2025-04-15T20:26:56.451Z"
   },
   {
    "duration": 137,
    "start_time": "2025-04-15T20:27:03.631Z"
   },
   {
    "duration": 156,
    "start_time": "2025-04-15T20:27:34.669Z"
   },
   {
    "duration": 163,
    "start_time": "2025-04-15T20:29:04.329Z"
   },
   {
    "duration": 374,
    "start_time": "2025-04-15T20:29:17.030Z"
   },
   {
    "duration": 210,
    "start_time": "2025-04-15T20:29:46.678Z"
   },
   {
    "duration": 216,
    "start_time": "2025-04-15T20:31:43.208Z"
   },
   {
    "duration": 200,
    "start_time": "2025-04-15T20:37:09.469Z"
   },
   {
    "duration": 5,
    "start_time": "2025-04-15T20:37:32.954Z"
   },
   {
    "duration": 201,
    "start_time": "2025-04-15T20:38:48.001Z"
   },
   {
    "duration": 7,
    "start_time": "2025-04-15T20:41:07.570Z"
   },
   {
    "duration": 9,
    "start_time": "2025-04-15T20:42:29.525Z"
   },
   {
    "duration": 7,
    "start_time": "2025-04-15T20:43:45.641Z"
   },
   {
    "duration": 7,
    "start_time": "2025-04-15T20:43:55.759Z"
   },
   {
    "duration": 5,
    "start_time": "2025-04-15T20:45:00.526Z"
   },
   {
    "duration": 301,
    "start_time": "2025-04-15T20:45:04.388Z"
   },
   {
    "duration": 213,
    "start_time": "2025-04-15T20:45:26.648Z"
   },
   {
    "duration": 3,
    "start_time": "2025-04-15T20:45:47.854Z"
   },
   {
    "duration": 899,
    "start_time": "2025-04-15T20:45:47.859Z"
   },
   {
    "duration": 9,
    "start_time": "2025-04-15T20:45:48.760Z"
   },
   {
    "duration": 8,
    "start_time": "2025-04-15T20:45:48.771Z"
   },
   {
    "duration": 28,
    "start_time": "2025-04-15T20:45:48.781Z"
   },
   {
    "duration": 23,
    "start_time": "2025-04-15T20:45:48.811Z"
   },
   {
    "duration": 17,
    "start_time": "2025-04-15T20:45:48.835Z"
   },
   {
    "duration": 7,
    "start_time": "2025-04-15T20:45:48.854Z"
   },
   {
    "duration": 5,
    "start_time": "2025-04-15T20:45:48.863Z"
   },
   {
    "duration": 5,
    "start_time": "2025-04-15T20:45:48.869Z"
   },
   {
    "duration": 36,
    "start_time": "2025-04-15T20:45:48.875Z"
   },
   {
    "duration": 14,
    "start_time": "2025-04-15T20:45:48.913Z"
   },
   {
    "duration": 8,
    "start_time": "2025-04-15T20:45:48.928Z"
   },
   {
    "duration": 4,
    "start_time": "2025-04-15T20:45:48.939Z"
   },
   {
    "duration": 14,
    "start_time": "2025-04-15T20:45:48.945Z"
   },
   {
    "duration": 88,
    "start_time": "2025-04-15T20:45:48.961Z"
   },
   {
    "duration": 3,
    "start_time": "2025-04-15T20:45:49.051Z"
   },
   {
    "duration": 168,
    "start_time": "2025-04-15T20:45:49.056Z"
   },
   {
    "duration": 62,
    "start_time": "2025-04-15T20:45:49.226Z"
   },
   {
    "duration": 79,
    "start_time": "2025-04-15T20:45:49.290Z"
   },
   {
    "duration": 78,
    "start_time": "2025-04-15T20:45:49.371Z"
   },
   {
    "duration": 85,
    "start_time": "2025-04-15T20:45:49.450Z"
   },
   {
    "duration": 79,
    "start_time": "2025-04-15T20:45:49.537Z"
   },
   {
    "duration": 14,
    "start_time": "2025-04-15T20:45:49.617Z"
   },
   {
    "duration": 4,
    "start_time": "2025-04-15T20:45:49.633Z"
   },
   {
    "duration": 24,
    "start_time": "2025-04-15T20:45:49.638Z"
   },
   {
    "duration": 20,
    "start_time": "2025-04-15T20:45:49.663Z"
   },
   {
    "duration": 35,
    "start_time": "2025-04-15T20:45:49.684Z"
   },
   {
    "duration": 5,
    "start_time": "2025-04-15T20:45:49.721Z"
   },
   {
    "duration": 6,
    "start_time": "2025-04-15T20:45:49.727Z"
   },
   {
    "duration": 812,
    "start_time": "2025-04-15T20:45:49.734Z"
   },
   {
    "duration": 4,
    "start_time": "2025-04-15T20:45:50.548Z"
   },
   {
    "duration": 4,
    "start_time": "2025-04-15T20:45:50.554Z"
   },
   {
    "duration": 210,
    "start_time": "2025-04-15T20:45:50.559Z"
   },
   {
    "duration": 138,
    "start_time": "2025-04-15T20:45:50.771Z"
   },
   {
    "duration": 10,
    "start_time": "2025-04-15T20:45:50.911Z"
   },
   {
    "duration": 5,
    "start_time": "2025-04-15T20:45:50.923Z"
   },
   {
    "duration": 4,
    "start_time": "2025-04-15T20:45:50.930Z"
   },
   {
    "duration": 225,
    "start_time": "2025-04-15T20:45:50.936Z"
   },
   {
    "duration": 210,
    "start_time": "2025-04-15T20:45:52.865Z"
   },
   {
    "duration": 158,
    "start_time": "2025-04-15T20:48:01.072Z"
   },
   {
    "duration": 173,
    "start_time": "2025-04-15T20:50:25.645Z"
   },
   {
    "duration": 11,
    "start_time": "2025-04-15T21:05:49.447Z"
   },
   {
    "duration": 11,
    "start_time": "2025-04-15T21:08:23.309Z"
   },
   {
    "duration": 11,
    "start_time": "2025-04-15T21:09:33.309Z"
   },
   {
    "duration": 195,
    "start_time": "2025-04-15T21:11:11.653Z"
   },
   {
    "duration": 20,
    "start_time": "2025-04-15T21:12:48.938Z"
   },
   {
    "duration": 191,
    "start_time": "2025-04-15T21:13:37.498Z"
   },
   {
    "duration": 5,
    "start_time": "2025-04-15T21:14:46.086Z"
   },
   {
    "duration": 4,
    "start_time": "2025-04-15T21:16:26.932Z"
   },
   {
    "duration": 4,
    "start_time": "2025-04-15T21:21:12.970Z"
   },
   {
    "duration": 42,
    "start_time": "2025-04-15T21:21:13.788Z"
   },
   {
    "duration": 4,
    "start_time": "2025-04-15T21:21:54.541Z"
   },
   {
    "duration": 163,
    "start_time": "2025-04-15T21:21:55.184Z"
   },
   {
    "duration": 214,
    "start_time": "2025-04-15T21:27:10.184Z"
   },
   {
    "duration": 226,
    "start_time": "2025-04-15T21:27:44.879Z"
   },
   {
    "duration": 416,
    "start_time": "2025-04-15T21:28:25.728Z"
   },
   {
    "duration": 13,
    "start_time": "2025-04-15T21:32:35.368Z"
   },
   {
    "duration": 38,
    "start_time": "2025-04-15T21:32:45.304Z"
   },
   {
    "duration": 3,
    "start_time": "2025-04-15T21:36:29.037Z"
   },
   {
    "duration": 44,
    "start_time": "2025-04-15T21:36:55.943Z"
   },
   {
    "duration": 43,
    "start_time": "2025-04-15T21:37:58.261Z"
   },
   {
    "duration": 45,
    "start_time": "2025-04-15T21:38:02.118Z"
   },
   {
    "duration": 46,
    "start_time": "2025-04-15T21:38:07.267Z"
   },
   {
    "duration": 47,
    "start_time": "2025-04-15T21:38:10.751Z"
   },
   {
    "duration": 46,
    "start_time": "2025-04-15T21:38:41.069Z"
   },
   {
    "duration": 58,
    "start_time": "2025-04-15T21:38:59.166Z"
   },
   {
    "duration": 36,
    "start_time": "2025-04-15T21:39:39.298Z"
   },
   {
    "duration": 41,
    "start_time": "2025-04-15T21:40:01.601Z"
   },
   {
    "duration": 114,
    "start_time": "2025-04-15T21:41:44.130Z"
   },
   {
    "duration": 248,
    "start_time": "2025-04-15T21:42:04.661Z"
   },
   {
    "duration": 97,
    "start_time": "2025-04-15T21:42:09.133Z"
   },
   {
    "duration": 102,
    "start_time": "2025-04-15T21:42:15.057Z"
   },
   {
    "duration": 126,
    "start_time": "2025-04-15T21:42:23.513Z"
   },
   {
    "duration": 227,
    "start_time": "2025-04-15T21:46:38.949Z"
   },
   {
    "duration": 160,
    "start_time": "2025-04-15T21:47:37.233Z"
   },
   {
    "duration": 189,
    "start_time": "2025-04-15T21:48:10.969Z"
   },
   {
    "duration": 15,
    "start_time": "2025-04-15T21:49:07.400Z"
   },
   {
    "duration": 83,
    "start_time": "2025-04-15T21:49:14.746Z"
   },
   {
    "duration": 182,
    "start_time": "2025-04-15T21:52:38.734Z"
   },
   {
    "duration": 179,
    "start_time": "2025-04-15T21:52:55.914Z"
   },
   {
    "duration": 41,
    "start_time": "2025-04-15T21:54:03.559Z"
   },
   {
    "duration": 239,
    "start_time": "2025-04-15T21:54:19.671Z"
   },
   {
    "duration": 336,
    "start_time": "2025-04-15T21:54:27.777Z"
   },
   {
    "duration": 42,
    "start_time": "2025-04-15T21:56:00.864Z"
   },
   {
    "duration": 46,
    "start_time": "2025-04-15T21:56:22.733Z"
   },
   {
    "duration": 595,
    "start_time": "2025-04-15T21:57:14.178Z"
   },
   {
    "duration": 64,
    "start_time": "2025-04-15T21:58:09.265Z"
   },
   {
    "duration": 69,
    "start_time": "2025-04-15T21:58:31.046Z"
   },
   {
    "duration": 135,
    "start_time": "2025-04-15T21:58:36.284Z"
   },
   {
    "duration": 187,
    "start_time": "2025-04-15T21:59:00.434Z"
   },
   {
    "duration": 51,
    "start_time": "2025-04-15T22:01:05.627Z"
   },
   {
    "duration": 124,
    "start_time": "2025-04-15T22:01:23.065Z"
   },
   {
    "duration": 1895,
    "start_time": "2025-04-15T22:02:01.889Z"
   },
   {
    "duration": 324,
    "start_time": "2025-04-15T22:02:27.267Z"
   },
   {
    "duration": 105,
    "start_time": "2025-04-15T22:02:33.648Z"
   },
   {
    "duration": 130,
    "start_time": "2025-04-15T22:03:07.293Z"
   },
   {
    "duration": 120,
    "start_time": "2025-04-15T22:03:22.783Z"
   },
   {
    "duration": 120,
    "start_time": "2025-04-15T22:03:40.613Z"
   },
   {
    "duration": 165,
    "start_time": "2025-04-15T22:03:47.170Z"
   },
   {
    "duration": 58,
    "start_time": "2025-04-15T22:04:20.280Z"
   },
   {
    "duration": 139,
    "start_time": "2025-04-15T22:06:22.006Z"
   },
   {
    "duration": 24,
    "start_time": "2025-04-15T22:13:58.985Z"
   },
   {
    "duration": 14,
    "start_time": "2025-04-15T22:14:22.425Z"
   },
   {
    "duration": 478,
    "start_time": "2025-04-15T22:15:52.834Z"
   },
   {
    "duration": 454,
    "start_time": "2025-04-15T22:16:02.998Z"
   },
   {
    "duration": 451,
    "start_time": "2025-04-15T22:16:34.706Z"
   },
   {
    "duration": 3,
    "start_time": "2025-04-15T22:20:11.974Z"
   },
   {
    "duration": 431,
    "start_time": "2025-04-15T22:20:25.982Z"
   },
   {
    "duration": 432,
    "start_time": "2025-04-15T22:21:04.994Z"
   },
   {
    "duration": 456,
    "start_time": "2025-04-15T22:24:43.775Z"
   },
   {
    "duration": 451,
    "start_time": "2025-04-15T22:25:11.900Z"
   },
   {
    "duration": 448,
    "start_time": "2025-04-15T22:26:03.209Z"
   },
   {
    "duration": 436,
    "start_time": "2025-04-15T22:26:20.826Z"
   },
   {
    "duration": 447,
    "start_time": "2025-04-15T22:26:37.609Z"
   },
   {
    "duration": 453,
    "start_time": "2025-04-15T22:27:38.953Z"
   },
   {
    "duration": 12,
    "start_time": "2025-04-15T22:29:40.858Z"
   },
   {
    "duration": 211,
    "start_time": "2025-04-15T22:29:57.522Z"
   },
   {
    "duration": 192,
    "start_time": "2025-04-15T22:30:56.566Z"
   },
   {
    "duration": 4,
    "start_time": "2025-04-15T22:40:05.350Z"
   },
   {
    "duration": 203,
    "start_time": "2025-04-15T22:40:16.878Z"
   },
   {
    "duration": 454,
    "start_time": "2025-04-15T22:41:06.579Z"
   },
   {
    "duration": 453,
    "start_time": "2025-04-15T22:41:16.116Z"
   },
   {
    "duration": 62,
    "start_time": "2025-04-15T22:42:03.550Z"
   },
   {
    "duration": 64,
    "start_time": "2025-04-15T22:42:25.614Z"
   },
   {
    "duration": 202,
    "start_time": "2025-04-15T22:43:07.989Z"
   },
   {
    "duration": 17,
    "start_time": "2025-04-15T22:43:16.524Z"
   },
   {
    "duration": 198,
    "start_time": "2025-04-15T22:43:34.124Z"
   },
   {
    "duration": 215,
    "start_time": "2025-04-15T22:45:24.065Z"
   },
   {
    "duration": 212,
    "start_time": "2025-04-15T22:50:32.205Z"
   },
   {
    "duration": 156,
    "start_time": "2025-04-15T23:16:54.178Z"
   },
   {
    "duration": 2117,
    "start_time": "2025-04-15T23:17:06.252Z"
   },
   {
    "duration": 1038,
    "start_time": "2025-04-15T23:17:08.371Z"
   },
   {
    "duration": 14,
    "start_time": "2025-04-15T23:17:09.412Z"
   },
   {
    "duration": 9,
    "start_time": "2025-04-15T23:17:09.428Z"
   },
   {
    "duration": 10,
    "start_time": "2025-04-15T23:17:09.440Z"
   },
   {
    "duration": 22,
    "start_time": "2025-04-15T23:17:09.452Z"
   },
   {
    "duration": 51,
    "start_time": "2025-04-15T23:17:09.476Z"
   },
   {
    "duration": 8,
    "start_time": "2025-04-15T23:17:09.529Z"
   },
   {
    "duration": 5,
    "start_time": "2025-04-15T23:17:09.539Z"
   },
   {
    "duration": 4,
    "start_time": "2025-04-15T23:17:09.545Z"
   },
   {
    "duration": 6,
    "start_time": "2025-04-15T23:17:09.551Z"
   },
   {
    "duration": 11,
    "start_time": "2025-04-15T23:17:09.558Z"
   },
   {
    "duration": 40,
    "start_time": "2025-04-15T23:17:09.570Z"
   },
   {
    "duration": 4,
    "start_time": "2025-04-15T23:17:09.615Z"
   },
   {
    "duration": 14,
    "start_time": "2025-04-15T23:17:09.621Z"
   },
   {
    "duration": 31,
    "start_time": "2025-04-15T23:17:09.637Z"
   },
   {
    "duration": 3,
    "start_time": "2025-04-15T23:17:09.670Z"
   },
   {
    "duration": 192,
    "start_time": "2025-04-15T23:17:09.675Z"
   },
   {
    "duration": 62,
    "start_time": "2025-04-15T23:17:09.869Z"
   },
   {
    "duration": 94,
    "start_time": "2025-04-15T23:17:09.934Z"
   },
   {
    "duration": 89,
    "start_time": "2025-04-15T23:17:10.030Z"
   },
   {
    "duration": 94,
    "start_time": "2025-04-15T23:17:10.121Z"
   },
   {
    "duration": 79,
    "start_time": "2025-04-15T23:17:10.217Z"
   },
   {
    "duration": 14,
    "start_time": "2025-04-15T23:17:10.309Z"
   },
   {
    "duration": 5,
    "start_time": "2025-04-15T23:17:10.325Z"
   },
   {
    "duration": 23,
    "start_time": "2025-04-15T23:17:10.333Z"
   },
   {
    "duration": 18,
    "start_time": "2025-04-15T23:17:10.357Z"
   },
   {
    "duration": 36,
    "start_time": "2025-04-15T23:17:10.377Z"
   },
   {
    "duration": 7,
    "start_time": "2025-04-15T23:17:10.414Z"
   },
   {
    "duration": 5,
    "start_time": "2025-04-15T23:17:10.423Z"
   },
   {
    "duration": 785,
    "start_time": "2025-04-15T23:17:10.429Z"
   },
   {
    "duration": 4,
    "start_time": "2025-04-15T23:17:11.216Z"
   },
   {
    "duration": 5,
    "start_time": "2025-04-15T23:17:11.222Z"
   },
   {
    "duration": 263,
    "start_time": "2025-04-15T23:17:11.230Z"
   },
   {
    "duration": 136,
    "start_time": "2025-04-15T23:17:11.494Z"
   },
   {
    "duration": 193,
    "start_time": "2025-04-15T23:17:11.632Z"
   },
   {
    "duration": 13,
    "start_time": "2025-04-15T23:17:11.827Z"
   },
   {
    "duration": 5,
    "start_time": "2025-04-15T23:17:11.842Z"
   },
   {
    "duration": 3,
    "start_time": "2025-04-15T23:17:11.848Z"
   },
   {
    "duration": 186,
    "start_time": "2025-04-15T23:17:11.853Z"
   },
   {
    "duration": 221,
    "start_time": "2025-04-15T23:17:12.043Z"
   },
   {
    "duration": 70,
    "start_time": "2025-04-15T23:17:12.266Z"
   },
   {
    "duration": 143,
    "start_time": "2025-04-15T23:17:12.338Z"
   },
   {
    "duration": 490,
    "start_time": "2025-04-15T23:17:12.482Z"
   },
   {
    "duration": 452,
    "start_time": "2025-04-15T23:17:12.973Z"
   },
   {
    "duration": 239,
    "start_time": "2025-04-15T23:17:13.427Z"
   },
   {
    "duration": 373,
    "start_time": "2025-04-15T23:17:13.667Z"
   },
   {
    "duration": 1830,
    "start_time": "2025-04-15T23:21:07.234Z"
   },
   {
    "duration": 1779,
    "start_time": "2025-04-15T23:26:16.909Z"
   },
   {
    "duration": 212,
    "start_time": "2025-04-15T23:27:18.029Z"
   },
   {
    "duration": 221,
    "start_time": "2025-04-15T23:27:52.830Z"
   },
   {
    "duration": 208,
    "start_time": "2025-04-15T23:28:32.950Z"
   },
   {
    "duration": 283,
    "start_time": "2025-04-15T23:28:54.176Z"
   },
   {
    "duration": 212,
    "start_time": "2025-04-15T23:29:50.097Z"
   },
   {
    "duration": 239,
    "start_time": "2025-04-15T23:36:11.709Z"
   },
   {
    "duration": 889,
    "start_time": "2025-04-15T23:40:01.157Z"
   },
   {
    "duration": 837,
    "start_time": "2025-04-15T23:40:20.942Z"
   },
   {
    "duration": 843,
    "start_time": "2025-04-15T23:41:43.697Z"
   },
   {
    "duration": 238,
    "start_time": "2025-04-15T23:43:03.885Z"
   },
   {
    "duration": 147,
    "start_time": "2025-04-15T23:45:48.804Z"
   },
   {
    "duration": 223,
    "start_time": "2025-04-15T23:49:50.213Z"
   },
   {
    "duration": 237,
    "start_time": "2025-04-15T23:52:19.612Z"
   },
   {
    "duration": 6,
    "start_time": "2025-04-15T23:54:17.544Z"
   },
   {
    "duration": 244,
    "start_time": "2025-04-15T23:54:23.733Z"
   },
   {
    "duration": 252,
    "start_time": "2025-04-15T23:55:42.795Z"
   },
   {
    "duration": 237,
    "start_time": "2025-04-15T23:56:02.157Z"
   },
   {
    "duration": 240,
    "start_time": "2025-04-15T23:56:22.913Z"
   },
   {
    "duration": 252,
    "start_time": "2025-04-15T23:56:51.404Z"
   },
   {
    "duration": 246,
    "start_time": "2025-04-15T23:57:32.444Z"
   },
   {
    "duration": 240,
    "start_time": "2025-04-15T23:58:13.201Z"
   },
   {
    "duration": 5,
    "start_time": "2025-04-15T23:59:29.637Z"
   },
   {
    "duration": 587,
    "start_time": "2025-04-15T23:59:35.874Z"
   },
   {
    "duration": 226,
    "start_time": "2025-04-16T00:00:19.925Z"
   },
   {
    "duration": 281,
    "start_time": "2025-04-16T00:01:57.997Z"
   },
   {
    "duration": 251,
    "start_time": "2025-04-16T00:02:15.165Z"
   },
   {
    "duration": 234,
    "start_time": "2025-04-16T00:04:10.965Z"
   },
   {
    "duration": 253,
    "start_time": "2025-04-16T00:05:08.522Z"
   },
   {
    "duration": 910,
    "start_time": "2025-04-16T00:07:44.305Z"
   },
   {
    "duration": 254,
    "start_time": "2025-04-16T00:11:12.516Z"
   },
   {
    "duration": 272,
    "start_time": "2025-04-16T00:11:59.787Z"
   },
   {
    "duration": 967,
    "start_time": "2025-04-16T00:12:01.081Z"
   },
   {
    "duration": 258,
    "start_time": "2025-04-16T00:12:29.386Z"
   },
   {
    "duration": 254,
    "start_time": "2025-04-16T00:12:52.949Z"
   },
   {
    "duration": 4,
    "start_time": "2025-04-16T00:13:58.545Z"
   },
   {
    "duration": 897,
    "start_time": "2025-04-16T00:14:38.465Z"
   },
   {
    "duration": 899,
    "start_time": "2025-04-16T00:15:28.434Z"
   },
   {
    "duration": 909,
    "start_time": "2025-04-16T00:16:34.893Z"
   },
   {
    "duration": 5,
    "start_time": "2025-04-16T00:16:55.457Z"
   },
   {
    "duration": 3,
    "start_time": "2025-04-16T00:17:00.357Z"
   },
   {
    "duration": 4,
    "start_time": "2025-04-16T00:17:20.463Z"
   },
   {
    "duration": 4,
    "start_time": "2025-04-16T00:17:38.725Z"
   },
   {
    "duration": 8,
    "start_time": "2025-04-16T00:18:08.526Z"
   },
   {
    "duration": 1011,
    "start_time": "2025-04-16T00:18:31.642Z"
   },
   {
    "duration": 948,
    "start_time": "2025-04-16T00:18:48.365Z"
   },
   {
    "duration": 891,
    "start_time": "2025-04-16T00:19:03.851Z"
   },
   {
    "duration": 5,
    "start_time": "2025-04-16T00:21:03.679Z"
   },
   {
    "duration": 894,
    "start_time": "2025-04-16T00:21:31.174Z"
   },
   {
    "duration": 929,
    "start_time": "2025-04-16T00:25:28.363Z"
   },
   {
    "duration": 225,
    "start_time": "2025-04-16T00:29:15.216Z"
   },
   {
    "duration": 828,
    "start_time": "2025-04-16T00:31:09.151Z"
   },
   {
    "duration": 258,
    "start_time": "2025-04-16T00:31:17.886Z"
   },
   {
    "duration": 176,
    "start_time": "2025-04-16T00:31:19.996Z"
   },
   {
    "duration": 944,
    "start_time": "2025-04-16T00:31:27.904Z"
   },
   {
    "duration": 211,
    "start_time": "2025-04-16T00:31:33.472Z"
   },
   {
    "duration": 244,
    "start_time": "2025-04-16T00:34:30.157Z"
   },
   {
    "duration": 287,
    "start_time": "2025-04-16T00:35:26.517Z"
   },
   {
    "duration": 891,
    "start_time": "2025-04-16T00:35:27.161Z"
   },
   {
    "duration": 220,
    "start_time": "2025-04-16T00:35:40.616Z"
   },
   {
    "duration": 341,
    "start_time": "2025-04-16T00:39:24.402Z"
   },
   {
    "duration": 273,
    "start_time": "2025-04-16T00:39:45.846Z"
   },
   {
    "duration": 275,
    "start_time": "2025-04-16T00:42:30.301Z"
   },
   {
    "duration": 13,
    "start_time": "2025-04-16T00:43:35.075Z"
   },
   {
    "duration": 4,
    "start_time": "2025-04-16T00:43:47.269Z"
   },
   {
    "duration": 201,
    "start_time": "2025-04-16T00:46:08.187Z"
   },
   {
    "duration": 7,
    "start_time": "2025-04-16T00:47:07.105Z"
   },
   {
    "duration": 409,
    "start_time": "2025-04-16T00:48:17.401Z"
   },
   {
    "duration": 447,
    "start_time": "2025-04-16T01:01:19.869Z"
   },
   {
    "duration": 448,
    "start_time": "2025-04-16T01:04:30.712Z"
   },
   {
    "duration": 3,
    "start_time": "2025-04-16T01:05:21.941Z"
   },
   {
    "duration": 447,
    "start_time": "2025-04-16T01:06:01.093Z"
   },
   {
    "duration": 460,
    "start_time": "2025-04-16T01:06:25.355Z"
   },
   {
    "duration": 459,
    "start_time": "2025-04-16T01:06:33.160Z"
   },
   {
    "duration": 16,
    "start_time": "2025-04-16T01:08:32.293Z"
   },
   {
    "duration": 9,
    "start_time": "2025-04-16T01:09:27.233Z"
   },
   {
    "duration": 11,
    "start_time": "2025-04-16T01:17:07.161Z"
   },
   {
    "duration": 659,
    "start_time": "2025-04-16T01:17:27.189Z"
   },
   {
    "duration": 8,
    "start_time": "2025-04-16T01:17:29.268Z"
   },
   {
    "duration": 7,
    "start_time": "2025-04-16T01:17:57.091Z"
   },
   {
    "duration": 7,
    "start_time": "2025-04-16T01:19:18.740Z"
   },
   {
    "duration": 680,
    "start_time": "2025-04-16T01:20:09.557Z"
   },
   {
    "duration": 4,
    "start_time": "2025-04-16T01:20:11.369Z"
   },
   {
    "duration": 730,
    "start_time": "2025-04-16T01:20:28.292Z"
   },
   {
    "duration": 7,
    "start_time": "2025-04-16T01:20:38.193Z"
   },
   {
    "duration": 7,
    "start_time": "2025-04-16T01:27:18.506Z"
   },
   {
    "duration": 537,
    "start_time": "2025-04-16T01:27:41.131Z"
   },
   {
    "duration": 94,
    "start_time": "2025-04-16T01:29:49.705Z"
   },
   {
    "duration": 68,
    "start_time": "2025-04-16T01:30:24.100Z"
   },
   {
    "duration": 15,
    "start_time": "2025-04-16T01:30:44.589Z"
   },
   {
    "duration": 19,
    "start_time": "2025-04-16T01:32:24.839Z"
   },
   {
    "duration": 275,
    "start_time": "2025-04-16T01:32:32.145Z"
   },
   {
    "duration": 526,
    "start_time": "2025-04-16T01:32:34.829Z"
   },
   {
    "duration": 86,
    "start_time": "2025-04-16T01:32:35.734Z"
   },
   {
    "duration": 40,
    "start_time": "2025-04-16T01:33:10.813Z"
   },
   {
    "duration": 558,
    "start_time": "2025-04-16T01:33:14.200Z"
   },
   {
    "duration": 74,
    "start_time": "2025-04-16T01:33:15.540Z"
   },
   {
    "duration": 565,
    "start_time": "2025-04-16T01:33:58.025Z"
   },
   {
    "duration": 102,
    "start_time": "2025-04-16T01:33:59.146Z"
   },
   {
    "duration": 67,
    "start_time": "2025-04-16T01:35:43.480Z"
   },
   {
    "duration": 530,
    "start_time": "2025-04-16T01:35:52.604Z"
   },
   {
    "duration": 70,
    "start_time": "2025-04-16T01:35:53.924Z"
   },
   {
    "duration": 3,
    "start_time": "2025-04-16T01:42:42.349Z"
   },
   {
    "duration": 934,
    "start_time": "2025-04-16T01:42:42.354Z"
   },
   {
    "duration": 9,
    "start_time": "2025-04-16T01:42:43.290Z"
   },
   {
    "duration": 16,
    "start_time": "2025-04-16T01:42:43.301Z"
   },
   {
    "duration": 11,
    "start_time": "2025-04-16T01:42:43.320Z"
   },
   {
    "duration": 28,
    "start_time": "2025-04-16T01:42:43.332Z"
   },
   {
    "duration": 23,
    "start_time": "2025-04-16T01:42:43.361Z"
   },
   {
    "duration": 31,
    "start_time": "2025-04-16T01:42:43.385Z"
   },
   {
    "duration": 5,
    "start_time": "2025-04-16T01:42:43.418Z"
   },
   {
    "duration": 5,
    "start_time": "2025-04-16T01:42:43.425Z"
   },
   {
    "duration": 8,
    "start_time": "2025-04-16T01:42:43.432Z"
   },
   {
    "duration": 15,
    "start_time": "2025-04-16T01:42:43.442Z"
   },
   {
    "duration": 8,
    "start_time": "2025-04-16T01:42:43.458Z"
   },
   {
    "duration": 3,
    "start_time": "2025-04-16T01:42:43.471Z"
   },
   {
    "duration": 50,
    "start_time": "2025-04-16T01:42:43.476Z"
   },
   {
    "duration": 31,
    "start_time": "2025-04-16T01:42:43.528Z"
   },
   {
    "duration": 4,
    "start_time": "2025-04-16T01:42:43.562Z"
   },
   {
    "duration": 177,
    "start_time": "2025-04-16T01:42:43.568Z"
   },
   {
    "duration": 50,
    "start_time": "2025-04-16T01:42:43.747Z"
   },
   {
    "duration": 94,
    "start_time": "2025-04-16T01:42:43.799Z"
   },
   {
    "duration": 80,
    "start_time": "2025-04-16T01:42:43.895Z"
   },
   {
    "duration": 86,
    "start_time": "2025-04-16T01:42:43.977Z"
   },
   {
    "duration": 73,
    "start_time": "2025-04-16T01:42:44.065Z"
   },
   {
    "duration": 14,
    "start_time": "2025-04-16T01:42:44.140Z"
   },
   {
    "duration": 4,
    "start_time": "2025-04-16T01:42:44.156Z"
   },
   {
    "duration": 25,
    "start_time": "2025-04-16T01:42:44.163Z"
   },
   {
    "duration": 39,
    "start_time": "2025-04-16T01:42:44.190Z"
   },
   {
    "duration": 11,
    "start_time": "2025-04-16T01:42:44.231Z"
   },
   {
    "duration": 6,
    "start_time": "2025-04-16T01:42:44.243Z"
   },
   {
    "duration": 6,
    "start_time": "2025-04-16T01:42:44.250Z"
   },
   {
    "duration": 774,
    "start_time": "2025-04-16T01:42:44.258Z"
   },
   {
    "duration": 6,
    "start_time": "2025-04-16T01:42:45.033Z"
   },
   {
    "duration": 5,
    "start_time": "2025-04-16T01:42:45.041Z"
   },
   {
    "duration": 206,
    "start_time": "2025-04-16T01:42:45.048Z"
   },
   {
    "duration": 155,
    "start_time": "2025-04-16T01:42:45.256Z"
   },
   {
    "duration": 198,
    "start_time": "2025-04-16T01:42:45.413Z"
   },
   {
    "duration": 10,
    "start_time": "2025-04-16T01:42:45.615Z"
   },
   {
    "duration": 8,
    "start_time": "2025-04-16T01:42:45.626Z"
   },
   {
    "duration": 3,
    "start_time": "2025-04-16T01:42:45.635Z"
   },
   {
    "duration": 218,
    "start_time": "2025-04-16T01:42:45.639Z"
   },
   {
    "duration": 229,
    "start_time": "2025-04-16T01:42:45.862Z"
   },
   {
    "duration": 62,
    "start_time": "2025-04-16T01:42:46.094Z"
   },
   {
    "duration": 135,
    "start_time": "2025-04-16T01:42:46.158Z"
   },
   {
    "duration": 457,
    "start_time": "2025-04-16T01:42:46.294Z"
   },
   {
    "duration": 438,
    "start_time": "2025-04-16T01:42:46.752Z"
   },
   {
    "duration": 266,
    "start_time": "2025-04-16T01:42:47.192Z"
   },
   {
    "duration": 229,
    "start_time": "2025-04-16T01:42:47.460Z"
   },
   {
    "duration": 889,
    "start_time": "2025-04-16T01:42:47.691Z"
   },
   {
    "duration": 231,
    "start_time": "2025-04-16T01:42:48.582Z"
   },
   {
    "duration": 288,
    "start_time": "2025-04-16T01:42:48.815Z"
   },
   {
    "duration": 279,
    "start_time": "2025-04-16T01:42:49.105Z"
   },
   {
    "duration": 3,
    "start_time": "2025-04-16T01:42:49.386Z"
   },
   {
    "duration": 224,
    "start_time": "2025-04-16T01:42:49.391Z"
   },
   {
    "duration": 492,
    "start_time": "2025-04-16T01:42:49.617Z"
   },
   {
    "duration": 465,
    "start_time": "2025-04-16T01:42:50.113Z"
   },
   {
    "duration": 16,
    "start_time": "2025-04-16T01:42:50.580Z"
   },
   {
    "duration": 694,
    "start_time": "2025-04-16T01:42:50.610Z"
   },
   {
    "duration": 7,
    "start_time": "2025-04-16T01:42:51.308Z"
   },
   {
    "duration": 539,
    "start_time": "2025-04-16T01:42:51.316Z"
   },
   {
    "duration": 74,
    "start_time": "2025-04-16T01:42:51.858Z"
   },
   {
    "duration": 0,
    "start_time": "2025-04-16T01:46:19.109Z"
   },
   {
    "duration": 14,
    "start_time": "2025-04-16T01:46:29.630Z"
   },
   {
    "duration": 3,
    "start_time": "2025-04-16T01:47:35.556Z"
   },
   {
    "duration": 889,
    "start_time": "2025-04-16T01:47:35.561Z"
   },
   {
    "duration": 9,
    "start_time": "2025-04-16T01:47:36.452Z"
   },
   {
    "duration": 9,
    "start_time": "2025-04-16T01:47:36.465Z"
   },
   {
    "duration": 10,
    "start_time": "2025-04-16T01:47:36.476Z"
   },
   {
    "duration": 41,
    "start_time": "2025-04-16T01:47:36.488Z"
   },
   {
    "duration": 26,
    "start_time": "2025-04-16T01:47:36.531Z"
   },
   {
    "duration": 9,
    "start_time": "2025-04-16T01:47:36.561Z"
   },
   {
    "duration": 4,
    "start_time": "2025-04-16T01:47:36.573Z"
   },
   {
    "duration": 4,
    "start_time": "2025-04-16T01:47:36.579Z"
   },
   {
    "duration": 26,
    "start_time": "2025-04-16T01:47:36.585Z"
   },
   {
    "duration": 11,
    "start_time": "2025-04-16T01:47:36.613Z"
   },
   {
    "duration": 10,
    "start_time": "2025-04-16T01:47:36.626Z"
   },
   {
    "duration": 4,
    "start_time": "2025-04-16T01:47:36.639Z"
   },
   {
    "duration": 19,
    "start_time": "2025-04-16T01:47:36.645Z"
   },
   {
    "duration": 73,
    "start_time": "2025-04-16T01:47:36.666Z"
   },
   {
    "duration": 4,
    "start_time": "2025-04-16T01:47:36.741Z"
   },
   {
    "duration": 167,
    "start_time": "2025-04-16T01:47:36.747Z"
   },
   {
    "duration": 50,
    "start_time": "2025-04-16T01:47:36.917Z"
   },
   {
    "duration": 81,
    "start_time": "2025-04-16T01:47:36.970Z"
   },
   {
    "duration": 74,
    "start_time": "2025-04-16T01:47:37.053Z"
   },
   {
    "duration": 106,
    "start_time": "2025-04-16T01:47:37.129Z"
   },
   {
    "duration": 96,
    "start_time": "2025-04-16T01:47:37.237Z"
   },
   {
    "duration": 15,
    "start_time": "2025-04-16T01:47:37.339Z"
   },
   {
    "duration": 5,
    "start_time": "2025-04-16T01:47:37.356Z"
   },
   {
    "duration": 48,
    "start_time": "2025-04-16T01:47:37.363Z"
   },
   {
    "duration": 20,
    "start_time": "2025-04-16T01:47:37.413Z"
   },
   {
    "duration": 10,
    "start_time": "2025-04-16T01:47:37.435Z"
   },
   {
    "duration": 5,
    "start_time": "2025-04-16T01:47:37.447Z"
   },
   {
    "duration": 6,
    "start_time": "2025-04-16T01:47:37.454Z"
   },
   {
    "duration": 748,
    "start_time": "2025-04-16T01:47:37.461Z"
   },
   {
    "duration": 5,
    "start_time": "2025-04-16T01:47:38.212Z"
   },
   {
    "duration": 4,
    "start_time": "2025-04-16T01:47:38.219Z"
   },
   {
    "duration": 222,
    "start_time": "2025-04-16T01:47:38.225Z"
   },
   {
    "duration": 151,
    "start_time": "2025-04-16T01:47:38.448Z"
   },
   {
    "duration": 249,
    "start_time": "2025-04-16T01:47:38.600Z"
   },
   {
    "duration": 10,
    "start_time": "2025-04-16T01:47:38.851Z"
   },
   {
    "duration": 5,
    "start_time": "2025-04-16T01:47:38.863Z"
   },
   {
    "duration": 5,
    "start_time": "2025-04-16T01:47:38.870Z"
   },
   {
    "duration": 201,
    "start_time": "2025-04-16T01:47:38.877Z"
   },
   {
    "duration": 234,
    "start_time": "2025-04-16T01:47:39.080Z"
   },
   {
    "duration": 59,
    "start_time": "2025-04-16T01:47:39.316Z"
   },
   {
    "duration": 158,
    "start_time": "2025-04-16T01:47:39.377Z"
   },
   {
    "duration": 489,
    "start_time": "2025-04-16T01:47:39.538Z"
   },
   {
    "duration": 445,
    "start_time": "2025-04-16T01:47:40.029Z"
   },
   {
    "duration": 221,
    "start_time": "2025-04-16T01:47:40.476Z"
   },
   {
    "duration": 250,
    "start_time": "2025-04-16T01:47:40.698Z"
   },
   {
    "duration": 860,
    "start_time": "2025-04-16T01:47:40.951Z"
   },
   {
    "duration": 261,
    "start_time": "2025-04-16T01:47:41.812Z"
   },
   {
    "duration": 254,
    "start_time": "2025-04-16T01:47:42.075Z"
   },
   {
    "duration": 243,
    "start_time": "2025-04-16T01:47:42.330Z"
   },
   {
    "duration": 4,
    "start_time": "2025-04-16T01:47:42.575Z"
   },
   {
    "duration": 217,
    "start_time": "2025-04-16T01:47:42.580Z"
   },
   {
    "duration": 442,
    "start_time": "2025-04-16T01:47:42.798Z"
   },
   {
    "duration": 445,
    "start_time": "2025-04-16T01:47:43.242Z"
   },
   {
    "duration": 24,
    "start_time": "2025-04-16T01:47:43.689Z"
   },
   {
    "duration": 678,
    "start_time": "2025-04-16T01:47:43.715Z"
   },
   {
    "duration": 5,
    "start_time": "2025-04-16T01:47:44.395Z"
   },
   {
    "duration": 561,
    "start_time": "2025-04-16T01:47:44.409Z"
   },
   {
    "duration": 70,
    "start_time": "2025-04-16T01:47:44.972Z"
   },
   {
    "duration": 226,
    "start_time": "2025-04-16T01:47:45.045Z"
   },
   {
    "duration": 3,
    "start_time": "2025-04-16T01:54:32.389Z"
   },
   {
    "duration": 828,
    "start_time": "2025-04-16T01:54:32.395Z"
   },
   {
    "duration": 11,
    "start_time": "2025-04-16T01:54:33.225Z"
   },
   {
    "duration": 11,
    "start_time": "2025-04-16T01:54:33.238Z"
   },
   {
    "duration": 9,
    "start_time": "2025-04-16T01:54:33.253Z"
   },
   {
    "duration": 43,
    "start_time": "2025-04-16T01:54:33.266Z"
   },
   {
    "duration": 22,
    "start_time": "2025-04-16T01:54:33.311Z"
   },
   {
    "duration": 9,
    "start_time": "2025-04-16T01:54:33.335Z"
   },
   {
    "duration": 4,
    "start_time": "2025-04-16T01:54:33.346Z"
   },
   {
    "duration": 4,
    "start_time": "2025-04-16T01:54:33.352Z"
   },
   {
    "duration": 11,
    "start_time": "2025-04-16T01:54:33.358Z"
   },
   {
    "duration": 38,
    "start_time": "2025-04-16T01:54:33.371Z"
   },
   {
    "duration": 13,
    "start_time": "2025-04-16T01:54:33.411Z"
   },
   {
    "duration": 5,
    "start_time": "2025-04-16T01:54:33.431Z"
   },
   {
    "duration": 13,
    "start_time": "2025-04-16T01:54:33.439Z"
   },
   {
    "duration": 31,
    "start_time": "2025-04-16T01:54:33.454Z"
   },
   {
    "duration": 3,
    "start_time": "2025-04-16T01:54:33.486Z"
   },
   {
    "duration": 180,
    "start_time": "2025-04-16T01:54:33.493Z"
   },
   {
    "duration": 59,
    "start_time": "2025-04-16T01:54:33.676Z"
   },
   {
    "duration": 72,
    "start_time": "2025-04-16T01:54:33.737Z"
   },
   {
    "duration": 69,
    "start_time": "2025-04-16T01:54:33.811Z"
   },
   {
    "duration": 85,
    "start_time": "2025-04-16T01:54:33.882Z"
   },
   {
    "duration": 79,
    "start_time": "2025-04-16T01:54:33.968Z"
   },
   {
    "duration": 14,
    "start_time": "2025-04-16T01:54:34.049Z"
   },
   {
    "duration": 5,
    "start_time": "2025-04-16T01:54:34.065Z"
   },
   {
    "duration": 40,
    "start_time": "2025-04-16T01:54:34.072Z"
   },
   {
    "duration": 21,
    "start_time": "2025-04-16T01:54:34.114Z"
   },
   {
    "duration": 13,
    "start_time": "2025-04-16T01:54:34.137Z"
   },
   {
    "duration": 5,
    "start_time": "2025-04-16T01:54:34.152Z"
   },
   {
    "duration": 8,
    "start_time": "2025-04-16T01:54:34.158Z"
   },
   {
    "duration": 742,
    "start_time": "2025-04-16T01:54:34.168Z"
   },
   {
    "duration": 4,
    "start_time": "2025-04-16T01:54:34.913Z"
   },
   {
    "duration": 5,
    "start_time": "2025-04-16T01:54:34.919Z"
   },
   {
    "duration": 210,
    "start_time": "2025-04-16T01:54:34.925Z"
   },
   {
    "duration": 170,
    "start_time": "2025-04-16T01:54:35.137Z"
   },
   {
    "duration": 200,
    "start_time": "2025-04-16T01:54:35.309Z"
   },
   {
    "duration": 10,
    "start_time": "2025-04-16T01:54:35.511Z"
   },
   {
    "duration": 5,
    "start_time": "2025-04-16T01:54:35.523Z"
   },
   {
    "duration": 4,
    "start_time": "2025-04-16T01:54:35.530Z"
   },
   {
    "duration": 187,
    "start_time": "2025-04-16T01:54:35.536Z"
   },
   {
    "duration": 223,
    "start_time": "2025-04-16T01:54:35.728Z"
   },
   {
    "duration": 69,
    "start_time": "2025-04-16T01:54:35.953Z"
   },
   {
    "duration": 136,
    "start_time": "2025-04-16T01:54:36.024Z"
   },
   {
    "duration": 460,
    "start_time": "2025-04-16T01:54:36.162Z"
   },
   {
    "duration": 429,
    "start_time": "2025-04-16T01:54:36.624Z"
   },
   {
    "duration": 216,
    "start_time": "2025-04-16T01:54:37.054Z"
   },
   {
    "duration": 231,
    "start_time": "2025-04-16T01:54:37.273Z"
   },
   {
    "duration": 850,
    "start_time": "2025-04-16T01:54:37.506Z"
   },
   {
    "duration": 248,
    "start_time": "2025-04-16T01:54:38.358Z"
   },
   {
    "duration": 267,
    "start_time": "2025-04-16T01:54:38.607Z"
   },
   {
    "duration": 263,
    "start_time": "2025-04-16T01:54:38.876Z"
   },
   {
    "duration": 4,
    "start_time": "2025-04-16T01:54:39.140Z"
   },
   {
    "duration": 243,
    "start_time": "2025-04-16T01:54:39.146Z"
   },
   {
    "duration": 452,
    "start_time": "2025-04-16T01:54:39.390Z"
   },
   {
    "duration": 456,
    "start_time": "2025-04-16T01:54:39.844Z"
   },
   {
    "duration": 21,
    "start_time": "2025-04-16T01:54:40.302Z"
   },
   {
    "duration": 710,
    "start_time": "2025-04-16T01:54:40.325Z"
   },
   {
    "duration": 6,
    "start_time": "2025-04-16T01:54:41.037Z"
   },
   {
    "duration": 535,
    "start_time": "2025-04-16T01:54:41.045Z"
   },
   {
    "duration": 80,
    "start_time": "2025-04-16T01:54:41.581Z"
   },
   {
    "duration": 221,
    "start_time": "2025-04-16T01:54:41.663Z"
   },
   {
    "duration": 2154,
    "start_time": "2025-04-16T05:20:00.716Z"
   },
   {
    "duration": 1178,
    "start_time": "2025-04-16T05:20:02.872Z"
   },
   {
    "duration": 12,
    "start_time": "2025-04-16T05:20:04.052Z"
   },
   {
    "duration": 9,
    "start_time": "2025-04-16T05:20:04.066Z"
   },
   {
    "duration": 11,
    "start_time": "2025-04-16T05:20:04.077Z"
   },
   {
    "duration": 48,
    "start_time": "2025-04-16T05:20:04.090Z"
   },
   {
    "duration": 24,
    "start_time": "2025-04-16T05:20:04.140Z"
   },
   {
    "duration": 9,
    "start_time": "2025-04-16T05:20:04.167Z"
   },
   {
    "duration": 6,
    "start_time": "2025-04-16T05:20:04.178Z"
   },
   {
    "duration": 4,
    "start_time": "2025-04-16T05:20:04.188Z"
   },
   {
    "duration": 32,
    "start_time": "2025-04-16T05:20:04.194Z"
   },
   {
    "duration": 11,
    "start_time": "2025-04-16T05:20:04.228Z"
   },
   {
    "duration": 8,
    "start_time": "2025-04-16T05:20:04.241Z"
   },
   {
    "duration": 4,
    "start_time": "2025-04-16T05:20:04.251Z"
   },
   {
    "duration": 15,
    "start_time": "2025-04-16T05:20:04.256Z"
   },
   {
    "duration": 70,
    "start_time": "2025-04-16T05:20:04.273Z"
   },
   {
    "duration": 3,
    "start_time": "2025-04-16T05:20:04.345Z"
   },
   {
    "duration": 167,
    "start_time": "2025-04-16T05:20:04.350Z"
   },
   {
    "duration": 61,
    "start_time": "2025-04-16T05:20:04.519Z"
   },
   {
    "duration": 102,
    "start_time": "2025-04-16T05:20:04.582Z"
   },
   {
    "duration": 93,
    "start_time": "2025-04-16T05:20:04.686Z"
   },
   {
    "duration": 97,
    "start_time": "2025-04-16T05:20:04.780Z"
   },
   {
    "duration": 90,
    "start_time": "2025-04-16T05:20:04.879Z"
   },
   {
    "duration": 12,
    "start_time": "2025-04-16T05:20:04.971Z"
   },
   {
    "duration": 5,
    "start_time": "2025-04-16T05:20:04.985Z"
   },
   {
    "duration": 47,
    "start_time": "2025-04-16T05:20:04.991Z"
   },
   {
    "duration": 19,
    "start_time": "2025-04-16T05:20:05.039Z"
   },
   {
    "duration": 10,
    "start_time": "2025-04-16T05:20:05.062Z"
   },
   {
    "duration": 5,
    "start_time": "2025-04-16T05:20:05.074Z"
   },
   {
    "duration": 6,
    "start_time": "2025-04-16T05:20:05.080Z"
   },
   {
    "duration": 876,
    "start_time": "2025-04-16T05:20:05.087Z"
   },
   {
    "duration": 5,
    "start_time": "2025-04-16T05:20:05.965Z"
   },
   {
    "duration": 4,
    "start_time": "2025-04-16T05:20:05.972Z"
   },
   {
    "duration": 221,
    "start_time": "2025-04-16T05:20:05.977Z"
   },
   {
    "duration": 140,
    "start_time": "2025-04-16T05:20:06.200Z"
   },
   {
    "duration": 235,
    "start_time": "2025-04-16T05:20:06.342Z"
   },
   {
    "duration": 13,
    "start_time": "2025-04-16T05:20:06.578Z"
   },
   {
    "duration": 5,
    "start_time": "2025-04-16T05:20:06.593Z"
   },
   {
    "duration": 4,
    "start_time": "2025-04-16T05:20:06.599Z"
   },
   {
    "duration": 194,
    "start_time": "2025-04-16T05:20:06.604Z"
   },
   {
    "duration": 228,
    "start_time": "2025-04-16T05:20:06.800Z"
   },
   {
    "duration": 61,
    "start_time": "2025-04-16T05:20:07.030Z"
   },
   {
    "duration": 141,
    "start_time": "2025-04-16T05:20:07.093Z"
   },
   {
    "duration": 498,
    "start_time": "2025-04-16T05:20:07.236Z"
   },
   {
    "duration": 453,
    "start_time": "2025-04-16T05:20:07.736Z"
   },
   {
    "duration": 230,
    "start_time": "2025-04-16T05:20:08.191Z"
   },
   {
    "duration": 268,
    "start_time": "2025-04-16T05:20:08.423Z"
   },
   {
    "duration": 849,
    "start_time": "2025-04-16T05:20:08.693Z"
   },
   {
    "duration": 287,
    "start_time": "2025-04-16T05:20:09.544Z"
   },
   {
    "duration": 310,
    "start_time": "2025-04-16T05:20:09.834Z"
   },
   {
    "duration": 285,
    "start_time": "2025-04-16T05:20:10.146Z"
   },
   {
    "duration": 4,
    "start_time": "2025-04-16T05:20:10.433Z"
   },
   {
    "duration": 209,
    "start_time": "2025-04-16T05:20:10.440Z"
   },
   {
    "duration": 408,
    "start_time": "2025-04-16T05:20:10.651Z"
   },
   {
    "duration": 466,
    "start_time": "2025-04-16T05:20:11.061Z"
   },
   {
    "duration": 13,
    "start_time": "2025-04-16T05:20:11.529Z"
   },
   {
    "duration": 704,
    "start_time": "2025-04-16T05:20:11.544Z"
   },
   {
    "duration": 7,
    "start_time": "2025-04-16T05:20:12.250Z"
   },
   {
    "duration": 555,
    "start_time": "2025-04-16T05:20:12.258Z"
   },
   {
    "duration": 74,
    "start_time": "2025-04-16T05:20:12.815Z"
   },
   {
    "duration": 4,
    "start_time": "2025-04-16T05:20:12.890Z"
   },
   {
    "duration": 229,
    "start_time": "2025-04-16T05:20:12.896Z"
   },
   {
    "duration": 247,
    "start_time": "2025-04-16T05:41:40.803Z"
   }
  ],
  "colab": {
   "provenance": []
  },
  "kernelspec": {
   "display_name": "Python [conda env:.conda]",
   "language": "python",
   "name": "conda-env-.conda-py"
  },
  "language_info": {
   "codemirror_mode": {
    "name": "ipython",
    "version": 3
   },
   "file_extension": ".py",
   "mimetype": "text/x-python",
   "name": "python",
   "nbconvert_exporter": "python",
   "pygments_lexer": "ipython3",
   "version": "3.11.11"
  },
  "toc": {
   "base_numbering": 1,
   "nav_menu": {},
   "number_sections": true,
   "sideBar": true,
   "skip_h1_title": true,
   "title_cell": "Table of Contents",
   "title_sidebar": "Contents",
   "toc_cell": false,
   "toc_position": {},
   "toc_section_display": true,
   "toc_window_display": false
  }
 },
 "nbformat": 4,
 "nbformat_minor": 5
}
