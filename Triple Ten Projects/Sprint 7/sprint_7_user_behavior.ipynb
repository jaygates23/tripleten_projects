{
 "cells": [
  {
   "cell_type": "markdown",
   "metadata": {},
   "source": [
    "## 📱 Project Introduction: Smart Plan Selector for Megaline\n",
    "\n",
    "Megaline, a mobile carrier, seeks to modernize its customer base by transitioning subscribers from outdated plans to newer, more efficient offerings — **Smart** or **Ultra**. To support this initiative, we aim to develop a **classification model** that analyzes user behavior and recommends the most suitable plan.\n",
    "\n",
    "Leveraging preprocessed usage data from users who have already made the switch, the model will learn patterns across:\n",
    "\n",
    "- 📞 Number of calls  \n",
    "- ⏱️ Total call duration (minutes)  \n",
    "- 💬 Number of text messages  \n",
    "- 🌐 Internet usage (MB)\n",
    "\n",
    "The objective is to **accurately classify** users into the correct plan, with a target accuracy of **at least 0.75** on the test set.\n",
    "\n",
    "This project involves:\n",
    "- Splitting the dataset into training, validation, and test sets  \n",
    "- Training and tuning various classification models  \n",
    "- Evaluating model performance on the test set  \n",
    "- Performing sanity checks on results to ensure reliability  \n",
    "\n",
    "Through thoughtful modeling and evaluation, this solution enables data-driven recommendations that support Megaline’s customer migration strategy.\n"
   ]
  },
  {
   "cell_type": "markdown",
   "metadata": {},
   "source": [
    "## Environment Setup and Required Libraries"
   ]
  },
  {
   "cell_type": "code",
   "execution_count": 1,
   "metadata": {},
   "outputs": [],
   "source": [
    "from sklearn.tree import DecisionTreeClassifier\n",
    "from sklearn.ensemble import RandomForestClassifier, GradientBoostingClassifier\n",
    "from sklearn.linear_model import LogisticRegression\n",
    "from sklearn.pipeline import Pipeline\n",
    "from sklearn.model_selection import GridSearchCV, learning_curve, train_test_split\n",
    "from sklearn.preprocessing import StandardScaler\n",
    "from sklearn.metrics import roc_auc_score, precision_recall_curve, roc_curve, classification_report\n",
    "from sklearn.dummy import DummyClassifier\n",
    "from sklearn.metrics import accuracy_score\n",
    "import matplotlib.pyplot as plt\n",
    "import seaborn as sns\n",
    "import numpy as np\n",
    "import pandas as pd\n",
    "import joblib"
   ]
  },
  {
   "cell_type": "markdown",
   "metadata": {},
   "source": [
    "## Step 1: Loading and Initial Data Exploration"
   ]
  },
  {
   "cell_type": "code",
   "execution_count": 2,
   "metadata": {},
   "outputs": [
    {
     "data": {
      "text/html": [
       "<div>\n",
       "<style scoped>\n",
       "    .dataframe tbody tr th:only-of-type {\n",
       "        vertical-align: middle;\n",
       "    }\n",
       "\n",
       "    .dataframe tbody tr th {\n",
       "        vertical-align: top;\n",
       "    }\n",
       "\n",
       "    .dataframe thead th {\n",
       "        text-align: right;\n",
       "    }\n",
       "</style>\n",
       "<table border=\"1\" class=\"dataframe\">\n",
       "  <thead>\n",
       "    <tr style=\"text-align: right;\">\n",
       "      <th></th>\n",
       "      <th>calls</th>\n",
       "      <th>minutes</th>\n",
       "      <th>messages</th>\n",
       "      <th>mb_used</th>\n",
       "      <th>is_ultra</th>\n",
       "    </tr>\n",
       "  </thead>\n",
       "  <tbody>\n",
       "    <tr>\n",
       "      <th>0</th>\n",
       "      <td>40.0</td>\n",
       "      <td>311.90</td>\n",
       "      <td>83.0</td>\n",
       "      <td>19915.42</td>\n",
       "      <td>0</td>\n",
       "    </tr>\n",
       "    <tr>\n",
       "      <th>1</th>\n",
       "      <td>85.0</td>\n",
       "      <td>516.75</td>\n",
       "      <td>56.0</td>\n",
       "      <td>22696.96</td>\n",
       "      <td>0</td>\n",
       "    </tr>\n",
       "    <tr>\n",
       "      <th>2</th>\n",
       "      <td>77.0</td>\n",
       "      <td>467.66</td>\n",
       "      <td>86.0</td>\n",
       "      <td>21060.45</td>\n",
       "      <td>0</td>\n",
       "    </tr>\n",
       "    <tr>\n",
       "      <th>3</th>\n",
       "      <td>106.0</td>\n",
       "      <td>745.53</td>\n",
       "      <td>81.0</td>\n",
       "      <td>8437.39</td>\n",
       "      <td>1</td>\n",
       "    </tr>\n",
       "    <tr>\n",
       "      <th>4</th>\n",
       "      <td>66.0</td>\n",
       "      <td>418.74</td>\n",
       "      <td>1.0</td>\n",
       "      <td>14502.75</td>\n",
       "      <td>0</td>\n",
       "    </tr>\n",
       "  </tbody>\n",
       "</table>\n",
       "</div>"
      ],
      "text/plain": [
       "   calls  minutes  messages   mb_used  is_ultra\n",
       "0   40.0   311.90      83.0  19915.42         0\n",
       "1   85.0   516.75      56.0  22696.96         0\n",
       "2   77.0   467.66      86.0  21060.45         0\n",
       "3  106.0   745.53      81.0   8437.39         1\n",
       "4   66.0   418.74       1.0  14502.75         0"
      ]
     },
     "execution_count": 2,
     "metadata": {},
     "output_type": "execute_result"
    }
   ],
   "source": [
    "df = pd.read_csv('/datasets/users_behavior.csv') \n",
    "df.head()"
   ]
  },
  {
   "cell_type": "code",
   "execution_count": 3,
   "metadata": {},
   "outputs": [
    {
     "name": "stdout",
     "output_type": "stream",
     "text": [
      "<class 'pandas.core.frame.DataFrame'>\n",
      "RangeIndex: 3214 entries, 0 to 3213\n",
      "Data columns (total 5 columns):\n",
      " #   Column    Non-Null Count  Dtype  \n",
      "---  ------    --------------  -----  \n",
      " 0   calls     3214 non-null   float64\n",
      " 1   minutes   3214 non-null   float64\n",
      " 2   messages  3214 non-null   float64\n",
      " 3   mb_used   3214 non-null   float64\n",
      " 4   is_ultra  3214 non-null   int64  \n",
      "dtypes: float64(4), int64(1)\n",
      "memory usage: 125.7 KB\n"
     ]
    }
   ],
   "source": [
    "df.info()"
   ]
  },
  {
   "cell_type": "code",
   "execution_count": 4,
   "metadata": {},
   "outputs": [
    {
     "data": {
      "text/html": [
       "<div>\n",
       "<style scoped>\n",
       "    .dataframe tbody tr th:only-of-type {\n",
       "        vertical-align: middle;\n",
       "    }\n",
       "\n",
       "    .dataframe tbody tr th {\n",
       "        vertical-align: top;\n",
       "    }\n",
       "\n",
       "    .dataframe thead th {\n",
       "        text-align: right;\n",
       "    }\n",
       "</style>\n",
       "<table border=\"1\" class=\"dataframe\">\n",
       "  <thead>\n",
       "    <tr style=\"text-align: right;\">\n",
       "      <th></th>\n",
       "      <th>calls</th>\n",
       "      <th>minutes</th>\n",
       "      <th>messages</th>\n",
       "      <th>mb_used</th>\n",
       "      <th>is_ultra</th>\n",
       "    </tr>\n",
       "  </thead>\n",
       "  <tbody>\n",
       "    <tr>\n",
       "      <th>count</th>\n",
       "      <td>3214.000000</td>\n",
       "      <td>3214.000000</td>\n",
       "      <td>3214.000000</td>\n",
       "      <td>3214.000000</td>\n",
       "      <td>3214.000000</td>\n",
       "    </tr>\n",
       "    <tr>\n",
       "      <th>mean</th>\n",
       "      <td>63.038892</td>\n",
       "      <td>438.208787</td>\n",
       "      <td>38.281269</td>\n",
       "      <td>17207.673836</td>\n",
       "      <td>0.306472</td>\n",
       "    </tr>\n",
       "    <tr>\n",
       "      <th>std</th>\n",
       "      <td>33.236368</td>\n",
       "      <td>234.569872</td>\n",
       "      <td>36.148326</td>\n",
       "      <td>7570.968246</td>\n",
       "      <td>0.461100</td>\n",
       "    </tr>\n",
       "    <tr>\n",
       "      <th>min</th>\n",
       "      <td>0.000000</td>\n",
       "      <td>0.000000</td>\n",
       "      <td>0.000000</td>\n",
       "      <td>0.000000</td>\n",
       "      <td>0.000000</td>\n",
       "    </tr>\n",
       "    <tr>\n",
       "      <th>25%</th>\n",
       "      <td>40.000000</td>\n",
       "      <td>274.575000</td>\n",
       "      <td>9.000000</td>\n",
       "      <td>12491.902500</td>\n",
       "      <td>0.000000</td>\n",
       "    </tr>\n",
       "    <tr>\n",
       "      <th>50%</th>\n",
       "      <td>62.000000</td>\n",
       "      <td>430.600000</td>\n",
       "      <td>30.000000</td>\n",
       "      <td>16943.235000</td>\n",
       "      <td>0.000000</td>\n",
       "    </tr>\n",
       "    <tr>\n",
       "      <th>75%</th>\n",
       "      <td>82.000000</td>\n",
       "      <td>571.927500</td>\n",
       "      <td>57.000000</td>\n",
       "      <td>21424.700000</td>\n",
       "      <td>1.000000</td>\n",
       "    </tr>\n",
       "    <tr>\n",
       "      <th>max</th>\n",
       "      <td>244.000000</td>\n",
       "      <td>1632.060000</td>\n",
       "      <td>224.000000</td>\n",
       "      <td>49745.730000</td>\n",
       "      <td>1.000000</td>\n",
       "    </tr>\n",
       "  </tbody>\n",
       "</table>\n",
       "</div>"
      ],
      "text/plain": [
       "             calls      minutes     messages       mb_used     is_ultra\n",
       "count  3214.000000  3214.000000  3214.000000   3214.000000  3214.000000\n",
       "mean     63.038892   438.208787    38.281269  17207.673836     0.306472\n",
       "std      33.236368   234.569872    36.148326   7570.968246     0.461100\n",
       "min       0.000000     0.000000     0.000000      0.000000     0.000000\n",
       "25%      40.000000   274.575000     9.000000  12491.902500     0.000000\n",
       "50%      62.000000   430.600000    30.000000  16943.235000     0.000000\n",
       "75%      82.000000   571.927500    57.000000  21424.700000     1.000000\n",
       "max     244.000000  1632.060000   224.000000  49745.730000     1.000000"
      ]
     },
     "execution_count": 4,
     "metadata": {},
     "output_type": "execute_result"
    }
   ],
   "source": [
    "df.describe()"
   ]
  },
  {
   "cell_type": "markdown",
   "metadata": {},
   "source": [
    "### 🔍 Step 1 Summary: Loading and Initial Data Exploration\n",
    "\n",
    "The dataset was successfully loaded with **3,214 observations** across five features: `calls`, `minutes`, `messages`, `mb_used`, and `is_ultra`. All columns have appropriate data types and contain **no missing values**.\n",
    "\n",
    "Initial statistical analysis reveals:\n",
    "\n",
    "- User behavior varies widely, especially in data usage (`mb_used`) and call minutes.\n",
    "- The `is_ultra` column — our target variable — has a **mean of ~0.31**, indicating that the majority of users are currently on the **Smart plan (0)** rather than **Ultra (1)**.\n",
    "- No major anomalies are present; distributions appear consistent with realistic mobile usage patterns.\n",
    "\n",
    "This step confirms the dataset is **clean and ready for modeling**, with a slight class imbalance favoring the Smart plan.\n"
   ]
  },
  {
   "cell_type": "markdown",
   "metadata": {},
   "source": [
    "## Step 2: Smart and Ultra Plan Discovery"
   ]
  },
  {
   "cell_type": "code",
   "execution_count": 5,
   "metadata": {},
   "outputs": [
    {
     "data": {
      "text/html": [
       "<div>\n",
       "<style scoped>\n",
       "    .dataframe tbody tr th:only-of-type {\n",
       "        vertical-align: middle;\n",
       "    }\n",
       "\n",
       "    .dataframe tbody tr th {\n",
       "        vertical-align: top;\n",
       "    }\n",
       "\n",
       "    .dataframe thead th {\n",
       "        text-align: right;\n",
       "    }\n",
       "</style>\n",
       "<table border=\"1\" class=\"dataframe\">\n",
       "  <thead>\n",
       "    <tr style=\"text-align: right;\">\n",
       "      <th></th>\n",
       "      <th>calls</th>\n",
       "      <th>minutes</th>\n",
       "      <th>messages</th>\n",
       "      <th>mb_used</th>\n",
       "      <th>is_ultra</th>\n",
       "    </tr>\n",
       "  </thead>\n",
       "  <tbody>\n",
       "    <tr>\n",
       "      <th>count</th>\n",
       "      <td>2229.000000</td>\n",
       "      <td>2229.000000</td>\n",
       "      <td>2229.000000</td>\n",
       "      <td>2229.000000</td>\n",
       "      <td>2229.0</td>\n",
       "    </tr>\n",
       "    <tr>\n",
       "      <th>mean</th>\n",
       "      <td>58.463437</td>\n",
       "      <td>405.942952</td>\n",
       "      <td>33.384029</td>\n",
       "      <td>16208.466949</td>\n",
       "      <td>0.0</td>\n",
       "    </tr>\n",
       "    <tr>\n",
       "      <th>std</th>\n",
       "      <td>25.939858</td>\n",
       "      <td>184.512604</td>\n",
       "      <td>28.227876</td>\n",
       "      <td>5870.498853</td>\n",
       "      <td>0.0</td>\n",
       "    </tr>\n",
       "    <tr>\n",
       "      <th>min</th>\n",
       "      <td>0.000000</td>\n",
       "      <td>0.000000</td>\n",
       "      <td>0.000000</td>\n",
       "      <td>0.000000</td>\n",
       "      <td>0.0</td>\n",
       "    </tr>\n",
       "    <tr>\n",
       "      <th>25%</th>\n",
       "      <td>40.000000</td>\n",
       "      <td>274.230000</td>\n",
       "      <td>10.000000</td>\n",
       "      <td>12643.050000</td>\n",
       "      <td>0.0</td>\n",
       "    </tr>\n",
       "    <tr>\n",
       "      <th>50%</th>\n",
       "      <td>60.000000</td>\n",
       "      <td>410.560000</td>\n",
       "      <td>28.000000</td>\n",
       "      <td>16506.930000</td>\n",
       "      <td>0.0</td>\n",
       "    </tr>\n",
       "    <tr>\n",
       "      <th>75%</th>\n",
       "      <td>76.000000</td>\n",
       "      <td>529.510000</td>\n",
       "      <td>51.000000</td>\n",
       "      <td>20043.060000</td>\n",
       "      <td>0.0</td>\n",
       "    </tr>\n",
       "    <tr>\n",
       "      <th>max</th>\n",
       "      <td>198.000000</td>\n",
       "      <td>1390.220000</td>\n",
       "      <td>143.000000</td>\n",
       "      <td>38552.620000</td>\n",
       "      <td>0.0</td>\n",
       "    </tr>\n",
       "  </tbody>\n",
       "</table>\n",
       "</div>"
      ],
      "text/plain": [
       "             calls      minutes     messages       mb_used  is_ultra\n",
       "count  2229.000000  2229.000000  2229.000000   2229.000000    2229.0\n",
       "mean     58.463437   405.942952    33.384029  16208.466949       0.0\n",
       "std      25.939858   184.512604    28.227876   5870.498853       0.0\n",
       "min       0.000000     0.000000     0.000000      0.000000       0.0\n",
       "25%      40.000000   274.230000    10.000000  12643.050000       0.0\n",
       "50%      60.000000   410.560000    28.000000  16506.930000       0.0\n",
       "75%      76.000000   529.510000    51.000000  20043.060000       0.0\n",
       "max     198.000000  1390.220000   143.000000  38552.620000       0.0"
      ]
     },
     "execution_count": 5,
     "metadata": {},
     "output_type": "execute_result"
    }
   ],
   "source": [
    "# Discovery of Smart plan\n",
    "smart_df = df[df['is_ultra']==0]\n",
    "smart_df.describe()"
   ]
  },
  {
   "cell_type": "code",
   "execution_count": 6,
   "metadata": {},
   "outputs": [
    {
     "data": {
      "text/html": [
       "<div>\n",
       "<style scoped>\n",
       "    .dataframe tbody tr th:only-of-type {\n",
       "        vertical-align: middle;\n",
       "    }\n",
       "\n",
       "    .dataframe tbody tr th {\n",
       "        vertical-align: top;\n",
       "    }\n",
       "\n",
       "    .dataframe thead th {\n",
       "        text-align: right;\n",
       "    }\n",
       "</style>\n",
       "<table border=\"1\" class=\"dataframe\">\n",
       "  <thead>\n",
       "    <tr style=\"text-align: right;\">\n",
       "      <th></th>\n",
       "      <th>calls</th>\n",
       "      <th>minutes</th>\n",
       "      <th>messages</th>\n",
       "      <th>mb_used</th>\n",
       "      <th>is_ultra</th>\n",
       "    </tr>\n",
       "  </thead>\n",
       "  <tbody>\n",
       "    <tr>\n",
       "      <th>count</th>\n",
       "      <td>985.000000</td>\n",
       "      <td>985.000000</td>\n",
       "      <td>985.000000</td>\n",
       "      <td>985.000000</td>\n",
       "      <td>985.0</td>\n",
       "    </tr>\n",
       "    <tr>\n",
       "      <th>mean</th>\n",
       "      <td>73.392893</td>\n",
       "      <td>511.224569</td>\n",
       "      <td>49.363452</td>\n",
       "      <td>19468.823228</td>\n",
       "      <td>1.0</td>\n",
       "    </tr>\n",
       "    <tr>\n",
       "      <th>std</th>\n",
       "      <td>43.916853</td>\n",
       "      <td>308.031100</td>\n",
       "      <td>47.804457</td>\n",
       "      <td>10087.178654</td>\n",
       "      <td>0.0</td>\n",
       "    </tr>\n",
       "    <tr>\n",
       "      <th>min</th>\n",
       "      <td>0.000000</td>\n",
       "      <td>0.000000</td>\n",
       "      <td>0.000000</td>\n",
       "      <td>0.000000</td>\n",
       "      <td>1.0</td>\n",
       "    </tr>\n",
       "    <tr>\n",
       "      <th>25%</th>\n",
       "      <td>41.000000</td>\n",
       "      <td>276.030000</td>\n",
       "      <td>6.000000</td>\n",
       "      <td>11770.280000</td>\n",
       "      <td>1.0</td>\n",
       "    </tr>\n",
       "    <tr>\n",
       "      <th>50%</th>\n",
       "      <td>74.000000</td>\n",
       "      <td>502.550000</td>\n",
       "      <td>38.000000</td>\n",
       "      <td>19308.010000</td>\n",
       "      <td>1.0</td>\n",
       "    </tr>\n",
       "    <tr>\n",
       "      <th>75%</th>\n",
       "      <td>104.000000</td>\n",
       "      <td>730.050000</td>\n",
       "      <td>79.000000</td>\n",
       "      <td>26837.720000</td>\n",
       "      <td>1.0</td>\n",
       "    </tr>\n",
       "    <tr>\n",
       "      <th>max</th>\n",
       "      <td>244.000000</td>\n",
       "      <td>1632.060000</td>\n",
       "      <td>224.000000</td>\n",
       "      <td>49745.730000</td>\n",
       "      <td>1.0</td>\n",
       "    </tr>\n",
       "  </tbody>\n",
       "</table>\n",
       "</div>"
      ],
      "text/plain": [
       "            calls      minutes    messages       mb_used  is_ultra\n",
       "count  985.000000   985.000000  985.000000    985.000000     985.0\n",
       "mean    73.392893   511.224569   49.363452  19468.823228       1.0\n",
       "std     43.916853   308.031100   47.804457  10087.178654       0.0\n",
       "min      0.000000     0.000000    0.000000      0.000000       1.0\n",
       "25%     41.000000   276.030000    6.000000  11770.280000       1.0\n",
       "50%     74.000000   502.550000   38.000000  19308.010000       1.0\n",
       "75%    104.000000   730.050000   79.000000  26837.720000       1.0\n",
       "max    244.000000  1632.060000  224.000000  49745.730000       1.0"
      ]
     },
     "execution_count": 6,
     "metadata": {},
     "output_type": "execute_result"
    }
   ],
   "source": [
    "# Discovery of Ultra Plan\n",
    "ultra_df = df[df['is_ultra']==1]\n",
    "ultra_df.describe()"
   ]
  },
  {
   "cell_type": "markdown",
   "metadata": {},
   "source": [
    "### 📊 Smart vs. Ultra Plan Summary\n",
    "\n",
    "A comparison of Smart and Ultra plan users highlights distinct differences in usage behavior:\n",
    "\n",
    "| Feature      | **Smart Plan** (mean / median / max)      | **Ultra Plan** (mean / median / max)      | **Insight**                                      |\n",
    "|--------------|--------------------------------------------|--------------------------------------------|--------------------------------------------------|\n",
    "| **Calls**     | 58.5 / 60 / 198                            | 73.4 / 74 / 244                            | Ultra users make more calls overall              |\n",
    "| **Minutes**   | 406 / 411 / 1390                           | 511 / 503 / 1632                           | Ultra users spend more time on calls             |\n",
    "| **Messages**  | 33.4 / 28 / 143                            | 49.4 / 38 / 224                            | Ultra users send more messages                   |\n",
    "| **MB Used**   | 16,208 / 16,507 / 38,553                   | 19,469 / 19,308 / 49,746                   | Ultra users consume more internet data           |\n",
    "\n",
    "**Key Takeaway:**  \n",
    "Users on the **Ultra plan consistently exhibit higher usage** across all features—calls, minutes, messages, and data. This suggests that higher-usage customers are more likely to benefit from and be placed on the Ultra plan.\n"
   ]
  },
  {
   "cell_type": "markdown",
   "metadata": {},
   "source": [
    "## Step 3: Split the source data"
   ]
  },
  {
   "cell_type": "code",
   "execution_count": 7,
   "metadata": {},
   "outputs": [],
   "source": [
    "# First split: Train (60%) and Temp (40%)\n",
    "df_train, df_temp = train_test_split(df, test_size=0.4, random_state=12345, stratify=df['is_ultra'])\n",
    "\n",
    "# Second split: Validation (20%) and Test (20%) from Temp\n",
    "df_valid, df_test = train_test_split(df_temp, test_size=0.5, random_state=12345, stratify=df_temp['is_ultra'])\n",
    "\n",
    "train_features = df_train.drop(['is_ultra'], axis=1)\n",
    "train_target = df_train['is_ultra']\n",
    "\n",
    "valid_features = df_valid.drop(['is_ultra'], axis=1)\n",
    "valid_target = df_valid['is_ultra']\n",
    "\n",
    "test_features = df_test.drop(['is_ultra'], axis=1)\n",
    "test_target = df_test['is_ultra']\n"
   ]
  },
  {
   "cell_type": "markdown",
   "metadata": {},
   "source": [
    "## Step 4: Investigate the quality of different models\n",
    "Testing the three common Classification models seems appropriate for this task"
   ]
  },
  {
   "cell_type": "markdown",
   "metadata": {},
   "source": [
    "### DecisionTree"
   ]
  },
  {
   "cell_type": "code",
   "execution_count": 8,
   "metadata": {},
   "outputs": [
    {
     "data": {
      "text/plain": [
       "0.7013996889580093"
      ]
     },
     "execution_count": 8,
     "metadata": {},
     "output_type": "execute_result"
    }
   ],
   "source": [
    "# Start with DecisionTree\n",
    "model = DecisionTreeClassifier(random_state=12345)\n",
    "model.fit(train_features, train_target)\n",
    "predictions = model.predict(valid_features)\n",
    "result = accuracy_score(valid_target, predictions)\n",
    "result"
   ]
  },
  {
   "cell_type": "markdown",
   "metadata": {},
   "source": [
    "With no hyperparameters, the accurancy was not our target goal. Let's improve the model."
   ]
  },
  {
   "cell_type": "code",
   "execution_count": 9,
   "metadata": {},
   "outputs": [
    {
     "data": {
      "text/plain": [
       "(0.7744945567651633, {'clf__max_depth': 6})"
      ]
     },
     "execution_count": 9,
     "metadata": {},
     "output_type": "execute_result"
    }
   ],
   "source": [
    "pipeline_dt = Pipeline([\n",
    "    ('scaler', StandardScaler()),\n",
    "    ('clf', DecisionTreeClassifier(random_state=12345))\n",
    "])\n",
    "\n",
    "param_grid_dt = {\n",
    "    'clf__max_depth': list(range(1, 11))\n",
    "}\n",
    "\n",
    "grid_dt = GridSearchCV(pipeline_dt, param_grid_dt, cv=5)\n",
    "grid_dt.fit(train_features, train_target)\n",
    "\n",
    "y_pred_dt = grid_dt.best_estimator_.predict(valid_features)\n",
    "y_proba_dt = grid_dt.best_estimator_.predict_proba(valid_features)[:, 1]\n",
    "results_dt = {\n",
    "    'accuracy': grid_dt.best_estimator_.score(valid_features, valid_target),\n",
    "    'roc_auc': roc_auc_score(valid_target, y_proba_dt),\n",
    "    'report': classification_report(valid_target, y_pred_dt, output_dict=True)\n",
    "}\n",
    "results_dt['accuracy'], grid_dt.best_params_"
   ]
  },
  {
   "cell_type": "code",
   "execution_count": 10,
   "metadata": {},
   "outputs": [
    {
     "data": {
      "image/png": "[encoded data removed]",
      "text/plain": [
       "<Figure size 800x500 with 1 Axes>"
      ]
     },
     "metadata": {},
     "output_type": "display_data"
    }
   ],
   "source": [
    "# Extract the best pipeline (from GridSearchCV)\n",
    "dt_model = grid_dt.best_estimator_\n",
    "\n",
    "# Compute learning curve\n",
    "train_sizes, train_scores, val_scores = learning_curve(\n",
    "    dt_model,                      # use best estimator\n",
    "    train_features,\n",
    "    train_target,\n",
    "    cv=5,\n",
    "    scoring='accuracy',\n",
    "    train_sizes=np.linspace(0.1, 1.0, 5),\n",
    "    n_jobs=-1                            # optional: parallel processing\n",
    ")\n",
    "\n",
    "# Calculate mean scores\n",
    "train_scores_mean = train_scores.mean(axis=1)\n",
    "val_scores_mean = val_scores.mean(axis=1)\n",
    "\n",
    "# Plot learning curve\n",
    "plt.figure(figsize=(8, 5))\n",
    "plt.plot(train_sizes, train_scores_mean, label='Training Accuracy')\n",
    "plt.plot(train_sizes, val_scores_mean, label='Validation Accuracy')\n",
    "plt.title('Learning Curve (DecisionTree - Best Model)')\n",
    "plt.xlabel('Training Set Size')\n",
    "plt.ylabel('Accuracy')\n",
    "plt.legend()\n",
    "plt.grid(True)\n",
    "plt.tight_layout()\n",
    "plt.show()"
   ]
  },
  {
   "attachments": {},
   "cell_type": "markdown",
   "metadata": {},
   "source": [
    "### RandomForest\n",
    "we're going to skip a normal model and aim for improvement immediately "
   ]
  },
  {
   "cell_type": "code",
   "execution_count": 11,
   "metadata": {},
   "outputs": [
    {
     "data": {
      "text/plain": [
       "({'accuracy': 0.7884914463452566,\n",
       "  'roc_auc': 0.7655015820263595,\n",
       "  'report': {'0': {'precision': 0.789179104477612,\n",
       "    'recall': 0.9484304932735426,\n",
       "    'f1-score': 0.8615071283095723,\n",
       "    'support': 446},\n",
       "   '1': {'precision': 0.7850467289719626,\n",
       "    'recall': 0.4263959390862944,\n",
       "    'f1-score': 0.5526315789473684,\n",
       "    'support': 197},\n",
       "   'accuracy': 0.7884914463452566,\n",
       "   'macro avg': {'precision': 0.7871129167247872,\n",
       "    'recall': 0.6874132161799185,\n",
       "    'f1-score': 0.7070693536284703,\n",
       "    'support': 643},\n",
       "   'weighted avg': {'precision': 0.7879130423086961,\n",
       "    'recall': 0.7884914463452566,\n",
       "    'f1-score': 0.7668749615531895,\n",
       "    'support': 643}}},\n",
       " {'clf__max_depth': 5, 'clf__n_estimators': 9})"
      ]
     },
     "execution_count": 11,
     "metadata": {},
     "output_type": "execute_result"
    }
   ],
   "source": [
    "pipeline_rf = Pipeline([\n",
    "    ('scaler', StandardScaler()),\n",
    "    ('clf', RandomForestClassifier(random_state=12345))\n",
    "])\n",
    "\n",
    "param_grid_rf = {\n",
    "    'clf__n_estimators': list(range(1, 45)),\n",
    "    'clf__max_depth': [3, 5, 7]\n",
    "}\n",
    "\n",
    "grid_rf = GridSearchCV(pipeline_rf, param_grid_rf, cv=5)\n",
    "grid_rf.fit(train_features, train_target)\n",
    "\n",
    "y_pred_rf = grid_rf.best_estimator_.predict(valid_features)\n",
    "y_proba_rf = grid_rf.best_estimator_.predict_proba(valid_features)[:, 1]\n",
    "results_rf = {\n",
    "    'accuracy': grid_rf.best_estimator_.score(valid_features, valid_target),\n",
    "    'roc_auc': roc_auc_score(valid_target, y_proba_rf),\n",
    "    'report': classification_report(valid_target, y_pred_rf, output_dict=True)\n",
    "}\n",
    "results_rf, grid_rf.best_params_"
   ]
  },
  {
   "cell_type": "code",
   "execution_count": 12,
   "metadata": {},
   "outputs": [
    {
     "data": {
      "image/png": "[encoded data removed]",
      "text/plain": [
       "<Figure size 800x500 with 1 Axes>"
      ]
     },
     "metadata": {},
     "output_type": "display_data"
    }
   ],
   "source": [
    "# Extract the best pipeline (from GridSearchCV)\n",
    "rf_model = grid_rf.best_estimator_\n",
    "\n",
    "# Compute learning curve\n",
    "train_sizes, train_scores, val_scores = learning_curve(\n",
    "    rf_model,                      # use best estimator\n",
    "    train_features,\n",
    "    train_target,\n",
    "    cv=5,\n",
    "    scoring='accuracy',\n",
    "    train_sizes=np.linspace(0.1, 1.0, 5),\n",
    "    n_jobs=-1                            # optional: parallel processing\n",
    ")\n",
    "\n",
    "# Calculate mean scores\n",
    "train_scores_mean = train_scores.mean(axis=1)\n",
    "val_scores_mean = val_scores.mean(axis=1)\n",
    "\n",
    "# Plot learning curve\n",
    "plt.figure(figsize=(8, 5))\n",
    "plt.plot(train_sizes, train_scores_mean, label='Training Accuracy')\n",
    "plt.plot(train_sizes, val_scores_mean, label='Validation Accuracy')\n",
    "plt.title('Learning Curve (RandomForest - Best Model)')\n",
    "plt.xlabel('Training Set Size')\n",
    "plt.ylabel('Accuracy')\n",
    "plt.legend()\n",
    "plt.grid(True)\n",
    "plt.tight_layout()\n",
    "plt.show()"
   ]
  },
  {
   "attachments": {},
   "cell_type": "markdown",
   "metadata": {},
   "source": [
    "### Logistic Regression"
   ]
  },
  {
   "cell_type": "code",
   "execution_count": 13,
   "metadata": {},
   "outputs": [
    {
     "data": {
      "text/plain": [
       "0.7433903576982893"
      ]
     },
     "execution_count": 13,
     "metadata": {},
     "output_type": "execute_result"
    }
   ],
   "source": [
    "pipeline_lr = Pipeline([\n",
    "    ('scaler', StandardScaler()),\n",
    "    ('clf', LogisticRegression(solver='liblinear', random_state=42))\n",
    "])\n",
    "\n",
    "param_grid_lr = {\n",
    "    'clf__C': [0.01, 0.1, 1, 10]\n",
    "}\n",
    "\n",
    "grid_lr = GridSearchCV(pipeline_lr, param_grid_lr, cv=5)\n",
    "grid_lr.fit(train_features, train_target)\n",
    "\n",
    "y_pred_lr = grid_lr.best_estimator_.predict(valid_features)\n",
    "y_proba_lr = grid_lr.best_estimator_.predict_proba(valid_features)[:, 1]\n",
    "results_lr = {\n",
    "    'accuracy': grid_lr.best_estimator_.score(valid_features, valid_target),\n",
    "    'roc_auc': roc_auc_score(valid_target, y_proba_lr),\n",
    "    'report': classification_report(valid_target, y_pred_lr, output_dict=True)\n",
    "}\n",
    "\n",
    "results_lr['accuracy']"
   ]
  },
  {
   "cell_type": "code",
   "execution_count": 14,
   "metadata": {},
   "outputs": [
    {
     "data": {
      "image/png": "[encoded data removed]",
      "text/plain": [
       "<Figure size 800x500 with 1 Axes>"
      ]
     },
     "metadata": {},
     "output_type": "display_data"
    }
   ],
   "source": [
    "# Extract the best pipeline (from GridSearchCV)\n",
    "lr_model = grid_lr.best_estimator_\n",
    "\n",
    "# Compute learning curve\n",
    "train_sizes, train_scores, val_scores = learning_curve(\n",
    "    lr_model,                      # use best estimator\n",
    "    train_features,\n",
    "    train_target,\n",
    "    cv=5,\n",
    "    scoring='accuracy',\n",
    "    train_sizes=np.linspace(0.1, 1.0, 5),\n",
    "    n_jobs=-1                            # optional: parallel processing\n",
    ")\n",
    "\n",
    "# Calculate mean scores\n",
    "train_scores_mean = train_scores.mean(axis=1)\n",
    "val_scores_mean = val_scores.mean(axis=1)\n",
    "\n",
    "# Plot learning curve\n",
    "plt.figure(figsize=(8, 5))\n",
    "plt.plot(train_sizes, train_scores_mean, label='Training Accuracy')\n",
    "plt.plot(train_sizes, val_scores_mean, label='Validation Accuracy')\n",
    "plt.title('Learning Curve (Logistic Regression - Best Model)')\n",
    "plt.xlabel('Training Set Size')\n",
    "plt.ylabel('Accuracy')\n",
    "plt.legend()\n",
    "plt.grid(True)\n",
    "plt.tight_layout()\n",
    "plt.show()"
   ]
  },
  {
   "cell_type": "markdown",
   "metadata": {},
   "source": [
    "### Gradient Boosting"
   ]
  },
  {
   "cell_type": "code",
   "execution_count": 15,
   "metadata": {},
   "outputs": [
    {
     "data": {
      "text/plain": [
       "({'accuracy': 0.8055987558320373,\n",
       "  'roc_auc': 0.7852313855819354,\n",
       "  'report': {'0': {'precision': 0.8104448742746615,\n",
       "    'recall': 0.9394618834080718,\n",
       "    'f1-score': 0.8701973001038422,\n",
       "    'support': 446},\n",
       "   '1': {'precision': 0.7857142857142857,\n",
       "    'recall': 0.5025380710659898,\n",
       "    'f1-score': 0.6130030959752322,\n",
       "    'support': 197},\n",
       "   'accuracy': 0.8055987558320373,\n",
       "   'macro avg': {'precision': 0.7980795799944735,\n",
       "    'recall': 0.7209999772370308,\n",
       "    'f1-score': 0.7416001980395373,\n",
       "    'support': 643},\n",
       "   'weighted avg': {'precision': 0.8028680065508761,\n",
       "    'recall': 0.8055987558320373,\n",
       "    'f1-score': 0.7913990758218264,\n",
       "    'support': 643}}},\n",
       " {'clf__learning_rate': 0.35, 'clf__max_depth': 4, 'clf__n_estimators': 8})"
      ]
     },
     "execution_count": 15,
     "metadata": {},
     "output_type": "execute_result"
    }
   ],
   "source": [
    "pipeline_gb = Pipeline([\n",
    "    ('scaler', StandardScaler()),\n",
    "    ('clf', GradientBoostingClassifier(random_state=42))\n",
    "])\n",
    "\n",
    "param_grid_gb = {\n",
    "    'clf__n_estimators': list(range(1, 20)),\n",
    "    'clf__learning_rate': [round(x * 0.05, 2) for x in range(1, 11)],\n",
    "    'clf__max_depth': [3, 4, 5, 7]\n",
    "}\n",
    "\n",
    "grid_gb = GridSearchCV(pipeline_gb, param_grid_gb, cv=3)\n",
    "grid_gb.fit(train_features, train_target)\n",
    "\n",
    "y_pred_gb = grid_gb.best_estimator_.predict(valid_features)\n",
    "y_proba_gb = grid_gb.best_estimator_.predict_proba(valid_features)[:, 1]\n",
    "results_gb = {\n",
    "    'accuracy': grid_gb.best_estimator_.score(valid_features, valid_target),\n",
    "    'roc_auc': roc_auc_score(valid_target, y_proba_gb),\n",
    "    'report': classification_report(valid_target, y_pred_gb, output_dict=True)\n",
    "}\n",
    "\n",
    "results_gb, grid_gb.best_params_"
   ]
  },
  {
   "cell_type": "code",
   "execution_count": 16,
   "metadata": {},
   "outputs": [
    {
     "data": {
      "image/png": "[encoded data removed]",
      "text/plain": [
       "<Figure size 800x500 with 1 Axes>"
      ]
     },
     "metadata": {},
     "output_type": "display_data"
    }
   ],
   "source": [
    "# Extract the best pipeline (from GridSearchCV)\n",
    "gb_model = grid_gb.best_estimator_\n",
    "\n",
    "# Compute learning curve\n",
    "train_sizes, train_scores, val_scores = learning_curve(\n",
    "    gb_model,                      # use best estimator\n",
    "    train_features,\n",
    "    train_target,\n",
    "    cv=5,\n",
    "    scoring='accuracy',\n",
    "    train_sizes=np.linspace(0.1, 1.0, 5),\n",
    "    n_jobs=-1                            # optional: parallel processing\n",
    ")\n",
    "\n",
    "# Calculate mean scores\n",
    "train_scores_mean = train_scores.mean(axis=1)\n",
    "val_scores_mean = val_scores.mean(axis=1)\n",
    "\n",
    "# Plot learning curve\n",
    "plt.figure(figsize=(8, 5))\n",
    "plt.plot(train_sizes, train_scores_mean, label='Training Accuracy')\n",
    "plt.plot(train_sizes, val_scores_mean, label='Validation Accuracy')\n",
    "plt.title('Learning Curve (Gradient Boosting - Best Model)')\n",
    "plt.xlabel('Training Set Size')\n",
    "plt.ylabel('Accuracy')\n",
    "plt.legend()\n",
    "plt.grid(True)\n",
    "plt.tight_layout()\n",
    "plt.show()"
   ]
  },
  {
   "cell_type": "markdown",
   "metadata": {},
   "source": [
    "### 🧪 Model Evaluation Summary\n",
    "\n",
    "**Decision Tree**  \n",
    "After tuning for optimal depth, the Decision Tree classifier achieved its best validation accuracy of **0.774** with `max_depth=6`. The corresponding learning curve shows a noticeable gap between training and validation accuracy, indicating some overfitting. While the model generalizes reasonably with more data, its performance still falls short of the ensemble models.\n",
    "\n",
    "**Random Forest**  \n",
    "Random Forest improved over the standalone tree by combining multiple estimators. With `n_estimators=9` and `max_depth=5`, the model reached a validation accuracy of **0.788** and ROC AUC of **0.766**. As shown in its learning curve, the model benefits from more data but retains a consistent gap between training and validation accuracy. This suggests good learning with moderate variance, and some sensitivity to class imbalance.\n",
    "\n",
    "**Logistic Regression**  \n",
    "Serving as a linear benchmark, Logistic Regression achieved a validation accuracy of **0.743**. Its learning curve reveals a small gap between training and validation accuracy, suggesting the model is underfitting and unable to capture the more complex patterns in the data. This aligns with expectations for a non-linear problem where linear models are less effective.\n",
    "\n",
    "**Gradient Boosting**  \n",
    "Gradient Boosting emerged as the top performer, reaching a validation accuracy of **0.805** and ROC AUC of **0.785** with `n_estimators=8`, `max_depth=4`, and `learning_rate=0.35`. Its learning curve reflects the most stable and consistent performance across different training sizes. The narrowing gap between training and validation accuracy indicates strong generalization, minimal overfitting, and robustness, making it the most reliable choice for deployment.\n"
   ]
  },
  {
   "cell_type": "markdown",
   "metadata": {},
   "source": [
    "## Step 5: Test Set \n",
    " Going to check my two best performers"
   ]
  },
  {
   "cell_type": "code",
   "execution_count": 17,
   "metadata": {},
   "outputs": [],
   "source": [
    "#Save and load best model before testing\n",
    "joblib.dump(grid_gb, 'best_model_gb.joblib')\n",
    "loaded_gb = joblib.load('best_model_gb.joblib')\n",
    "\n",
    "\n",
    "joblib.dump(grid_rf, 'best_model_rf.joblib')\n",
    "loaded_rf = joblib.load('best_model_rf.joblib')\n"
   ]
  },
  {
   "cell_type": "code",
   "execution_count": 23,
   "metadata": {},
   "outputs": [
    {
     "data": {
      "text/plain": [
       "{'accuracy': 0.8118195956454122,\n",
       " 'roc_auc': 0.844159022102843,\n",
       " 'report': {'0': {'precision': 0.8230616302186878,\n",
       "   'recall': 0.9282511210762332,\n",
       "   'f1-score': 0.8724973656480507,\n",
       "   'support': 446},\n",
       "  '1': {'precision': 0.7714285714285715,\n",
       "   'recall': 0.5482233502538071,\n",
       "   'f1-score': 0.6409495548961425,\n",
       "   'support': 197},\n",
       "  'accuracy': 0.8118195956454122,\n",
       "  'macro avg': {'precision': 0.7972451008236296,\n",
       "   'recall': 0.7382372356650202,\n",
       "   'f1-score': 0.7567234602720966,\n",
       "   'support': 643},\n",
       "  'weighted avg': {'precision': 0.8072424815691499,\n",
       "   'recall': 0.8118195956454122,\n",
       "   'f1-score': 0.8015565900366574,\n",
       "   'support': 643}}}"
      ]
     },
     "execution_count": 23,
     "metadata": {},
     "output_type": "execute_result"
    }
   ],
   "source": [
    "#Test Best Gradient Boosting\n",
    "loaded_gb = joblib.load('best_model_gb.joblib')\n",
    "\n",
    "# Predict on test set\n",
    "test_predictions_gb = loaded_gb.predict(test_features)\n",
    "y_proba_gb = loaded_gb.predict_proba(test_features)[:, 1]\n",
    "\n",
    "# Evaluate metrics\n",
    "results_gb_final = {\n",
    "    'accuracy': loaded_gb.score(test_features, test_target),\n",
    "    'roc_auc': roc_auc_score(test_target, y_proba_gb),\n",
    "    'report': classification_report(test_target, test_predictions_gb, output_dict=True)\n",
    "}\n",
    "results_gb_final"
   ]
  },
  {
   "cell_type": "code",
   "execution_count": 19,
   "metadata": {},
   "outputs": [
    {
     "data": {
      "text/plain": [
       "{'accuracy': 0.8087091757387247,\n",
       " 'roc_auc': 0.8303077553436069,\n",
       " 'report': {'0': {'precision': 0.8099808061420346,\n",
       "   'recall': 0.9461883408071748,\n",
       "   'f1-score': 0.8728024819027921,\n",
       "   'support': 446},\n",
       "  '1': {'precision': 0.8032786885245902,\n",
       "   'recall': 0.49746192893401014,\n",
       "   'f1-score': 0.6144200626959249,\n",
       "   'support': 197},\n",
       "  'accuracy': 0.8087091757387247,\n",
       "  'macro avg': {'precision': 0.8066297473333124,\n",
       "   'recall': 0.7218251348705925,\n",
       "   'f1-score': 0.7436112722993584,\n",
       "   'support': 643},\n",
       "  'weighted avg': {'precision': 0.8079274357366899,\n",
       "   'recall': 0.8087091757387247,\n",
       "   'f1-score': 0.7936402166092417,\n",
       "   'support': 643}}}"
      ]
     },
     "execution_count": 19,
     "metadata": {},
     "output_type": "execute_result"
    }
   ],
   "source": [
    "#Test Best Random Forest\n",
    "# Load saved Random Forest model\n",
    "loaded_rf = joblib.load('best_model_rf.joblib')\n",
    "\n",
    "# Predict on test set\n",
    "test_predictions_rf = loaded_rf.predict(test_features)\n",
    "y_proba_rf = loaded_rf.predict_proba(test_features)[:, 1]\n",
    "\n",
    "# Evaluate metrics\n",
    "results_rf_final = {\n",
    "    'accuracy': loaded_rf.score(test_features, test_target),\n",
    "    'roc_auc': roc_auc_score(test_target, y_proba_rf),\n",
    "    'report': classification_report(test_target, test_predictions_rf, output_dict=True)\n",
    "}\n",
    "results_rf_final"
   ]
  },
  {
   "cell_type": "markdown",
   "metadata": {},
   "source": [
    "### 🧪 Final Model Evaluation Summary (Test Set)\n",
    "\n",
    "Both models outperformed the baseline and demonstrate strong predictive ability. However, their strengths diverge—particularly in precision, recall, and F1-scores for class `1` (likely representing higher-tier plan subscribers or churn risk).\n",
    "\n",
    "---\n",
    "\n",
    "#### Gradient Boosting\n",
    "- **Accuracy:** 0.812  \n",
    "- **ROC AUC:** 0.844  \n",
    "- **Class 0 (Majority Class):**\n",
    "  - Precision: 0.823  \n",
    "  - Recall: 0.928  \n",
    "  - F1-score: 0.872  \n",
    "- **Class 1 (Minority Class):**\n",
    "  - Precision: 0.771  \n",
    "  - Recall: 0.548  \n",
    "  - F1-score: 0.641  \n",
    "- **Macro Avg F1-score:** 0.757  \n",
    "- **Weighted Avg F1-score:** 0.802\n",
    "\n",
    "Gradient Boosting delivers the highest ROC AUC and strong, balanced performance across both classes. Its recall and F1-score for the minority class are better than Random Forest’s, making it especially valuable when correct identification of class `1` is important.\n",
    "\n",
    "---\n",
    "\n",
    "#### Random Forest\n",
    "- **Accuracy:** 0.809  \n",
    "- **ROC AUC:** 0.830  \n",
    "- **Class 0 (Majority Class):**\n",
    "  - Precision: 0.810  \n",
    "  - Recall: 0.946  \n",
    "  - F1-score: 0.873  \n",
    "- **Class 1 (Minority Class):**\n",
    "  - Precision: 0.803  \n",
    "  - Recall: 0.497  \n",
    "  - F1-score: 0.614  \n",
    "- **Macro Avg F1-score:** 0.744  \n",
    "- **Weighted Avg F1-score:** 0.794\n",
    "\n",
    "Random Forest achieves similar overall accuracy and higher precision for class `1`, but its lower recall indicates more missed positive cases. This suggests a stronger bias toward the majority class.\n",
    "\n",
    "---\n",
    "\n",
    "### ✅ Recommendation\n",
    "\n",
    "**Gradient Boosting** is the preferred model because it:\n",
    "- Achieves the highest ROC AUC and slightly better overall accuracy,\n",
    "- Delivers stronger generalization to the minority class with improved recall and F1-score,\n",
    "- Maintains better class balance and reduced overfitting risk.\n",
    "\n",
    "**Random Forest** remains a viable alternative when interpretability or faster inference times are required, though its sensitivity to the minority class is lower.\n"
   ]
  },
  {
   "cell_type": "markdown",
   "metadata": {},
   "source": [
    "## Step 6: Sanity Check"
   ]
  },
  {
   "cell_type": "code",
   "execution_count": 20,
   "metadata": {},
   "outputs": [
    {
     "name": "stdout",
     "output_type": "stream",
     "text": [
      "Baseline Accuracy (DummyClassifier): 0.694\n"
     ]
    }
   ],
   "source": [
    "#Are chosen models better than a dummy classifier \n",
    "from sklearn.dummy import DummyClassifier\n",
    "from sklearn.metrics import accuracy_score\n",
    "\n",
    "# 1. Initialize DummyClassifier (strategy: always predict most frequent class)\n",
    "dummy = DummyClassifier(strategy=\"most_frequent\", random_state=123)\n",
    "\n",
    "# 2. Fit on training data\n",
    "dummy.fit(train_features, train_target)\n",
    "\n",
    "# 3. Predict on test data\n",
    "dummy_preds = dummy.predict(test_features)\n",
    "\n",
    "# 4. Evaluate accuracy\n",
    "baseline_accuracy = accuracy_score(test_target, dummy_preds)\n",
    "print(f\"Baseline Accuracy (DummyClassifier): {baseline_accuracy:.3f}\")\n"
   ]
  },
  {
   "cell_type": "markdown",
   "metadata": {},
   "source": [
    "### Gradient Boosting Sanity Check"
   ]
  },
  {
   "cell_type": "code",
   "execution_count": 21,
   "metadata": {},
   "outputs": [
    {
     "name": "stdout",
     "output_type": "stream",
     "text": [
      "Gradient Boosting Train Accuracy: 0.842\n",
      "Gradient Boosting Validation Accuracy: 0.806\n",
      "Gradient Boosting Test Accuracy: 0.812\n",
      "Gradient Boosting Accuracy: 0.829\n",
      "Prediction class distribution on test set: {0: 503, 1: 140}\n"
     ]
    }
   ],
   "source": [
    "#Sanity Check on all data  for Gradient Boosting\n",
    "features = df.drop(['is_ultra'], axis=1)\n",
    "target = df['is_ultra']\n",
    "\n",
    "train_preds = loaded_gb.predict(train_features)\n",
    "valid_preds = loaded_gb.predict(valid_features)\n",
    "test_preds = loaded_gb.predict(test_features)\n",
    "preds = loaded_gb.predict(features)\n",
    "\n",
    "\n",
    "train_acc = accuracy_score(train_target, train_preds)\n",
    "valid_acc = accuracy_score(valid_target, valid_preds)\n",
    "test_acc = accuracy_score(test_target, test_preds)\n",
    "acc = accuracy_score(target, preds)\n",
    "\n",
    "print(f\"Gradient Boosting Train Accuracy: {train_acc:.3f}\")\n",
    "print(f\"Gradient Boosting Validation Accuracy: {valid_acc:.3f}\")\n",
    "print(f\"Gradient Boosting Test Accuracy: {test_acc:.3f}\")\n",
    "print(f\"Gradient Boosting Accuracy: {acc:.3f}\")\n",
    "\n",
    "unique, counts = np.unique(test_preds, return_counts=True)\n",
    "class_distribution = dict(zip(unique, counts))\n",
    "print(\"Prediction class distribution on test set:\", class_distribution)\n"
   ]
  },
  {
   "cell_type": "code",
   "execution_count": 22,
   "metadata": {},
   "outputs": [
    {
     "data": {
      "image/png": "[encoded data removed]",
      "text/plain": [
       "<Figure size 800x500 with 1 Axes>"
      ]
     },
     "metadata": {},
     "output_type": "display_data"
    }
   ],
   "source": [
    "# Create a DataFrame for easier plotting\n",
    "feature_importance_df = pd.DataFrame({\n",
    "    'Feature': train_features.columns,\n",
    "    'Importance': loaded_gb.best_estimator_.named_steps['clf'].feature_importances_\n",
    "})\n",
    "\n",
    "# Sort by importance\n",
    "gb_feature_importance_df = feature_importance_df.sort_values(by='Importance', ascending=False)\n",
    "\n",
    "# Plot\n",
    "plt.figure(figsize=(8, 5))\n",
    "sns.barplot(\n",
    "    data=gb_feature_importance_df,\n",
    "    x='Importance',\n",
    "    y='Feature',\n",
    "    palette='viridis'\n",
    ")\n",
    "plt.title(\"Gradient Boosting Feature Importances\")\n",
    "plt.xlabel(\"Importance Score\")\n",
    "plt.ylabel(\"Feature\")\n",
    "plt.tight_layout()\n",
    "plt.show()"
   ]
  },
  {
   "cell_type": "markdown",
   "metadata": {},
   "source": [
    "### ✅ Sanity Check Summary\n",
    "\n",
    "The **Gradient Boosting** model significantly outperformed the baseline accuracy of **0.695** (DummyClassifier), indicating that it successfully learned relevant patterns from the data.\n",
    "\n",
    "- **Train Accuracy:** 0.842  \n",
    "- **Validation Accuracy:** 0.806 \n",
    "- **Test Accuracy:** 0.812\n",
    "- **Overall Accuracy:** 0.829  \n",
    "- **Prediction Class Distribution (Test Set):** {0: 503, 1: 140} \n",
    "- **Top Features by Importance:**\n",
    "  - `mb_used`: 48.2%\n",
    "  - `calls`: 22.0%\n",
    "  - `messages`: 19.6%\n",
    "  - `minutes`: 10.2%\n",
    "\n",
    "Gradient Boosting demonstrated consistent performance across all datasets with no evidence of overfitting. Its strong reliance on `mb_used` reflects real-world usage behavior, making it a reliable choice for deployment or further refinement.\n",
    "\n"
   ]
  },
  {
   "cell_type": "markdown",
   "metadata": {},
   "source": [
    "## 📌 Conclusion\n",
    "\n",
    "This project successfully built and evaluated machine learning models to classify Megaline customers into either the Smart or Ultra plan based on their service usage.\n",
    "\n",
    "Exploratory data analysis confirmed the reliability of the dataset and highlighted clear behavioral differences between the two plans—Ultra subscribers tend to have higher usage across data, calls, messages, and minutes.\n",
    "\n",
    "Among all tested approaches, **Gradient Boosting** proved to be the most consistent and generalizable model. It demonstrated solid performance across training, validation, and test datasets without signs of overfitting. The model achieved an overall accuracy of **0.829**, with internet usage (`mb_used`) emerging as the most influential feature, followed by calls, messages, and minutes.\n",
    "\n",
    "While **Random Forest** was competitive in accuracy, Gradient Boosting showed more stable performance and a clearer separation between classes, making it better suited for real-world application.\n",
    "\n",
    "In conclusion, Megaline can use the Gradient Boosting model to offer plan recommendations that align with actual user behavior—supporting data-informed decisions to optimize plan offerings and enhance customer satisfaction.\n"
   ]
  },
  {
   "cell_type": "code",
   "execution_count": null,
   "metadata": {},
   "outputs": [],
   "source": []
  }
 ],
 "metadata": {
  "kernelspec": {
   "display_name": "Python 3 (ipykernel)",
   "language": "python",
   "name": "python3"
  },
  "language_info": {
   "codemirror_mode": {
    "name": "ipython",
    "version": 3
   },
   "file_extension": ".py",
   "mimetype": "text/x-python",
   "name": "python",
   "nbconvert_exporter": "python",
   "pygments_lexer": "ipython3",
   "version": "3.12.7"
  }
 },
 "nbformat": 4,
 "nbformat_minor": 4
}
