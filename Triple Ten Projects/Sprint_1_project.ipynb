{
 "cells": [
  {
   "cell_type": "markdown",
   "metadata": {
    "id": "JKIIqy01lgHq"
   },
   "source": [
    "# Project: Data Analysis with Pandas\n",
    "\n",
    "In this project, you will work with a dataset containing information about movies and shows. You will use the pandas library to read, clean, and analyze the data. This project will help you practice working with DataFrames, indexing, and data manipulation using pandas.\n",
    "\n",
    "\n",
    "## Dataset Description\n",
    "\n",
    "The dataset `movies_and_shows.csv` contains information about various movies and shows, including:\n",
    "\n",
    "- **name**: The name of the actor or actress.\n",
    "- **Character**: The character they played.\n",
    "- **r0le**: The role type (e.g., ACTOR).\n",
    "- **TITLE**: The title of the movie or show.\n",
    "- **Type**: Whether it's a MOVIE or SHOW.\n",
    "- **release Year**: The year it was released.\n",
    "- **genres**: A list of genres the movie or show belongs to.\n",
    "- **imdb sc0re**: The IMDb score of the movie or show.\n",
    "- **imdb v0tes**: The number of votes on IMDb.\n",
    "\n",
    "Here's a small sample of the dataset:\n",
    "\n",
    "| name              | Character                         | r0le   | TITLE        |  Type | release Year | genres             | imdb sc0re | imdb v0tes |\n",
    "|-------------------|-----------------------------------|--------|--------------|-------|--------------|--------------------|------------|------------|\n",
    "| Robert De Niro    | Travis Bickle                     | ACTOR  | Taxi Driver  | MOVIE | 1976         | ['drama', 'crime'] | 8.2        | 808582     |\n",
    "| Jodie Foster      | Iris Steensma                     | ACTOR  | Taxi Driver  | MOVIE | 1976         | ['drama', 'crime'] | 8.2        | 808582     |\n",
    "| Albert Brooks     | Tom                               | ACTOR  | Taxi Driver  | MOVIE | 1976         | ['drama', 'crime'] | 8.2        | 808582     |\n",
    "| Harvey Keitel     | Matthew 'Sport' Higgins           | ACTOR  | Taxi Driver  | MOVIE | 1976         | ['drama', 'crime'] | 8.2        | 808582     |\n",
    "| Cybill Shepherd   | Betsy                             | ACTOR  | Taxi Driver  | MOVIE | 1976         | ['drama', 'crime'] | 8.2        | 808582     |\n",
    "\n"
   ]
  },
  {
   "cell_type": "markdown",
   "metadata": {
    "id": "csnpkGaRlkVj"
   },
   "source": [
    "## Getting Started\n",
    "\n",
    "Let's begin by setting up our environment.\n",
    "\n",
    "### Importing Libraries\n",
    "\n",
    "First, we need to import the necessary libraries.\n",
    "\n",
    "**Instructions:**\n",
    "\n",
    "- Import the `pandas` library, which we will use for data manipulation."
   ]
  },
  {
   "cell_type": "code",
   "execution_count": 1,
   "metadata": {
    "id": "xVSzQhyjlg2F"
   },
   "outputs": [],
   "source": [
    "#Import the pandas library as 'pd'\n",
    "import pandas as pd\n"
   ]
  },
  {
   "cell_type": "markdown",
   "metadata": {
    "id": "C2Ks4kU9lsH7"
   },
   "source": [
    "We will load the dataset into a pandas DataFrame to begin our analysis.\n",
    "\n",
    "**Instructions:**\n",
    "\n",
    "- Read the `movies_and_shows.csv` file into a DataFrame. It is in the /datasets directory so the full path to include in the read_csv method will be \"/datasets/movies_and_shows.csv\"\n",
    "- Display the first few rows of the DataFrame to get an initial look at the data.\n"
   ]
  },
  {
   "cell_type": "code",
   "execution_count": 2,
   "metadata": {
    "id": "afwv-RRIlwcF"
   },
   "outputs": [],
   "source": [
    "# Read the dataset into a DataFrame\n",
    "df = pd.read_csv('/datasets/movies_and_shows.csv')\n",
    "\n",
    "\n"
   ]
  },
  {
   "cell_type": "code",
   "execution_count": 3,
   "metadata": {
    "id": "iHI5NhB6mYel"
   },
   "outputs": [
    {
     "data": {
      "text/html": [
       "<div>\n",
       "<style scoped>\n",
       "    .dataframe tbody tr th:only-of-type {\n",
       "        vertical-align: middle;\n",
       "    }\n",
       "\n",
       "    .dataframe tbody tr th {\n",
       "        vertical-align: top;\n",
       "    }\n",
       "\n",
       "    .dataframe thead th {\n",
       "        text-align: right;\n",
       "    }\n",
       "</style>\n",
       "<table border=\"1\" class=\"dataframe\">\n",
       "  <thead>\n",
       "    <tr style=\"text-align: right;\">\n",
       "      <th></th>\n",
       "      <th>name</th>\n",
       "      <th>Character</th>\n",
       "      <th>r0le</th>\n",
       "      <th>TITLE</th>\n",
       "      <th>Type</th>\n",
       "      <th>release Year</th>\n",
       "      <th>genres</th>\n",
       "      <th>imdb sc0re</th>\n",
       "      <th>imdb v0tes</th>\n",
       "    </tr>\n",
       "  </thead>\n",
       "  <tbody>\n",
       "    <tr>\n",
       "      <th>0</th>\n",
       "      <td>Robert De Niro</td>\n",
       "      <td>Travis Bickle</td>\n",
       "      <td>ACTOR</td>\n",
       "      <td>Taxi Driver</td>\n",
       "      <td>MOVIE</td>\n",
       "      <td>1976</td>\n",
       "      <td>['drama', 'crime']</td>\n",
       "      <td>8.2</td>\n",
       "      <td>808582.0</td>\n",
       "    </tr>\n",
       "    <tr>\n",
       "      <th>1</th>\n",
       "      <td>Jodie Foster</td>\n",
       "      <td>Iris Steensma</td>\n",
       "      <td>ACTOR</td>\n",
       "      <td>Taxi Driver</td>\n",
       "      <td>MOVIE</td>\n",
       "      <td>1976</td>\n",
       "      <td>['drama', 'crime']</td>\n",
       "      <td>8.2</td>\n",
       "      <td>808582.0</td>\n",
       "    </tr>\n",
       "    <tr>\n",
       "      <th>2</th>\n",
       "      <td>Albert Brooks</td>\n",
       "      <td>Tom</td>\n",
       "      <td>ACTOR</td>\n",
       "      <td>Taxi Driver</td>\n",
       "      <td>MOVIE</td>\n",
       "      <td>1976</td>\n",
       "      <td>['drama', 'crime']</td>\n",
       "      <td>8.2</td>\n",
       "      <td>808582.0</td>\n",
       "    </tr>\n",
       "    <tr>\n",
       "      <th>3</th>\n",
       "      <td>Harvey Keitel</td>\n",
       "      <td>Matthew 'Sport' Higgins</td>\n",
       "      <td>ACTOR</td>\n",
       "      <td>Taxi Driver</td>\n",
       "      <td>MOVIE</td>\n",
       "      <td>1976</td>\n",
       "      <td>['drama', 'crime']</td>\n",
       "      <td>8.2</td>\n",
       "      <td>808582.0</td>\n",
       "    </tr>\n",
       "    <tr>\n",
       "      <th>4</th>\n",
       "      <td>Cybill Shepherd</td>\n",
       "      <td>Betsy</td>\n",
       "      <td>ACTOR</td>\n",
       "      <td>Taxi Driver</td>\n",
       "      <td>MOVIE</td>\n",
       "      <td>1976</td>\n",
       "      <td>['drama', 'crime']</td>\n",
       "      <td>8.2</td>\n",
       "      <td>808582.0</td>\n",
       "    </tr>\n",
       "  </tbody>\n",
       "</table>\n",
       "</div>"
      ],
      "text/plain": [
       "              name                Character   r0le        TITLE   Type  \\\n",
       "0   Robert De Niro            Travis Bickle  ACTOR  Taxi Driver  MOVIE   \n",
       "1     Jodie Foster            Iris Steensma  ACTOR  Taxi Driver  MOVIE   \n",
       "2    Albert Brooks                      Tom  ACTOR  Taxi Driver  MOVIE   \n",
       "3    Harvey Keitel  Matthew 'Sport' Higgins  ACTOR  Taxi Driver  MOVIE   \n",
       "4  Cybill Shepherd                    Betsy  ACTOR  Taxi Driver  MOVIE   \n",
       "\n",
       "   release Year              genres  imdb sc0re  imdb v0tes  \n",
       "0          1976  ['drama', 'crime']         8.2    808582.0  \n",
       "1          1976  ['drama', 'crime']         8.2    808582.0  \n",
       "2          1976  ['drama', 'crime']         8.2    808582.0  \n",
       "3          1976  ['drama', 'crime']         8.2    808582.0  \n",
       "4          1976  ['drama', 'crime']         8.2    808582.0  "
      ]
     },
     "execution_count": 3,
     "metadata": {},
     "output_type": "execute_result"
    }
   ],
   "source": [
    "# Display the first few rows of the DataFrame\n",
    "df.head()"
   ]
  },
  {
   "cell_type": "markdown",
   "metadata": {
    "id": "otEIbWKZmmaT"
   },
   "source": [
    "Understanding the structure and content of your data is crucial before performing any analysis.\n"
   ]
  },
  {
   "cell_type": "code",
   "execution_count": 4,
   "metadata": {
    "id": "v7Oa8Zuzmjo1"
   },
   "outputs": [
    {
     "name": "stdout",
     "output_type": "stream",
     "text": [
      "<class 'pandas.core.frame.DataFrame'>\n",
      "RangeIndex: 85579 entries, 0 to 85578\n",
      "Data columns (total 9 columns):\n",
      " #   Column        Non-Null Count  Dtype  \n",
      "---  ------        --------------  -----  \n",
      " 0      name       85579 non-null  object \n",
      " 1   Character     85579 non-null  object \n",
      " 2   r0le          85579 non-null  object \n",
      " 3   TITLE         85578 non-null  object \n",
      " 4     Type        85579 non-null  object \n",
      " 5   release Year  85579 non-null  int64  \n",
      " 6   genres        85579 non-null  object \n",
      " 7   imdb sc0re    80970 non-null  float64\n",
      " 8   imdb v0tes    80853 non-null  float64\n",
      "dtypes: float64(2), int64(1), object(6)\n",
      "memory usage: 5.9+ MB\n"
     ]
    },
    {
     "data": {
      "text/plain": [
       "None"
      ]
     },
     "metadata": {},
     "output_type": "display_data"
    },
    {
     "data": {
      "text/plain": [
       "Index(['   name', 'Character', 'r0le', 'TITLE', '  Type', 'release Year',\n",
       "       'genres', 'imdb sc0re', 'imdb v0tes'],\n",
       "      dtype='object')"
      ]
     },
     "execution_count": 4,
     "metadata": {},
     "output_type": "execute_result"
    }
   ],
   "source": [
    "# Get information about the DataFrame and print the column names\n",
    "display(df.info())\n",
    "df.columns\n"
   ]
  },
  {
   "cell_type": "markdown",
   "metadata": {
    "id": "_rsPAidUm3lS"
   },
   "source": [
    "## Task 1: Data Cleaning\n",
    "\n",
    "Let's clean the data to fix issues with the column names\n",
    "\n",
    "**Resolve issues:**\n",
    "- Rename the columns to correct any errors and make them consistent.\n"
   ]
  },
  {
   "cell_type": "code",
   "execution_count": 5,
   "metadata": {
    "id": "FkIUzgKPm4Rz"
   },
   "outputs": [],
   "source": [
    "# Rename columns to make them consistent and correct errors\n",
    "df.columns = df.columns.str.lower().str.strip().str.replace('0', 'o').str.replace(' ', '_')\n"
   ]
  },
  {
   "cell_type": "code",
   "execution_count": 6,
   "metadata": {
    "id": "cHi0aQgunByj"
   },
   "outputs": [
    {
     "data": {
      "text/plain": [
       "Index(['name', 'character', 'role', 'title', 'type', 'release_year', 'genres',\n",
       "       'imdb_score', 'imdb_votes'],\n",
       "      dtype='object')"
      ]
     },
     "execution_count": 6,
     "metadata": {},
     "output_type": "execute_result"
    }
   ],
   "source": [
    "# Print the updated column names to confirm changes\n",
    "df.columns"
   ]
  },
  {
   "cell_type": "markdown",
   "metadata": {
    "id": "z6ShKY5boqj1"
   },
   "source": [
    "## Task : Correcting a Misspelled Name in the Data\n",
    "\n",
    "While analyzing the dataset, you notice that some names are misspelled or contain special characters due to encoding issues. Accurate data is essential for reporting and recommendations, so let’s correct one of these entries.\n",
    "\n"
   ]
  },
  {
   "cell_type": "code",
   "execution_count": 7,
   "metadata": {
    "id": "JeEDNCYsoo0z"
   },
   "outputs": [
    {
     "data": {
      "text/plain": [
       "name            In??s Prieto\n",
       "character              Fanny\n",
       "role                   ACTOR\n",
       "title                Lokillo\n",
       "type               the movie\n",
       "release_year            2021\n",
       "genres            ['comedy']\n",
       "imdb_score               3.8\n",
       "imdb_votes              68.0\n",
       "Name: 85576, dtype: object"
      ]
     },
     "execution_count": 7,
     "metadata": {},
     "output_type": "execute_result"
    }
   ],
   "source": [
    "# Locate the row with the incorrect name\n",
    "df.loc[85576]"
   ]
  },
  {
   "cell_type": "code",
   "execution_count": 8,
   "metadata": {
    "id": "US2yweQ3RFTE"
   },
   "outputs": [],
   "source": [
    "# Correct the name\n",
    "df.loc[85576, 'name'] = 'Ines Prieto'"
   ]
  },
  {
   "cell_type": "code",
   "execution_count": 9,
   "metadata": {
    "id": "IgEGbcNVqLnU"
   },
   "outputs": [
    {
     "data": {
      "text/plain": [
       "name            Ines Prieto\n",
       "character             Fanny\n",
       "role                  ACTOR\n",
       "title               Lokillo\n",
       "type              the movie\n",
       "release_year           2021\n",
       "genres           ['comedy']\n",
       "imdb_score              3.8\n",
       "imdb_votes             68.0\n",
       "Name: 85576, dtype: object"
      ]
     },
     "execution_count": 9,
     "metadata": {},
     "output_type": "execute_result"
    }
   ],
   "source": [
    "# Verify the correction\n",
    "df.loc[85576]"
   ]
  },
  {
   "cell_type": "markdown",
   "metadata": {
    "id": "vLIvSF0hsYpE"
   },
   "source": [
    "## Finding All Movies and Shows Featuring Ines Prieto\n",
    "\n",
    "Now that we've corrected the spelling of \"Ines Prieto\" in the dataset, let's find all the TV shows and movies she has acted in. This type of filtering is helpful for generating actor-specific profiles or building a list of their works.\n",
    "\n"
   ]
  },
  {
   "cell_type": "code",
   "execution_count": 10,
   "metadata": {
    "id": "eksJ9sXXr1UU"
   },
   "outputs": [],
   "source": [
    "# Filter rows where the actor's name is \"Ines Prieto\" and display the title, release_year, genres, and imdb_score\n",
    "actor = df[df['name'] == 'Ines Prieto'][['title', 'release_year', 'imdb_score', 'genres']]\n",
    "\n"
   ]
  },
  {
   "cell_type": "code",
   "execution_count": 11,
   "metadata": {
    "id": "vYrm6MhERlZc"
   },
   "outputs": [
    {
     "data": {
      "text/html": [
       "<div>\n",
       "<style scoped>\n",
       "    .dataframe tbody tr th:only-of-type {\n",
       "        vertical-align: middle;\n",
       "    }\n",
       "\n",
       "    .dataframe tbody tr th {\n",
       "        vertical-align: top;\n",
       "    }\n",
       "\n",
       "    .dataframe thead th {\n",
       "        text-align: right;\n",
       "    }\n",
       "</style>\n",
       "<table border=\"1\" class=\"dataframe\">\n",
       "  <thead>\n",
       "    <tr style=\"text-align: right;\">\n",
       "      <th></th>\n",
       "      <th>title</th>\n",
       "      <th>release_year</th>\n",
       "      <th>imdb_score</th>\n",
       "      <th>genres</th>\n",
       "    </tr>\n",
       "  </thead>\n",
       "  <tbody>\n",
       "    <tr>\n",
       "      <th>85576</th>\n",
       "      <td>Lokillo</td>\n",
       "      <td>2021</td>\n",
       "      <td>3.8</td>\n",
       "      <td>['comedy']</td>\n",
       "    </tr>\n",
       "  </tbody>\n",
       "</table>\n",
       "</div>"
      ],
      "text/plain": [
       "         title  release_year  imdb_score      genres\n",
       "85576  Lokillo          2021         3.8  ['comedy']"
      ]
     },
     "execution_count": 11,
     "metadata": {},
     "output_type": "execute_result"
    }
   ],
   "source": [
    "# Display the result\n",
    "actor"
   ]
  },
  {
   "cell_type": "markdown",
   "metadata": {
    "id": "HtmXfQHHutNk"
   },
   "source": [
    "## Finding Highly Rated Movies\n",
    "\n",
    "We want to identify movies with an IMDb rating of at least **9.0**. This list could be helpful for curating a \"Top Movies\" section based on high ratings.\n",
    "\n",
    "\n",
    "\n",
    "1. **Filter for High IMDb Scores**:\n",
    "   - First, filter the DataFrame to include only rows where the `imdb_score` is greater than 9.0.\n",
    "\n",
    "2. **Extract the Titles**:\n",
    "   - From this filtered DataFrame, select only the `title` column, which contains the names of the movies.\n",
    "\n",
    "3. **Get Unique Titles**:\n",
    "   - Convert the resulting list of titles to a set to remove any duplicate titles. Using `set()` will keep only unique movie names.\n",
    "\n",
    "   - *Example*: `unique_titles = set(high_score_titles)`\n",
    "\n",
    "4. **Print the Unique Titles**:\n",
    "   - Display the final set of unique movie titles to see the list of top-rated movies.\n"
   ]
  },
  {
   "cell_type": "code",
   "execution_count": 12,
   "metadata": {
    "id": "B_smQ3cAtAXk"
   },
   "outputs": [
    {
     "name": "stdout",
     "output_type": "stream",
     "text": [
      "{'Breaking Bad', 'Our Planet', 'My Mister', 'The Last Dance', 'Kota Factory', 'Avatar: The Last Airbender', 'Reply 1988', 'Major'}\n"
     ]
    }
   ],
   "source": [
    "# Filter for movies with an IMDb score above 9.0\n",
    "high_score_df = df[df['imdb_score']> 9.0]\n",
    "\n",
    "# Extract the 'title' column from the filtered DataFrame\n",
    "high_score_titles = high_score_df['title']\n",
    "\n",
    "# Get a unique set of titles\n",
    "unique_titles = set(high_score_titles)\n",
    "\n",
    "# Print the unique titles\n",
    "print(unique_titles)\n"
   ]
  },
  {
   "cell_type": "markdown",
   "metadata": {
    "id": "PrlORh6mwoZs"
   },
   "source": [
    "## Creating a Function to Find Unique Top-Rated Movies\n",
    "\n",
    "In this task, we’ll create a function to find unique movies with an IMDb score above a certain threshold that the user provides.\n",
    "\n",
    "\n",
    "\n",
    "1. **Define the Function**:\n",
    "   - Start by creating a function called `get_unique_top_movies` that takes one parameter, `min_score`.\n",
    "\n",
    "2. **Filter the Data**:\n",
    "   - Inside the function, create a new variable (e.g., `high_score_df`) that stores rows where the `imdb_score` is greater than or equal to `min_score`.\n",
    "\n",
    "3. **Extract Movie Titles**:\n",
    "   - In a new variable (e.g., `high_score_titles`), select the `title` column from the filtered DataFrame.\n",
    "\n",
    "4. **Remove Duplicate Titles**:\n",
    "   - Convert `high_score_titles` to a set using `set(high_score_titles)` to automatically remove duplicates, ensuring each title appears only once.\n",
    "\n",
    "5. **Return the Unique Titles**:\n",
    "   - Make sure the function returns the `unique_titles` set.\n"
   ]
  },
  {
   "cell_type": "code",
   "execution_count": 13,
   "metadata": {
    "id": "pamLDfY9vErT"
   },
   "outputs": [],
   "source": [
    "# Define the function\n",
    "def get_unique_top_movies(min_score):\n",
    "    # Filter for movies with IMDb score above min_score\n",
    "    high_score_df = df[df['imdb_score']>= min_score]\n",
    "    \n",
    "\n",
    "\n",
    "    # Extract the 'title' column\n",
    "    high_score_titles = high_score_df['title']\n",
    "\n",
    "\n",
    "    # Remove duplicate titles\n",
    "    unique_titles = set(high_score_titles)\n",
    "    \n",
    "\n",
    "\n",
    "    # Return unique titles\n",
    "    return unique_titles\n",
    "\n"
   ]
  },
  {
   "cell_type": "code",
   "execution_count": 14,
   "metadata": {
    "id": "kUUJMTWgww1E"
   },
   "outputs": [
    {
     "name": "stdout",
     "output_type": "stream",
     "text": [
      "{'Okupas', 'Breaking Bad', 'Our Planet', 'Hunter x Hunter', 'Attack on Titan', 'My Mister', 'DEATH NOTE', 'Leah Remini: Scientology and the Aftermath', 'The Last Dance', 'Kota Factory', 'Avatar: The Last Airbender', 'Reply 1988', 'Arcane', 'Major'}\n"
     ]
    }
   ],
   "source": [
    "# Test the function\n",
    "print(get_unique_top_movies(9.0))"
   ]
  },
  {
   "cell_type": "markdown",
   "metadata": {
    "id": "YvWTywMQxynt"
   },
   "source": [
    "## Creating a Function to Find Top Movies from a Specific Decade\n",
    "\n",
    "Let’s create a function to retrieve movies from a particular decade with high IMDb ratings. This function can be useful for generating lists of top-rated movies from different time periods.\n",
    "\n",
    "1. **Define the Function**:\n",
    "   - Create a function called `get_top_movies_from_decade` that accepts `decade_start` and `min_score` as parameters.\n",
    "\n",
    "2. **Filter by Decade**:\n",
    "   - Inside the function, filter the DataFrame to include only movies where `release_year` is within the specified decade.\n",
    "   - *Hint*: You can achieve this by checking that `release_year` is between `decade_start` and `decade_start + 9`\n",
    "\n",
    "3. **Filter by IMDb Score**:\n",
    "   - Further filter this subset to include only movies where `imdb_score` is greater than or equal to `min_score`.\n",
    "\n",
    "4. **Extract Movie Titles**:\n",
    "   - From the resulting DataFrame, select the `title` column and remove duplicates using set().\n",
    "\n",
    "5. **Return the List of Titles**:\n",
    "   - Return the set of the best movies from that decade.\n",
    "\n",
    "By completing this task, you’ll have a function that returns unique, top-rated movies from a specified decade. This is useful for highlighting standout movies from different eras, perfect for “Best of the Decade” features!"
   ]
  },
  {
   "cell_type": "code",
   "execution_count": 15,
   "metadata": {
    "id": "H6pJpElgxxtT"
   },
   "outputs": [],
   "source": [
    "# Define the function\n",
    "def get_top_movies_from_decade(decade_start, min_score):\n",
    "    # Filter for movies released within the decade\n",
    "    release_year_df = df[(df['release_year']>= decade_start) & (df['release_year']<= decade_start +9) ]\n",
    "    \n",
    "\n",
    "\n",
    "    # Further filter by IMDb score\n",
    "    high_score_titles = release_year_df[release_year_df['imdb_score']>= min_score]\n",
    "\n",
    "\n",
    "    # Extract and remove duplicate titles\n",
    "    high_score_titles = high_score_titles['title']\n",
    "    unique_titles = set(high_score_titles)\n",
    "\n",
    "\n",
    "    # Return unique titles\n",
    "    return unique_titles\n"
   ]
  },
  {
   "cell_type": "code",
   "execution_count": 16,
   "metadata": {
    "id": "r_q7imodyIbz"
   },
   "outputs": [
    {
     "name": "stdout",
     "output_type": "stream",
     "text": [
      "{'Forrest Gump', 'L??on: The Professional', 'One Piece', 'Cowboy Bebop', 'Neon Genesis Evangelion', 'Se7en', 'Bill Hicks: Revelations', 'GoodFellas'}\n"
     ]
    }
   ],
   "source": [
    "# Test the function\n",
    "print(get_top_movies_from_decade(1990, 8.5))"
   ]
  },
  {
   "cell_type": "markdown",
   "metadata": {
    "id": "5olBh5JRzYgN"
   },
   "source": [
    "\n",
    "## Creating a Function to List All Actors in a Given Title\n",
    "\n",
    "Imagine you want to list all the actors in a specific movie or show. Let’s create a function that takes a `title` as input and returns the names of all actors in that title, combined into a single string.\n",
    "\n",
    "\n",
    "1. **Define the Function**:\n",
    "   - Create a function called `get_actors_for_title` that accepts one parameter, `title`.\n",
    "   \n",
    "2. **Filter by Title and Role**:\n",
    "   - Inside the function, filter the DataFrame to select rows where the `title` column matches the provided `title` parameter and the `role` column is `\"ACTOR\"` (to ensure you only retrieve actors).\n",
    "\n",
    "3. **Extract Actor Names**:\n",
    "   - From this filtered DataFrame, select only the `name` column to get the actor names.\n",
    "\n",
    "4. **Combine Names into a Single String**:\n",
    "   - Use `', '.join()` to combine the list of actor names into a single string, with each name separated by a comma.\n",
    "\n",
    "5. **Return the Result**:\n",
    "   - Return the resulting string of actor names.\n",
    "\n",
    "\n",
    "This function will allow you to retrieve and format a list of actors for any movie or show title, which is useful for creating cast lists or displaying actors for specific titles."
   ]
  },
  {
   "cell_type": "code",
   "execution_count": 17,
   "metadata": {
    "id": "hSCm5mYRziCD"
   },
   "outputs": [],
   "source": [
    "# Define the function\n",
    "def get_actors_for_title(title):\n",
    "    # Filter for rows with the specified title and role as 'ACTOR'\n",
    "    title_actor_df = df[(df['title'] == title)&(df['role']== 'ACTOR')]\n",
    "\n",
    "\n",
    "    # Extract the 'name' column for actor names\n",
    "    actor_names = title_actor_df['name']\n",
    "\n",
    "    # Combine names into a single string\n",
    "    result = ', '.join(actor_names)\n",
    "\n",
    "    # Return the result\n",
    "    return result\n",
    "\n"
   ]
  },
  {
   "cell_type": "code",
   "execution_count": 18,
   "metadata": {
    "id": "BCnnBFUdzj20"
   },
   "outputs": [
    {
     "name": "stdout",
     "output_type": "stream",
     "text": [
      "Robert De Niro, Jodie Foster, Albert Brooks, Harvey Keitel, Cybill Shepherd, Peter Boyle, Leonard Harris, Diahnne Abbott, Gino Ardito, Martin Scorsese, Murray Moston, Richard Higgs, Bill Minkin, Bob Maroff, Victor Argo, Joe Spinell, Robinson Frank Adu, Brenda Dickson, Norman Matlock, Harry Northup, Harlan Cary Poe, Steven Prince, Peter Savage, Nicholas Shields, Ralph S. Singleton, Annie Gagen, Carson Grant, Mary-Pat Green, Debbi Morgan, Don Stroud, Copper Cunningham, Garth Avery, Nat Grant, Billie Perkins, Catherine Scorsese, Charles Scorsese, Odunlade Adekola, Ijeoma Grace Agu\n"
     ]
    }
   ],
   "source": [
    "# Test the function\n",
    "print(get_actors_for_title(\"Taxi Driver\"))"
   ]
  },
  {
   "cell_type": "markdown",
   "metadata": {
    "id": "Iu7Zzk7M0o_9"
   },
   "source": [
    "## Creating a Function to Categorize Movies by IMDb Score\n",
    "\n",
    "Let’s categorize movies and shows based on their IMDb scores to provide a quick evaluation of their popularity or quality. We’ll create a function that takes in a `title` and returns a rating category based on the movie or show’s IMDb score.\n",
    "\n",
    "### Rating Categories\n",
    "\n",
    "- **Excellent**: IMDb score of 9.0 or higher\n",
    "- **Good**: IMDb score between 7.0 and 8.9\n",
    "- **Average**: IMDb score between 5.0 and 6.9\n",
    "- **Low**: IMDb score below 5.0\n",
    "\n",
    "\n",
    "1. **Define the Function**:\n",
    "   - Create a function called `categorize_imdb_score` that accepts one parameter, `title`.\n",
    "\n",
    "2. **Filter by Title**:\n",
    "   - Inside the function, filter the DataFrame to find the row where `title` matches the given title.\n",
    "\n",
    "3. **Retrieve IMDb Score**:\n",
    "   - If the title exists, retrieve the `imdb_score` for that movie or show.\n",
    "   - If the title is not found, return `\"Title not found\"`.\n",
    "\n",
    "4. **Categorize Score with `if-else`**:\n",
    "   - Use `if-elif-else` statements to evaluate the `imdb_score` and return one of the rating categories based on the ranges provided.\n",
    "\n",
    "5. **Return the Category**:\n",
    "   - Return the appropriate category based on the score.\n",
    "\n",
    "This function allows you to quickly categorize movies or shows by their IMDb score, which could be helpful for creating rating tags or recommending top-rated content."
   ]
  },
  {
   "cell_type": "code",
   "execution_count": 19,
   "metadata": {
    "id": "ZfrrGY7h0zYT"
   },
   "outputs": [],
   "source": [
    "# Define the function\n",
    "def categorize_imdb_score(title):\n",
    "    # Filter for the row with the specified title\n",
    "    row = df[df['title']== title]\n",
    "    \n",
    "\n",
    "    # Check if title exists\n",
    "    if title in df['title'].values:\n",
    "        imdb_score = df[df['title']== title]['imdb_score']\n",
    "        \n",
    "    else:\n",
    "        return \"Title not found\"\n",
    "    # Retrieve the IMDb score for the movie\n",
    "    imdb_score = set(imdb_score)\n",
    "    \n",
    "    # Categorize score using if-else and return the ranking accordingly\n",
    "    ranking = []\n",
    "    for score in imdb_score:\n",
    "        if score >= 9.0:\n",
    "            result = \"Excellent\"\n",
    "        elif score >= 7.0 and score <= 8.9:\n",
    "            result = \"Good\"\n",
    "        elif score >= 5.0 and score <= 6.9:\n",
    "            result = \"Average\"\n",
    "        else:\n",
    "            result = \"Low\"\n",
    "        ranking.append(result)\n",
    "    \n",
    "        \n",
    "    return ranking\n"
   ]
  },
  {
   "cell_type": "code",
   "execution_count": 20,
   "metadata": {
    "id": "4wqHjcFZ01Qk"
   },
   "outputs": [
    {
     "name": "stdout",
     "output_type": "stream",
     "text": [
      "['Good', 'Average']\n"
     ]
    }
   ],
   "source": [
    "# Test the function\n",
    "print(categorize_imdb_score(\"Taxi Driver\"))"
   ]
  }
 ],
 "metadata": {
  "ExecuteTimeLog": [
   {
    "duration": 296,
    "start_time": "2025-04-05T03:12:08.693Z"
   },
   {
    "duration": 6,
    "start_time": "2025-04-05T03:14:03.701Z"
   },
   {
    "duration": 153,
    "start_time": "2025-04-05T03:14:28.998Z"
   },
   {
    "duration": 13,
    "start_time": "2025-04-05T03:14:41.059Z"
   },
   {
    "duration": 216,
    "start_time": "2025-04-05T03:15:54.433Z"
   },
   {
    "duration": 25,
    "start_time": "2025-04-05T03:19:10.845Z"
   },
   {
    "duration": 8,
    "start_time": "2025-04-05T03:26:25.589Z"
   },
   {
    "duration": 4,
    "start_time": "2025-04-05T03:26:41.945Z"
   },
   {
    "duration": 4,
    "start_time": "2025-04-05T03:30:32.377Z"
   },
   {
    "duration": 4,
    "start_time": "2025-04-05T03:32:17.697Z"
   },
   {
    "duration": 5,
    "start_time": "2025-04-05T03:32:26.553Z"
   },
   {
    "duration": 5,
    "start_time": "2025-04-05T03:32:45.804Z"
   },
   {
    "duration": 159,
    "start_time": "2025-04-05T06:09:12.901Z"
   },
   {
    "duration": 342,
    "start_time": "2025-04-05T06:09:36.349Z"
   },
   {
    "duration": 150,
    "start_time": "2025-04-05T06:09:39.145Z"
   },
   {
    "duration": 13,
    "start_time": "2025-04-05T06:09:41.062Z"
   },
   {
    "duration": 26,
    "start_time": "2025-04-05T06:09:44.285Z"
   },
   {
    "duration": 9,
    "start_time": "2025-04-05T06:09:49.501Z"
   },
   {
    "duration": 5,
    "start_time": "2025-04-05T06:09:51.268Z"
   },
   {
    "duration": 4,
    "start_time": "2025-04-05T06:09:54.970Z"
   },
   {
    "duration": 5,
    "start_time": "2025-04-05T06:09:58.016Z"
   },
   {
    "duration": 5,
    "start_time": "2025-04-05T06:10:00.277Z"
   },
   {
    "duration": 292,
    "start_time": "2025-04-05T06:10:04.807Z"
   },
   {
    "duration": 7,
    "start_time": "2025-04-05T06:11:09.272Z"
   },
   {
    "duration": 10,
    "start_time": "2025-04-05T06:11:16.629Z"
   },
   {
    "duration": 15,
    "start_time": "2025-04-05T06:11:31.396Z"
   },
   {
    "duration": 203,
    "start_time": "2025-04-05T06:12:06.651Z"
   },
   {
    "duration": 269,
    "start_time": "2025-04-05T06:12:27.755Z"
   },
   {
    "duration": 42,
    "start_time": "2025-04-05T06:13:56.460Z"
   },
   {
    "duration": 40,
    "start_time": "2025-04-05T06:15:27.258Z"
   },
   {
    "duration": 117,
    "start_time": "2025-04-05T06:16:03.101Z"
   },
   {
    "duration": 43,
    "start_time": "2025-04-05T06:16:10.229Z"
   },
   {
    "duration": 8,
    "start_time": "2025-04-05T06:16:32.084Z"
   },
   {
    "duration": 2,
    "start_time": "2025-04-05T06:16:42.313Z"
   },
   {
    "duration": 124,
    "start_time": "2025-04-05T06:16:45.130Z"
   },
   {
    "duration": 9,
    "start_time": "2025-04-05T06:16:46.857Z"
   },
   {
    "duration": 26,
    "start_time": "2025-04-05T06:16:50.273Z"
   },
   {
    "duration": 5,
    "start_time": "2025-04-05T06:16:53.680Z"
   },
   {
    "duration": 4,
    "start_time": "2025-04-05T06:16:55.245Z"
   },
   {
    "duration": 5,
    "start_time": "2025-04-05T06:17:04.665Z"
   },
   {
    "duration": 5,
    "start_time": "2025-04-05T06:17:08.626Z"
   },
   {
    "duration": 5,
    "start_time": "2025-04-05T06:17:10.828Z"
   },
   {
    "duration": 15,
    "start_time": "2025-04-05T06:19:24.627Z"
   },
   {
    "duration": 35,
    "start_time": "2025-04-05T06:19:49.449Z"
   },
   {
    "duration": 10,
    "start_time": "2025-04-05T06:20:09.985Z"
   },
   {
    "duration": 46,
    "start_time": "2025-04-05T06:20:23.722Z"
   },
   {
    "duration": 10,
    "start_time": "2025-04-05T06:20:57.118Z"
   },
   {
    "duration": 304,
    "start_time": "2025-04-05T06:21:26.397Z"
   },
   {
    "duration": 115,
    "start_time": "2025-04-05T06:21:44.975Z"
   },
   {
    "duration": 39,
    "start_time": "2025-04-05T06:23:21.014Z"
   },
   {
    "duration": 6,
    "start_time": "2025-04-05T06:23:37.181Z"
   },
   {
    "duration": 125,
    "start_time": "2025-04-05T06:23:56.350Z"
   },
   {
    "duration": 14,
    "start_time": "2025-04-05T06:26:37.501Z"
   },
   {
    "duration": 4,
    "start_time": "2025-04-05T06:36:09.555Z"
   },
   {
    "duration": 123,
    "start_time": "2025-04-05T06:36:22.793Z"
   },
   {
    "duration": 9,
    "start_time": "2025-04-05T06:37:44.585Z"
   },
   {
    "duration": 7,
    "start_time": "2025-04-05T06:38:00.110Z"
   },
   {
    "duration": 14,
    "start_time": "2025-04-05T06:43:34.352Z"
   },
   {
    "duration": 5,
    "start_time": "2025-04-05T06:47:49.801Z"
   },
   {
    "duration": 3,
    "start_time": "2025-04-05T06:52:17.281Z"
   },
   {
    "duration": 4,
    "start_time": "2025-04-05T06:52:18.949Z"
   },
   {
    "duration": 3,
    "start_time": "2025-04-05T07:05:50.089Z"
   },
   {
    "duration": 44,
    "start_time": "2025-04-05T07:05:51.993Z"
   },
   {
    "duration": 3,
    "start_time": "2025-04-05T07:07:07.780Z"
   },
   {
    "duration": 5,
    "start_time": "2025-04-05T07:07:10.104Z"
   },
   {
    "duration": 3,
    "start_time": "2025-04-05T07:08:17.301Z"
   },
   {
    "duration": 10,
    "start_time": "2025-04-05T07:08:18.620Z"
   },
   {
    "duration": 3,
    "start_time": "2025-04-05T07:10:45.116Z"
   },
   {
    "duration": 5,
    "start_time": "2025-04-05T07:10:51.898Z"
   },
   {
    "duration": 3,
    "start_time": "2025-04-05T07:12:27.216Z"
   },
   {
    "duration": 6,
    "start_time": "2025-04-05T07:12:28.261Z"
   },
   {
    "duration": 3,
    "start_time": "2025-04-05T07:13:06.833Z"
   },
   {
    "duration": 5,
    "start_time": "2025-04-05T07:13:07.441Z"
   },
   {
    "duration": 3,
    "start_time": "2025-04-05T07:22:34.494Z"
   },
   {
    "duration": 1801,
    "start_time": "2025-04-05T07:22:35.833Z"
   },
   {
    "duration": 4,
    "start_time": "2025-04-05T07:22:52.872Z"
   },
   {
    "duration": 296,
    "start_time": "2025-04-05T07:24:08.877Z"
   },
   {
    "duration": 139,
    "start_time": "2025-04-05T07:24:12.470Z"
   },
   {
    "duration": 14,
    "start_time": "2025-04-05T07:24:13.656Z"
   },
   {
    "duration": 27,
    "start_time": "2025-04-05T07:24:17.889Z"
   },
   {
    "duration": 5,
    "start_time": "2025-04-05T07:24:24.489Z"
   },
   {
    "duration": 4,
    "start_time": "2025-04-05T07:24:25.089Z"
   },
   {
    "duration": 4,
    "start_time": "2025-04-05T07:24:27.434Z"
   },
   {
    "duration": 4,
    "start_time": "2025-04-05T07:24:29.361Z"
   },
   {
    "duration": 6,
    "start_time": "2025-04-05T07:24:30.870Z"
   },
   {
    "duration": 9,
    "start_time": "2025-04-05T07:24:32.857Z"
   },
   {
    "duration": 7,
    "start_time": "2025-04-05T07:24:34.582Z"
   },
   {
    "duration": 5,
    "start_time": "2025-04-05T07:24:37.118Z"
   },
   {
    "duration": 3,
    "start_time": "2025-04-05T07:24:39.090Z"
   },
   {
    "duration": 4,
    "start_time": "2025-04-05T07:24:39.948Z"
   },
   {
    "duration": 4,
    "start_time": "2025-04-05T07:24:42.307Z"
   },
   {
    "duration": 5,
    "start_time": "2025-04-05T07:24:43.377Z"
   },
   {
    "duration": 3,
    "start_time": "2025-04-05T07:24:45.684Z"
   },
   {
    "duration": 7,
    "start_time": "2025-04-05T07:25:48.245Z"
   },
   {
    "duration": 3,
    "start_time": "2025-04-05T07:28:53.614Z"
   },
   {
    "duration": 140,
    "start_time": "2025-04-05T07:29:03.729Z"
   },
   {
    "duration": 12,
    "start_time": "2025-04-05T07:29:04.590Z"
   },
   {
    "duration": 26,
    "start_time": "2025-04-05T07:29:08.549Z"
   },
   {
    "duration": 8,
    "start_time": "2025-04-05T07:29:09.827Z"
   },
   {
    "duration": 4,
    "start_time": "2025-04-05T07:29:10.300Z"
   },
   {
    "duration": 4,
    "start_time": "2025-04-05T07:29:11.662Z"
   },
   {
    "duration": 5,
    "start_time": "2025-04-05T07:29:12.134Z"
   },
   {
    "duration": 4,
    "start_time": "2025-04-05T07:29:12.664Z"
   },
   {
    "duration": 7,
    "start_time": "2025-04-05T07:29:14.026Z"
   },
   {
    "duration": 7,
    "start_time": "2025-04-05T07:29:14.554Z"
   },
   {
    "duration": 6,
    "start_time": "2025-04-05T07:29:15.708Z"
   },
   {
    "duration": 3,
    "start_time": "2025-04-05T07:29:17.721Z"
   },
   {
    "duration": 4,
    "start_time": "2025-04-05T07:29:18.259Z"
   },
   {
    "duration": 4,
    "start_time": "2025-04-05T07:29:20.297Z"
   },
   {
    "duration": 5,
    "start_time": "2025-04-05T07:29:21.577Z"
   },
   {
    "duration": 4,
    "start_time": "2025-04-05T07:29:32.615Z"
   },
   {
    "duration": 3,
    "start_time": "2025-04-05T07:29:38.587Z"
   },
   {
    "duration": 7,
    "start_time": "2025-04-05T07:30:05.806Z"
   },
   {
    "duration": 160,
    "start_time": "2025-04-05T07:30:07.118Z"
   },
   {
    "duration": 285,
    "start_time": "2025-04-05T07:30:19.413Z"
   },
   {
    "duration": 136,
    "start_time": "2025-04-05T07:30:23.354Z"
   },
   {
    "duration": 15,
    "start_time": "2025-04-05T07:30:23.866Z"
   },
   {
    "duration": 32,
    "start_time": "2025-04-05T07:30:25.184Z"
   },
   {
    "duration": 5,
    "start_time": "2025-04-05T07:30:26.234Z"
   },
   {
    "duration": 4,
    "start_time": "2025-04-05T07:30:26.662Z"
   },
   {
    "duration": 5,
    "start_time": "2025-04-05T07:30:27.802Z"
   },
   {
    "duration": 6,
    "start_time": "2025-04-05T07:30:28.293Z"
   },
   {
    "duration": 4,
    "start_time": "2025-04-05T07:30:28.803Z"
   },
   {
    "duration": 8,
    "start_time": "2025-04-05T07:30:30.561Z"
   },
   {
    "duration": 7,
    "start_time": "2025-04-05T07:30:30.890Z"
   },
   {
    "duration": 6,
    "start_time": "2025-04-05T07:30:32.090Z"
   },
   {
    "duration": 3,
    "start_time": "2025-04-05T07:30:33.440Z"
   },
   {
    "duration": 4,
    "start_time": "2025-04-05T07:30:34.065Z"
   },
   {
    "duration": 4,
    "start_time": "2025-04-05T07:30:36.355Z"
   },
   {
    "duration": 5,
    "start_time": "2025-04-05T07:30:39.391Z"
   },
   {
    "duration": 3,
    "start_time": "2025-04-05T07:30:47.819Z"
   },
   {
    "duration": 11,
    "start_time": "2025-04-05T07:30:50.158Z"
   },
   {
    "duration": 5,
    "start_time": "2025-04-05T07:31:12.281Z"
   },
   {
    "duration": 405,
    "start_time": "2025-04-05T07:31:13.217Z"
   },
   {
    "duration": 2,
    "start_time": "2025-04-05T07:31:33.578Z"
   },
   {
    "duration": 12,
    "start_time": "2025-04-05T07:31:34.446Z"
   },
   {
    "duration": 2,
    "start_time": "2025-04-05T07:34:07.464Z"
   },
   {
    "duration": 13,
    "start_time": "2025-04-05T07:34:08.296Z"
   },
   {
    "duration": 3,
    "start_time": "2025-04-05T08:10:36.742Z"
   },
   {
    "duration": 24,
    "start_time": "2025-04-05T08:10:38.152Z"
   },
   {
    "duration": 4,
    "start_time": "2025-04-05T08:15:08.223Z"
   },
   {
    "duration": 25,
    "start_time": "2025-04-05T08:15:08.978Z"
   },
   {
    "duration": 7,
    "start_time": "2025-04-05T08:15:21.247Z"
   },
   {
    "duration": 23,
    "start_time": "2025-04-05T08:15:21.766Z"
   },
   {
    "duration": 4,
    "start_time": "2025-04-05T08:16:07.810Z"
   },
   {
    "duration": 26,
    "start_time": "2025-04-05T08:16:08.651Z"
   },
   {
    "duration": 5,
    "start_time": "2025-04-05T08:16:42.273Z"
   },
   {
    "duration": 27,
    "start_time": "2025-04-05T08:16:42.919Z"
   },
   {
    "duration": 3,
    "start_time": "2025-04-05T08:17:55.255Z"
   },
   {
    "duration": 16,
    "start_time": "2025-04-05T08:17:55.719Z"
   },
   {
    "duration": 3,
    "start_time": "2025-04-05T08:19:13.515Z"
   },
   {
    "duration": 15,
    "start_time": "2025-04-05T08:19:15.312Z"
   },
   {
    "duration": 4,
    "start_time": "2025-04-05T08:19:59.982Z"
   },
   {
    "duration": 21,
    "start_time": "2025-04-05T08:20:00.605Z"
   },
   {
    "duration": 3,
    "start_time": "2025-04-05T08:21:41.687Z"
   },
   {
    "duration": 17,
    "start_time": "2025-04-05T08:21:49.370Z"
   },
   {
    "duration": 4,
    "start_time": "2025-04-05T08:29:14.525Z"
   },
   {
    "duration": 12,
    "start_time": "2025-04-05T08:29:17.232Z"
   },
   {
    "duration": 3,
    "start_time": "2025-04-05T08:29:27.934Z"
   },
   {
    "duration": 11,
    "start_time": "2025-04-05T08:29:28.254Z"
   },
   {
    "duration": 4,
    "start_time": "2025-04-05T08:31:33.502Z"
   },
   {
    "duration": 4,
    "start_time": "2025-04-05T08:32:04.626Z"
   },
   {
    "duration": 18,
    "start_time": "2025-04-05T08:32:06.170Z"
   },
   {
    "duration": 7,
    "start_time": "2025-04-05T08:54:37.737Z"
   },
   {
    "duration": 4,
    "start_time": "2025-04-05T09:03:26.854Z"
   },
   {
    "duration": 34,
    "start_time": "2025-04-05T09:03:27.916Z"
   },
   {
    "duration": 4,
    "start_time": "2025-04-05T09:03:54.137Z"
   },
   {
    "duration": 17,
    "start_time": "2025-04-05T09:03:54.390Z"
   },
   {
    "duration": 3,
    "start_time": "2025-04-05T09:06:03.424Z"
   },
   {
    "duration": 12,
    "start_time": "2025-04-05T09:06:04.158Z"
   },
   {
    "duration": 302,
    "start_time": "2025-04-05T09:44:36.008Z"
   },
   {
    "duration": 140,
    "start_time": "2025-04-05T09:44:36.759Z"
   },
   {
    "duration": 12,
    "start_time": "2025-04-05T09:44:37.755Z"
   },
   {
    "duration": 28,
    "start_time": "2025-04-05T09:44:38.786Z"
   },
   {
    "duration": 5,
    "start_time": "2025-04-05T09:44:39.370Z"
   },
   {
    "duration": 4,
    "start_time": "2025-04-05T09:44:39.652Z"
   },
   {
    "duration": 4,
    "start_time": "2025-04-05T09:44:40.193Z"
   },
   {
    "duration": 4,
    "start_time": "2025-04-05T09:44:40.426Z"
   },
   {
    "duration": 4,
    "start_time": "2025-04-05T09:44:40.684Z"
   },
   {
    "duration": 8,
    "start_time": "2025-04-05T09:44:41.164Z"
   },
   {
    "duration": 6,
    "start_time": "2025-04-05T09:44:41.407Z"
   },
   {
    "duration": 4,
    "start_time": "2025-04-05T09:44:41.920Z"
   },
   {
    "duration": 2,
    "start_time": "2025-04-05T09:44:42.414Z"
   },
   {
    "duration": 3,
    "start_time": "2025-04-05T09:44:42.650Z"
   },
   {
    "duration": 3,
    "start_time": "2025-04-05T09:44:43.160Z"
   },
   {
    "duration": 4,
    "start_time": "2025-04-05T09:44:43.374Z"
   },
   {
    "duration": 4,
    "start_time": "2025-04-05T09:44:43.895Z"
   },
   {
    "duration": 12,
    "start_time": "2025-04-05T09:44:44.450Z"
   },
   {
    "duration": 4,
    "start_time": "2025-04-05T09:44:45.626Z"
   },
   {
    "duration": 11,
    "start_time": "2025-04-05T09:44:46.238Z"
   },
   {
    "duration": 283,
    "start_time": "2025-04-05T10:20:04.979Z"
   },
   {
    "duration": 138,
    "start_time": "2025-04-05T10:20:05.264Z"
   },
   {
    "duration": 13,
    "start_time": "2025-04-05T10:20:05.404Z"
   },
   {
    "duration": 27,
    "start_time": "2025-04-05T10:20:05.418Z"
   },
   {
    "duration": 7,
    "start_time": "2025-04-05T10:20:05.448Z"
   },
   {
    "duration": 4,
    "start_time": "2025-04-05T10:20:05.457Z"
   },
   {
    "duration": 4,
    "start_time": "2025-04-05T10:20:05.463Z"
   },
   {
    "duration": 4,
    "start_time": "2025-04-05T10:20:05.469Z"
   },
   {
    "duration": 4,
    "start_time": "2025-04-05T10:20:05.509Z"
   },
   {
    "duration": 7,
    "start_time": "2025-04-05T10:20:05.515Z"
   },
   {
    "duration": 6,
    "start_time": "2025-04-05T10:20:05.524Z"
   },
   {
    "duration": 5,
    "start_time": "2025-04-05T10:20:05.531Z"
   },
   {
    "duration": 3,
    "start_time": "2025-04-05T10:20:05.537Z"
   },
   {
    "duration": 3,
    "start_time": "2025-04-05T10:20:05.543Z"
   },
   {
    "duration": 4,
    "start_time": "2025-04-05T10:20:05.547Z"
   },
   {
    "duration": 6,
    "start_time": "2025-04-05T10:20:05.552Z"
   },
   {
    "duration": 4,
    "start_time": "2025-04-05T10:20:05.559Z"
   },
   {
    "duration": 11,
    "start_time": "2025-04-05T10:20:05.608Z"
   },
   {
    "duration": 4,
    "start_time": "2025-04-05T10:20:05.620Z"
   },
   {
    "duration": 12,
    "start_time": "2025-04-05T10:20:05.626Z"
   }
  ],
  "colab": {
   "provenance": []
  },
  "kernelspec": {
   "display_name": "Python [conda env:anaconda3-unit2]",
   "language": "python",
   "name": "conda-env-anaconda3-unit2-py"
  },
  "language_info": {
   "codemirror_mode": {
    "name": "ipython",
    "version": 3
   },
   "file_extension": ".py",
   "mimetype": "text/x-python",
   "name": "python",
   "nbconvert_exporter": "python",
   "pygments_lexer": "ipython3",
   "version": "3.7.7"
  },
  "toc": {
   "base_numbering": 1,
   "nav_menu": {},
   "number_sections": true,
   "sideBar": true,
   "skip_h1_title": true,
   "title_cell": "Table of Contents",
   "title_sidebar": "Contents",
   "toc_cell": false,
   "toc_position": {},
   "toc_section_display": true,
   "toc_window_display": true
  }
 },
 "nbformat": 4,
 "nbformat_minor": 4
}
